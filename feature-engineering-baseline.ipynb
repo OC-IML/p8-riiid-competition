{
 "cells": [
  {
   "cell_type": "markdown",
   "metadata": {
    "papermill": {
     "duration": 0.059052,
     "end_time": "2020-11-19T12:29:51.861705",
     "exception": false,
     "start_time": "2020-11-19T12:29:51.802653",
     "status": "completed"
    },
    "tags": []
   },
   "source": [
    "# **Riiid! Answer Correctness Prediction**"
   ]
  },
  {
   "cell_type": "markdown",
   "metadata": {
    "papermill": {
     "duration": 0.054115,
     "end_time": "2020-11-19T12:29:51.971133",
     "exception": false,
     "start_time": "2020-11-19T12:29:51.917018",
     "status": "completed"
    },
    "tags": []
   },
   "source": [
    "## Imports librairies"
   ]
  },
  {
   "cell_type": "code",
   "execution_count": 1,
   "metadata": {
    "execution": {
     "iopub.execute_input": "2020-11-19T12:29:52.091153Z",
     "iopub.status.busy": "2020-11-19T12:29:52.090327Z",
     "iopub.status.idle": "2020-11-19T12:29:53.535811Z",
     "shell.execute_reply": "2020-11-19T12:29:53.536427Z"
    },
    "papermill": {
     "duration": 1.506515,
     "end_time": "2020-11-19T12:29:53.536640",
     "exception": false,
     "start_time": "2020-11-19T12:29:52.030125",
     "status": "completed"
    },
    "tags": []
   },
   "outputs": [],
   "source": [
    "import numpy as np\n",
    "import pandas as pd\n",
    "import time\n",
    "import matplotlib.pyplot as plt\n",
    "import seaborn as sns\n",
    "\n",
    "from sklearn.metrics import roc_auc_score\n",
    "from tqdm.notebook import tqdm"
   ]
  },
  {
   "cell_type": "markdown",
   "metadata": {
    "papermill": {
     "duration": 0.057774,
     "end_time": "2020-11-19T12:29:53.646639",
     "exception": false,
     "start_time": "2020-11-19T12:29:53.588865",
     "status": "completed"
    },
    "tags": []
   },
   "source": [
    "## Functions"
   ]
  },
  {
   "cell_type": "code",
   "execution_count": null,
   "metadata": {
    "papermill": {
     "duration": 0.054692,
     "end_time": "2020-11-19T12:29:53.756266",
     "exception": false,
     "start_time": "2020-11-19T12:29:53.701574",
     "status": "completed"
    },
    "tags": []
   },
   "outputs": [],
   "source": []
  },
  {
   "cell_type": "markdown",
   "metadata": {
    "papermill": {
     "duration": 0.055497,
     "end_time": "2020-11-19T12:29:53.865639",
     "exception": false,
     "start_time": "2020-11-19T12:29:53.810142",
     "status": "completed"
    },
    "tags": []
   },
   "source": [
    "## Data loading\n",
    "\n",
    "We will follow this tutorials : [Competition API Detailed Introduction](https://www.kaggle.com/sohier/competition-api-detailed-introduction) and \n",
    "[Tutorial on reading large datasets](http://https://www.kaggle.com/rohanrao/tutorial-on-reading-large-datasets/)."
   ]
  },
  {
   "cell_type": "code",
   "execution_count": 2,
   "metadata": {
    "execution": {
     "iopub.execute_input": "2020-11-19T12:29:53.988619Z",
     "iopub.status.busy": "2020-11-19T12:29:53.987733Z",
     "iopub.status.idle": "2020-11-19T12:29:54.017829Z",
     "shell.execute_reply": "2020-11-19T12:29:54.018734Z"
    },
    "papermill": {
     "duration": 0.09482,
     "end_time": "2020-11-19T12:29:54.018920",
     "exception": false,
     "start_time": "2020-11-19T12:29:53.924100",
     "status": "completed"
    },
    "tags": []
   },
   "outputs": [
    {
     "name": "stdout",
     "output_type": "stream",
     "text": [
      "CPU times: user 15.9 ms, sys: 5.12 ms, total: 21 ms\n",
      "Wall time: 25.6 ms\n"
     ]
    }
   ],
   "source": [
    "%%time\n",
    "\n",
    "questions_df = pd.read_csv('/kaggle/input/riiid-test-answer-prediction/questions.csv')"
   ]
  },
  {
   "cell_type": "code",
   "execution_count": 3,
   "metadata": {
    "execution": {
     "iopub.execute_input": "2020-11-19T12:29:54.151163Z",
     "iopub.status.busy": "2020-11-19T12:29:54.149966Z",
     "iopub.status.idle": "2020-11-19T12:29:57.544652Z",
     "shell.execute_reply": "2020-11-19T12:29:57.544008Z"
    },
    "papermill": {
     "duration": 3.464764,
     "end_time": "2020-11-19T12:29:57.544794",
     "exception": false,
     "start_time": "2020-11-19T12:29:54.080030",
     "status": "completed"
    },
    "tags": []
   },
   "outputs": [
    {
     "name": "stdout",
     "output_type": "stream",
     "text": [
      "Train size: (1000000, 10)\n",
      "CPU times: user 2.93 s, sys: 330 ms, total: 3.26 s\n",
      "Wall time: 3.39 s\n"
     ]
    }
   ],
   "source": [
    "%%time\n",
    "\n",
    "dtypes = {\n",
    "    \"row_id\": \"int64\",\n",
    "    \"timestamp\": \"int64\",\n",
    "    \"user_id\": \"int32\",\n",
    "    \"content_id\": \"int16\",\n",
    "    \"content_type_id\": \"int8\",\n",
    "    \"task_container_id\": \"int16\",\n",
    "    \"user_answer\": \"int8\",\n",
    "    \"answered_correctly\": \"int8\",\n",
    "    \"prior_question_elapsed_time\": \"float32\", \n",
    "    \"prior_question_had_explanation\": \"boolean\"\n",
    "}\n",
    "\n",
    "train_df = pd.read_csv('/kaggle/input/riiid-test-answer-prediction/train.csv', \n",
    "                       low_memory=False, \n",
    "                       nrows=10**6, \n",
    "                       dtype=dtypes\n",
    "                      )\n",
    "print(\"Train size:\", train_df.shape)"
   ]
  },
  {
   "cell_type": "markdown",
   "metadata": {
    "papermill": {
     "duration": 0.054603,
     "end_time": "2020-11-19T12:29:57.652752",
     "exception": false,
     "start_time": "2020-11-19T12:29:57.598149",
     "status": "completed"
    },
    "tags": []
   },
   "source": [
    "### 'prior_question_had_explanation' (boolean)"
   ]
  },
  {
   "cell_type": "code",
   "execution_count": 4,
   "metadata": {
    "execution": {
     "iopub.execute_input": "2020-11-19T12:29:57.781904Z",
     "iopub.status.busy": "2020-11-19T12:29:57.780787Z",
     "iopub.status.idle": "2020-11-19T12:29:57.826207Z",
     "shell.execute_reply": "2020-11-19T12:29:57.825408Z"
    },
    "papermill": {
     "duration": 0.116574,
     "end_time": "2020-11-19T12:29:57.826356",
     "exception": false,
     "start_time": "2020-11-19T12:29:57.709782",
     "status": "completed"
    },
    "tags": []
   },
   "outputs": [],
   "source": [
    "train_df['prior_question_had_explanation'].fillna(False, inplace=True)\n",
    "train_df.loc[train_df[\"prior_question_had_explanation\"]== True, \"prior_had_explanation_le\"] = 1\n",
    "train_df.loc[train_df[\"prior_question_had_explanation\"]== False, \"prior_had_explanation_le\"] = 0"
   ]
  },
  {
   "cell_type": "code",
   "execution_count": 5,
   "metadata": {
    "execution": {
     "iopub.execute_input": "2020-11-19T12:29:57.964279Z",
     "iopub.status.busy": "2020-11-19T12:29:57.962737Z",
     "iopub.status.idle": "2020-11-19T12:29:57.992728Z",
     "shell.execute_reply": "2020-11-19T12:29:57.993406Z"
    },
    "papermill": {
     "duration": 0.109737,
     "end_time": "2020-11-19T12:29:57.993571",
     "exception": false,
     "start_time": "2020-11-19T12:29:57.883834",
     "status": "completed"
    },
    "tags": []
   },
   "outputs": [
    {
     "data": {
      "text/plain": [
       "0         0\n",
       "1         0\n",
       "2         0\n",
       "3         0\n",
       "4         0\n",
       "         ..\n",
       "999995    1\n",
       "999996    1\n",
       "999997    1\n",
       "999998    1\n",
       "999999    1\n",
       "Name: prior_had_explanation_le, Length: 1000000, dtype: int8"
      ]
     },
     "execution_count": 5,
     "metadata": {},
     "output_type": "execute_result"
    }
   ],
   "source": [
    "train_df = train_df.drop(['prior_question_had_explanation'], axis=1)\n",
    "train_df['prior_had_explanation_le'].astype('int8')"
   ]
  },
  {
   "cell_type": "code",
   "execution_count": 6,
   "metadata": {
    "execution": {
     "iopub.execute_input": "2020-11-19T12:29:58.122374Z",
     "iopub.status.busy": "2020-11-19T12:29:58.121552Z",
     "iopub.status.idle": "2020-11-19T12:29:58.125825Z",
     "shell.execute_reply": "2020-11-19T12:29:58.124916Z"
    },
    "papermill": {
     "duration": 0.067598,
     "end_time": "2020-11-19T12:29:58.126014",
     "exception": false,
     "start_time": "2020-11-19T12:29:58.058416",
     "status": "completed"
    },
    "tags": []
   },
   "outputs": [],
   "source": [
    "\n",
    "#train_only_questions_df['prior_question_had_explanation'].value_counts() / len(train_only_questions_df[~train_only_questions_df['prior_question_had_explanation'].isna()])"
   ]
  },
  {
   "cell_type": "markdown",
   "metadata": {
    "papermill": {
     "duration": 0.0594,
     "end_time": "2020-11-19T12:29:58.243734",
     "exception": false,
     "start_time": "2020-11-19T12:29:58.184334",
     "status": "completed"
    },
    "tags": []
   },
   "source": [
    "### timestamp"
   ]
  },
  {
   "cell_type": "code",
   "execution_count": 7,
   "metadata": {
    "execution": {
     "iopub.execute_input": "2020-11-19T12:29:58.364990Z",
     "iopub.status.busy": "2020-11-19T12:29:58.364204Z",
     "iopub.status.idle": "2020-11-19T12:29:58.397563Z",
     "shell.execute_reply": "2020-11-19T12:29:58.396724Z"
    },
    "papermill": {
     "duration": 0.096169,
     "end_time": "2020-11-19T12:29:58.397709",
     "exception": false,
     "start_time": "2020-11-19T12:29:58.301540",
     "status": "completed"
    },
    "tags": []
   },
   "outputs": [],
   "source": [
    "nbMillisecByYear = 1000 * 60 * 60 * 24 * 365\n",
    "nbMillisecByMonth = nbMillisecByYear / 12\n",
    "train_df['timestamp_by_month'] = train_df['timestamp']/nbMillisecByMonth"
   ]
  },
  {
   "cell_type": "code",
   "execution_count": 8,
   "metadata": {
    "execution": {
     "iopub.execute_input": "2020-11-19T12:29:58.524160Z",
     "iopub.status.busy": "2020-11-19T12:29:58.523212Z",
     "iopub.status.idle": "2020-11-19T12:29:58.606512Z",
     "shell.execute_reply": "2020-11-19T12:29:58.605677Z"
    },
    "papermill": {
     "duration": 0.152536,
     "end_time": "2020-11-19T12:29:58.606647",
     "exception": false,
     "start_time": "2020-11-19T12:29:58.454111",
     "status": "completed"
    },
    "tags": []
   },
   "outputs": [],
   "source": [
    "train_df = train_df[train_df['timestamp_by_month'] <= 24]"
   ]
  },
  {
   "cell_type": "code",
   "execution_count": 9,
   "metadata": {
    "execution": {
     "iopub.execute_input": "2020-11-19T12:29:58.726744Z",
     "iopub.status.busy": "2020-11-19T12:29:58.725519Z",
     "iopub.status.idle": "2020-11-19T12:29:59.755543Z",
     "shell.execute_reply": "2020-11-19T12:29:59.754525Z"
    },
    "papermill": {
     "duration": 1.095052,
     "end_time": "2020-11-19T12:29:59.755780",
     "exception": false,
     "start_time": "2020-11-19T12:29:58.660728",
     "status": "completed"
    },
    "tags": []
   },
   "outputs": [
    {
     "data": {
      "image/png": "[encoded data removed]",
      "text/plain": [
       "<Figure size 1440x1440 with 16 Axes>"
      ]
     },
     "metadata": {
      "needs_background": "light"
     },
     "output_type": "display_data"
    }
   ],
   "source": [
    "train_df['timestamp'].plot(kind='box', subplots=True, title='Boxplot timestamp', figsize=(20,20), layout=(4,4))\n",
    "plt.show()"
   ]
  },
  {
   "cell_type": "code",
   "execution_count": null,
   "metadata": {
    "papermill": {
     "duration": 0.064647,
     "end_time": "2020-11-19T12:29:59.882758",
     "exception": false,
     "start_time": "2020-11-19T12:29:59.818111",
     "status": "completed"
    },
    "tags": []
   },
   "outputs": [],
   "source": []
  },
  {
   "cell_type": "markdown",
   "metadata": {
    "papermill": {
     "duration": 0.080802,
     "end_time": "2020-11-19T12:30:00.024249",
     "exception": false,
     "start_time": "2020-11-19T12:29:59.943447",
     "status": "completed"
    },
    "tags": []
   },
   "source": [
    "### prior_question_elapsed_time"
   ]
  },
  {
   "cell_type": "code",
   "execution_count": 10,
   "metadata": {
    "execution": {
     "iopub.execute_input": "2020-11-19T12:30:00.161800Z",
     "iopub.status.busy": "2020-11-19T12:30:00.160803Z",
     "iopub.status.idle": "2020-11-19T12:30:00.170081Z",
     "shell.execute_reply": "2020-11-19T12:30:00.168933Z"
    },
    "papermill": {
     "duration": 0.078962,
     "end_time": "2020-11-19T12:30:00.170401",
     "exception": false,
     "start_time": "2020-11-19T12:30:00.091439",
     "status": "completed"
    },
    "tags": []
   },
   "outputs": [],
   "source": [
    "train_df['prior_question_elapsed_time_in_min'] = train_df['prior_question_elapsed_time']/1000/60"
   ]
  },
  {
   "cell_type": "code",
   "execution_count": 11,
   "metadata": {
    "execution": {
     "iopub.execute_input": "2020-11-19T12:30:00.324858Z",
     "iopub.status.busy": "2020-11-19T12:30:00.324044Z",
     "iopub.status.idle": "2020-11-19T12:30:00.390103Z",
     "shell.execute_reply": "2020-11-19T12:30:00.388166Z"
    },
    "papermill": {
     "duration": 0.140447,
     "end_time": "2020-11-19T12:30:00.390343",
     "exception": false,
     "start_time": "2020-11-19T12:30:00.249896",
     "status": "completed"
    },
    "tags": []
   },
   "outputs": [],
   "source": [
    "prior_question_elapsed_time_mean = train_df[~train_df['prior_question_elapsed_time'].isna()]['prior_question_elapsed_time'].mean()\n",
    "train_df['prior_question_elapsed_time'].fillna(prior_question_elapsed_time_mean, inplace=True)"
   ]
  },
  {
   "cell_type": "markdown",
   "metadata": {
    "papermill": {
     "duration": 0.057165,
     "end_time": "2020-11-19T12:30:00.506776",
     "exception": false,
     "start_time": "2020-11-19T12:30:00.449611",
     "status": "completed"
    },
    "tags": []
   },
   "source": [
    "### Correlation"
   ]
  },
  {
   "cell_type": "code",
   "execution_count": 12,
   "metadata": {
    "execution": {
     "iopub.execute_input": "2020-11-19T12:30:00.641881Z",
     "iopub.status.busy": "2020-11-19T12:30:00.641061Z",
     "iopub.status.idle": "2020-11-19T12:30:00.725477Z",
     "shell.execute_reply": "2020-11-19T12:30:00.724786Z"
    },
    "papermill": {
     "duration": 0.151184,
     "end_time": "2020-11-19T12:30:00.725614",
     "exception": false,
     "start_time": "2020-11-19T12:30:00.574430",
     "status": "completed"
    },
    "tags": []
   },
   "outputs": [
    {
     "data": {
      "text/plain": [
       "Index(['row_id', 'timestamp', 'user_id', 'content_id', 'content_type_id',\n",
       "       'task_container_id', 'user_answer', 'answered_correctly',\n",
       "       'prior_question_elapsed_time', 'prior_had_explanation_le',\n",
       "       'timestamp_by_month', 'prior_question_elapsed_time_in_min'],\n",
       "      dtype='object')"
      ]
     },
     "execution_count": 12,
     "metadata": {},
     "output_type": "execute_result"
    }
   ],
   "source": [
    "train_only_questions_df = train_df[train_df['content_type_id'] == 0]\n",
    "train_only_questions_df = train_only_questions_df.reindex(columns=['row_id', 'timestamp', 'user_id', 'content_id', 'content_type_id',\n",
    "       'task_container_id', 'user_answer', 'answered_correctly',\n",
    "       'prior_question_elapsed_time', 'prior_had_explanation_le',\n",
    "       'timestamp_by_month', 'prior_question_elapsed_time_in_min'])\n",
    "train_only_questions_df.columns\n"
   ]
  },
  {
   "cell_type": "code",
   "execution_count": 13,
   "metadata": {
    "execution": {
     "iopub.execute_input": "2020-11-19T12:30:00.852284Z",
     "iopub.status.busy": "2020-11-19T12:30:00.851472Z",
     "iopub.status.idle": "2020-11-19T12:30:00.855605Z",
     "shell.execute_reply": "2020-11-19T12:30:00.854583Z"
    },
    "papermill": {
     "duration": 0.070659,
     "end_time": "2020-11-19T12:30:00.855753",
     "exception": false,
     "start_time": "2020-11-19T12:30:00.785094",
     "status": "completed"
    },
    "tags": []
   },
   "outputs": [],
   "source": [
    "list_columns_corr = ['timestamp', 'user_id', 'content_id', \n",
    "                     'task_container_id', 'user_answer', 'answered_correctly',\n",
    "                     'prior_question_elapsed_time', 'prior_had_explanation_le']"
   ]
  },
  {
   "cell_type": "code",
   "execution_count": 14,
   "metadata": {
    "execution": {
     "iopub.execute_input": "2020-11-19T12:30:00.984808Z",
     "iopub.status.busy": "2020-11-19T12:30:00.983834Z",
     "iopub.status.idle": "2020-11-19T12:30:08.292462Z",
     "shell.execute_reply": "2020-11-19T12:30:08.293244Z"
    },
    "papermill": {
     "duration": 7.380531,
     "end_time": "2020-11-19T12:30:08.293462",
     "exception": false,
     "start_time": "2020-11-19T12:30:00.912931",
     "status": "completed"
    },
    "tags": []
   },
   "outputs": [
    {
     "data": {
      "text/plain": [
       "<matplotlib.axes._subplots.AxesSubplot at 0x7f0d3bc06390>"
      ]
     },
     "execution_count": 14,
     "metadata": {},
     "output_type": "execute_result"
    },
    {
     "data": {
      "image/png": "[encoded data removed]",
      "text/plain": [
       "<Figure size 576x576 with 2 Axes>"
      ]
     },
     "metadata": {
      "needs_background": "light"
     },
     "output_type": "display_data"
    }
   ],
   "source": [
    "corr = train_only_questions_df[~(train_only_questions_df['prior_question_elapsed_time'].isna())][list_columns_corr].corr(method = \"kendall\")\n",
    "f, ax = plt.subplots(figsize=(8, 8))\n",
    "plt.rcParams['font.size'] = 9\n",
    "ax.set_title('Kendall correlation')\n",
    "sns.heatmap(corr, mask=np.zeros_like(corr, dtype=np.bool), fmt=\".2f\", cmap='coolwarm', square=True, ax=ax )"
   ]
  },
  {
   "cell_type": "markdown",
   "metadata": {
    "papermill": {
     "duration": 0.061262,
     "end_time": "2020-11-19T12:30:08.418909",
     "exception": false,
     "start_time": "2020-11-19T12:30:08.357647",
     "status": "completed"
    },
    "tags": []
   },
   "source": [
    "## questions.csv"
   ]
  },
  {
   "cell_type": "code",
   "execution_count": 15,
   "metadata": {
    "execution": {
     "iopub.execute_input": "2020-11-19T12:30:08.548865Z",
     "iopub.status.busy": "2020-11-19T12:30:08.547836Z",
     "iopub.status.idle": "2020-11-19T12:30:09.386460Z",
     "shell.execute_reply": "2020-11-19T12:30:09.387151Z"
    },
    "papermill": {
     "duration": 0.908362,
     "end_time": "2020-11-19T12:30:09.387377",
     "exception": false,
     "start_time": "2020-11-19T12:30:08.479015",
     "status": "completed"
    },
    "tags": []
   },
   "outputs": [],
   "source": [
    "import nltk"
   ]
  },
  {
   "cell_type": "code",
   "execution_count": 16,
   "metadata": {
    "execution": {
     "iopub.execute_input": "2020-11-19T12:30:09.522398Z",
     "iopub.status.busy": "2020-11-19T12:30:09.521034Z",
     "iopub.status.idle": "2020-11-19T12:30:09.546996Z",
     "shell.execute_reply": "2020-11-19T12:30:09.546294Z"
    },
    "papermill": {
     "duration": 0.099396,
     "end_time": "2020-11-19T12:30:09.547125",
     "exception": false,
     "start_time": "2020-11-19T12:30:09.447729",
     "status": "completed"
    },
    "tags": []
   },
   "outputs": [],
   "source": [
    "questions_df['tags'].fillna(\"\", inplace=True)\n",
    "questions_df[\"nb_tags\"] = questions_df[\"tags\"].apply(lambda text: len(text.split()))"
   ]
  },
  {
   "cell_type": "code",
   "execution_count": 17,
   "metadata": {
    "execution": {
     "iopub.execute_input": "2020-11-19T12:30:09.681094Z",
     "iopub.status.busy": "2020-11-19T12:30:09.679902Z",
     "iopub.status.idle": "2020-11-19T12:30:09.687688Z",
     "shell.execute_reply": "2020-11-19T12:30:09.686823Z"
    },
    "papermill": {
     "duration": 0.075106,
     "end_time": "2020-11-19T12:30:09.687846",
     "exception": false,
     "start_time": "2020-11-19T12:30:09.612740",
     "status": "completed"
    },
    "tags": []
   },
   "outputs": [],
   "source": [
    "questions_df = questions_df[questions_df[\"nb_tags\"] > 0]"
   ]
  },
  {
   "cell_type": "code",
   "execution_count": 18,
   "metadata": {
    "execution": {
     "iopub.execute_input": "2020-11-19T12:30:09.851175Z",
     "iopub.status.busy": "2020-11-19T12:30:09.850349Z",
     "iopub.status.idle": "2020-11-19T12:30:09.951997Z",
     "shell.execute_reply": "2020-11-19T12:30:09.951127Z"
    },
    "papermill": {
     "duration": 0.194656,
     "end_time": "2020-11-19T12:30:09.952147",
     "exception": false,
     "start_time": "2020-11-19T12:30:09.757491",
     "status": "completed"
    },
    "tags": []
   },
   "outputs": [],
   "source": [
    "tag = questions_df[\"tags\"].str.split(\" \", n = 10, expand = True) \n",
    "tag.columns = ['tags1','tags2','tags3','tags4','tags5','tags6']\n",
    "\n",
    "questions_df =  pd.concat([questions_df,tag],axis=1)\n",
    "questions_df['tags1'] = pd.to_numeric(questions_df['tags1'], errors='coerce')\n",
    "questions_df['tags2'] = pd.to_numeric(questions_df['tags2'], errors='coerce')\n",
    "questions_df['tags3'] = pd.to_numeric(questions_df['tags3'], errors='coerce')\n",
    "questions_df['tags4'] = pd.to_numeric(questions_df['tags4'], errors='coerce')\n",
    "questions_df['tags5'] = pd.to_numeric(questions_df['tags5'], errors='coerce')\n",
    "questions_df['tags6'] = pd.to_numeric(questions_df['tags6'], errors='coerce')"
   ]
  },
  {
   "cell_type": "code",
   "execution_count": 19,
   "metadata": {
    "execution": {
     "iopub.execute_input": "2020-11-19T12:30:10.267908Z",
     "iopub.status.busy": "2020-11-19T12:30:10.253163Z",
     "iopub.status.idle": "2020-11-19T12:30:10.274784Z",
     "shell.execute_reply": "2020-11-19T12:30:10.274054Z"
    },
    "papermill": {
     "duration": 0.248409,
     "end_time": "2020-11-19T12:30:10.274964",
     "exception": false,
     "start_time": "2020-11-19T12:30:10.026555",
     "status": "completed"
    },
    "tags": []
   },
   "outputs": [
    {
     "name": "stdout",
     "output_type": "stream",
     "text": [
      "30992\n",
      "188\n"
     ]
    }
   ],
   "source": [
    "questions_df['tags_list'] = questions_df['tags'].apply(lambda x: x.split())\n",
    "tags_list = [item for sublist in questions_df['tags_list'].values for item in sublist]\n",
    "print(len(tags_list))\n",
    "tags_unique_list = list(set(tags_list))\n",
    "# Affiche la nouvelle liste \n",
    "print(len(tags_unique_list))"
   ]
  },
  {
   "cell_type": "code",
   "execution_count": 20,
   "metadata": {
    "execution": {
     "iopub.execute_input": "2020-11-19T12:30:10.418604Z",
     "iopub.status.busy": "2020-11-19T12:30:10.417772Z",
     "iopub.status.idle": "2020-11-19T12:30:10.533111Z",
     "shell.execute_reply": "2020-11-19T12:30:10.532350Z"
    },
    "papermill": {
     "duration": 0.191281,
     "end_time": "2020-11-19T12:30:10.533248",
     "exception": false,
     "start_time": "2020-11-19T12:30:10.341967",
     "status": "completed"
    },
    "tags": []
   },
   "outputs": [],
   "source": [
    "tags_frequence= nltk.FreqDist(tags_list)\n",
    "words_most_common = tags_frequence.most_common(20)\n",
    "fq_words_df = pd.DataFrame(words_most_common, columns = ['tags' , 'nb_tags']) \n",
    "\n",
    "selected_tags = (fq_words_df['tags'][:20]).to_list()\n",
    "\n",
    "def tags_column_processing(tags):\n",
    "    new_tags = []\n",
    "    tags_words = tags.split()\n",
    "    for tag in tags_words:\n",
    "        if (tag in selected_tags) :\n",
    "            new_tags.append(tag)   \n",
    "    return new_tags\n",
    "\n",
    "questions_df['new_tags'] = questions_df[\"tags\"].apply(lambda text : tags_column_processing(text))\n",
    "from sklearn.preprocessing import MultiLabelBinarizer\n",
    "classes_tags = tuple(selected_tags)\n",
    "one_hot = MultiLabelBinarizer(classes = classes_tags )\n",
    "types_encoded = pd.DataFrame(one_hot.fit_transform(questions_df['new_tags']),columns=one_hot.classes_)\n",
    "types_encoded.head()\n",
    "questions_df = pd.concat([questions_df,types_encoded], axis = 1)\n"
   ]
  },
  {
   "cell_type": "code",
   "execution_count": 21,
   "metadata": {
    "execution": {
     "iopub.execute_input": "2020-11-19T12:30:10.690463Z",
     "iopub.status.busy": "2020-11-19T12:30:10.689570Z",
     "iopub.status.idle": "2020-11-19T12:30:10.694957Z",
     "shell.execute_reply": "2020-11-19T12:30:10.694192Z"
    },
    "papermill": {
     "duration": 0.081383,
     "end_time": "2020-11-19T12:30:10.695084",
     "exception": false,
     "start_time": "2020-11-19T12:30:10.613701",
     "status": "completed"
    },
    "tags": []
   },
   "outputs": [
    {
     "data": {
      "text/plain": [
       "Index(['question_id', 'bundle_id', 'correct_answer', 'part', 'tags', 'nb_tags',\n",
       "       'tags1', 'tags2', 'tags3', 'tags4', 'tags5', 'tags6', 'tags_list',\n",
       "       'new_tags', '92', '38', '81', '29', '136', '162', '102', '8', '143',\n",
       "       '131', '73', '21', '53', '82', '74', '106', '1', '96', '12', '97'],\n",
       "      dtype='object')"
      ]
     },
     "execution_count": 21,
     "metadata": {},
     "output_type": "execute_result"
    }
   ],
   "source": [
    "questions_df.columns"
   ]
  },
  {
   "cell_type": "code",
   "execution_count": 22,
   "metadata": {
    "execution": {
     "iopub.execute_input": "2020-11-19T12:30:10.847059Z",
     "iopub.status.busy": "2020-11-19T12:30:10.846092Z",
     "iopub.status.idle": "2020-11-19T12:30:10.856225Z",
     "shell.execute_reply": "2020-11-19T12:30:10.855423Z"
    },
    "papermill": {
     "duration": 0.088291,
     "end_time": "2020-11-19T12:30:10.856378",
     "exception": false,
     "start_time": "2020-11-19T12:30:10.768087",
     "status": "completed"
    },
    "tags": []
   },
   "outputs": [],
   "source": [
    "questions_df = questions_df.drop(['new_tags', 'tags', 'tags_list'],axis = 1)"
   ]
  },
  {
   "cell_type": "code",
   "execution_count": 23,
   "metadata": {
    "execution": {
     "iopub.execute_input": "2020-11-19T12:30:11.011492Z",
     "iopub.status.busy": "2020-11-19T12:30:11.008843Z",
     "iopub.status.idle": "2020-11-19T12:30:11.014377Z",
     "shell.execute_reply": "2020-11-19T12:30:11.015023Z"
    },
    "papermill": {
     "duration": 0.091086,
     "end_time": "2020-11-19T12:30:11.015187",
     "exception": false,
     "start_time": "2020-11-19T12:30:10.924101",
     "status": "completed"
    },
    "tags": []
   },
   "outputs": [
    {
     "data": {
      "text/plain": [
       "array([ 1.,  2.,  3.,  4.,  5.,  6.,  7., nan])"
      ]
     },
     "execution_count": 23,
     "metadata": {},
     "output_type": "execute_result"
    }
   ],
   "source": [
    "questions_df['part'].unique()"
   ]
  },
  {
   "cell_type": "code",
   "execution_count": 24,
   "metadata": {
    "execution": {
     "iopub.execute_input": "2020-11-19T12:30:11.164826Z",
     "iopub.status.busy": "2020-11-19T12:30:11.163916Z",
     "iopub.status.idle": "2020-11-19T12:30:11.168735Z",
     "shell.execute_reply": "2020-11-19T12:30:11.167751Z"
    },
    "papermill": {
     "duration": 0.083751,
     "end_time": "2020-11-19T12:30:11.168896",
     "exception": false,
     "start_time": "2020-11-19T12:30:11.085145",
     "status": "completed"
    },
    "tags": []
   },
   "outputs": [],
   "source": [
    "questions_df['is_reading_section']= 0 \n",
    "questions_df.loc[questions_df['part'] >= 5 ,'is_reading_section'] = 1"
   ]
  },
  {
   "cell_type": "code",
   "execution_count": 25,
   "metadata": {
    "execution": {
     "iopub.execute_input": "2020-11-19T12:30:11.326276Z",
     "iopub.status.busy": "2020-11-19T12:30:11.322765Z",
     "iopub.status.idle": "2020-11-19T12:30:11.337294Z",
     "shell.execute_reply": "2020-11-19T12:30:11.338250Z"
    },
    "papermill": {
     "duration": 0.094957,
     "end_time": "2020-11-19T12:30:11.338465",
     "exception": false,
     "start_time": "2020-11-19T12:30:11.243508",
     "status": "completed"
    },
    "tags": []
   },
   "outputs": [],
   "source": [
    "questions_df['is_easy_part'] = 0\n",
    "questions_df['is_medium_part'] = 0\n",
    "questions_df['is_difficult_part'] = 0\n",
    "questions_df.loc[questions_df['part'] <= 3 ,'is_easy_part'] = 1\n",
    "questions_df.loc[(questions_df['part'] == 4)|(questions_df['part'] == 5) ,'is_difficult_part'] = 1\n",
    "questions_df.loc[questions_df['part'] >6 ,'is_medium_part'] = 1"
   ]
  },
  {
   "cell_type": "code",
   "execution_count": 26,
   "metadata": {
    "execution": {
     "iopub.execute_input": "2020-11-19T12:30:11.494945Z",
     "iopub.status.busy": "2020-11-19T12:30:11.493752Z",
     "iopub.status.idle": "2020-11-19T12:30:11.517131Z",
     "shell.execute_reply": "2020-11-19T12:30:11.517959Z"
    },
    "papermill": {
     "duration": 0.111806,
     "end_time": "2020-11-19T12:30:11.518193",
     "exception": false,
     "start_time": "2020-11-19T12:30:11.406387",
     "status": "completed"
    },
    "tags": []
   },
   "outputs": [
    {
     "data": {
      "text/html": [
       "<div>\n",
       "<style scoped>\n",
       "    .dataframe tbody tr th:only-of-type {\n",
       "        vertical-align: middle;\n",
       "    }\n",
       "\n",
       "    .dataframe tbody tr th {\n",
       "        vertical-align: top;\n",
       "    }\n",
       "\n",
       "    .dataframe thead th {\n",
       "        text-align: right;\n",
       "    }\n",
       "</style>\n",
       "<table border=\"1\" class=\"dataframe\">\n",
       "  <thead>\n",
       "    <tr style=\"text-align: right;\">\n",
       "      <th></th>\n",
       "      <th>question_id</th>\n",
       "      <th>bundle_id</th>\n",
       "      <th>correct_answer</th>\n",
       "      <th>part</th>\n",
       "      <th>nb_tags</th>\n",
       "      <th>tags1</th>\n",
       "      <th>tags2</th>\n",
       "      <th>tags3</th>\n",
       "      <th>tags4</th>\n",
       "      <th>tags5</th>\n",
       "      <th>...</th>\n",
       "      <th>74</th>\n",
       "      <th>106</th>\n",
       "      <th>1</th>\n",
       "      <th>96</th>\n",
       "      <th>12</th>\n",
       "      <th>97</th>\n",
       "      <th>is_reading_section</th>\n",
       "      <th>is_easy_part</th>\n",
       "      <th>is_medium_part</th>\n",
       "      <th>is_difficult_part</th>\n",
       "    </tr>\n",
       "  </thead>\n",
       "  <tbody>\n",
       "    <tr>\n",
       "      <th>0</th>\n",
       "      <td>0.0</td>\n",
       "      <td>0.0</td>\n",
       "      <td>0.0</td>\n",
       "      <td>1.0</td>\n",
       "      <td>4.0</td>\n",
       "      <td>51.0</td>\n",
       "      <td>131.0</td>\n",
       "      <td>162.0</td>\n",
       "      <td>38.0</td>\n",
       "      <td>NaN</td>\n",
       "      <td>...</td>\n",
       "      <td>0.0</td>\n",
       "      <td>0.0</td>\n",
       "      <td>0.0</td>\n",
       "      <td>0.0</td>\n",
       "      <td>0.0</td>\n",
       "      <td>0.0</td>\n",
       "      <td>0</td>\n",
       "      <td>1</td>\n",
       "      <td>0</td>\n",
       "      <td>0</td>\n",
       "    </tr>\n",
       "    <tr>\n",
       "      <th>1</th>\n",
       "      <td>1.0</td>\n",
       "      <td>1.0</td>\n",
       "      <td>1.0</td>\n",
       "      <td>1.0</td>\n",
       "      <td>3.0</td>\n",
       "      <td>131.0</td>\n",
       "      <td>36.0</td>\n",
       "      <td>81.0</td>\n",
       "      <td>NaN</td>\n",
       "      <td>NaN</td>\n",
       "      <td>...</td>\n",
       "      <td>0.0</td>\n",
       "      <td>0.0</td>\n",
       "      <td>0.0</td>\n",
       "      <td>0.0</td>\n",
       "      <td>0.0</td>\n",
       "      <td>0.0</td>\n",
       "      <td>0</td>\n",
       "      <td>1</td>\n",
       "      <td>0</td>\n",
       "      <td>0</td>\n",
       "    </tr>\n",
       "    <tr>\n",
       "      <th>2</th>\n",
       "      <td>2.0</td>\n",
       "      <td>2.0</td>\n",
       "      <td>0.0</td>\n",
       "      <td>1.0</td>\n",
       "      <td>4.0</td>\n",
       "      <td>131.0</td>\n",
       "      <td>101.0</td>\n",
       "      <td>162.0</td>\n",
       "      <td>92.0</td>\n",
       "      <td>NaN</td>\n",
       "      <td>...</td>\n",
       "      <td>0.0</td>\n",
       "      <td>0.0</td>\n",
       "      <td>0.0</td>\n",
       "      <td>0.0</td>\n",
       "      <td>0.0</td>\n",
       "      <td>0.0</td>\n",
       "      <td>0</td>\n",
       "      <td>1</td>\n",
       "      <td>0</td>\n",
       "      <td>0</td>\n",
       "    </tr>\n",
       "    <tr>\n",
       "      <th>3</th>\n",
       "      <td>3.0</td>\n",
       "      <td>3.0</td>\n",
       "      <td>0.0</td>\n",
       "      <td>1.0</td>\n",
       "      <td>4.0</td>\n",
       "      <td>131.0</td>\n",
       "      <td>149.0</td>\n",
       "      <td>162.0</td>\n",
       "      <td>29.0</td>\n",
       "      <td>NaN</td>\n",
       "      <td>...</td>\n",
       "      <td>0.0</td>\n",
       "      <td>0.0</td>\n",
       "      <td>0.0</td>\n",
       "      <td>0.0</td>\n",
       "      <td>0.0</td>\n",
       "      <td>0.0</td>\n",
       "      <td>0</td>\n",
       "      <td>1</td>\n",
       "      <td>0</td>\n",
       "      <td>0</td>\n",
       "    </tr>\n",
       "    <tr>\n",
       "      <th>4</th>\n",
       "      <td>4.0</td>\n",
       "      <td>4.0</td>\n",
       "      <td>3.0</td>\n",
       "      <td>1.0</td>\n",
       "      <td>4.0</td>\n",
       "      <td>131.0</td>\n",
       "      <td>5.0</td>\n",
       "      <td>162.0</td>\n",
       "      <td>38.0</td>\n",
       "      <td>NaN</td>\n",
       "      <td>...</td>\n",
       "      <td>0.0</td>\n",
       "      <td>0.0</td>\n",
       "      <td>0.0</td>\n",
       "      <td>0.0</td>\n",
       "      <td>0.0</td>\n",
       "      <td>0.0</td>\n",
       "      <td>0</td>\n",
       "      <td>1</td>\n",
       "      <td>0</td>\n",
       "      <td>0</td>\n",
       "    </tr>\n",
       "  </tbody>\n",
       "</table>\n",
       "<p>5 rows × 35 columns</p>\n",
       "</div>"
      ],
      "text/plain": [
       "   question_id  bundle_id  correct_answer  part  nb_tags  tags1  tags2  tags3  \\\n",
       "0          0.0        0.0             0.0   1.0      4.0   51.0  131.0  162.0   \n",
       "1          1.0        1.0             1.0   1.0      3.0  131.0   36.0   81.0   \n",
       "2          2.0        2.0             0.0   1.0      4.0  131.0  101.0  162.0   \n",
       "3          3.0        3.0             0.0   1.0      4.0  131.0  149.0  162.0   \n",
       "4          4.0        4.0             3.0   1.0      4.0  131.0    5.0  162.0   \n",
       "\n",
       "   tags4  tags5  ...   74  106    1   96   12   97  is_reading_section  \\\n",
       "0   38.0    NaN  ...  0.0  0.0  0.0  0.0  0.0  0.0                   0   \n",
       "1    NaN    NaN  ...  0.0  0.0  0.0  0.0  0.0  0.0                   0   \n",
       "2   92.0    NaN  ...  0.0  0.0  0.0  0.0  0.0  0.0                   0   \n",
       "3   29.0    NaN  ...  0.0  0.0  0.0  0.0  0.0  0.0                   0   \n",
       "4   38.0    NaN  ...  0.0  0.0  0.0  0.0  0.0  0.0                   0   \n",
       "\n",
       "   is_easy_part  is_medium_part  is_difficult_part  \n",
       "0             1               0                  0  \n",
       "1             1               0                  0  \n",
       "2             1               0                  0  \n",
       "3             1               0                  0  \n",
       "4             1               0                  0  \n",
       "\n",
       "[5 rows x 35 columns]"
      ]
     },
     "execution_count": 26,
     "metadata": {},
     "output_type": "execute_result"
    }
   ],
   "source": [
    "questions_df.head()"
   ]
  },
  {
   "cell_type": "markdown",
   "metadata": {
    "papermill": {
     "duration": 0.069782,
     "end_time": "2020-11-19T12:30:11.655149",
     "exception": false,
     "start_time": "2020-11-19T12:30:11.585367",
     "status": "completed"
    },
    "tags": []
   },
   "source": [
    "## Merge questions and train"
   ]
  },
  {
   "cell_type": "code",
   "execution_count": 27,
   "metadata": {
    "execution": {
     "iopub.execute_input": "2020-11-19T12:30:11.871845Z",
     "iopub.status.busy": "2020-11-19T12:30:11.870747Z",
     "iopub.status.idle": "2020-11-19T12:30:13.139855Z",
     "shell.execute_reply": "2020-11-19T12:30:13.139038Z"
    },
    "papermill": {
     "duration": 1.412364,
     "end_time": "2020-11-19T12:30:13.139995",
     "exception": false,
     "start_time": "2020-11-19T12:30:11.727631",
     "status": "completed"
    },
    "tags": []
   },
   "outputs": [
    {
     "data": {
      "text/plain": [
       "0"
      ]
     },
     "execution_count": 27,
     "metadata": {},
     "output_type": "execute_result"
    }
   ],
   "source": [
    "import gc\n",
    "data_df = pd.merge(train_only_questions_df,questions_df, how='left', left_on='content_id', right_on='question_id').sort_values('row_id')\n",
    "\n",
    "del train_only_questions_df\n",
    "gc.collect()"
   ]
  },
  {
   "cell_type": "code",
   "execution_count": 28,
   "metadata": {
    "execution": {
     "iopub.execute_input": "2020-11-19T12:30:13.294185Z",
     "iopub.status.busy": "2020-11-19T12:30:13.287576Z",
     "iopub.status.idle": "2020-11-19T12:30:13.311460Z",
     "shell.execute_reply": "2020-11-19T12:30:13.312108Z"
    },
    "papermill": {
     "duration": 0.107126,
     "end_time": "2020-11-19T12:30:13.312285",
     "exception": false,
     "start_time": "2020-11-19T12:30:13.205159",
     "status": "completed"
    },
    "tags": []
   },
   "outputs": [
    {
     "data": {
      "text/html": [
       "<div>\n",
       "<style scoped>\n",
       "    .dataframe tbody tr th:only-of-type {\n",
       "        vertical-align: middle;\n",
       "    }\n",
       "\n",
       "    .dataframe tbody tr th {\n",
       "        vertical-align: top;\n",
       "    }\n",
       "\n",
       "    .dataframe thead th {\n",
       "        text-align: right;\n",
       "    }\n",
       "</style>\n",
       "<table border=\"1\" class=\"dataframe\">\n",
       "  <thead>\n",
       "    <tr style=\"text-align: right;\">\n",
       "      <th></th>\n",
       "      <th>row_id</th>\n",
       "      <th>timestamp</th>\n",
       "      <th>user_id</th>\n",
       "      <th>content_id</th>\n",
       "      <th>content_type_id</th>\n",
       "      <th>task_container_id</th>\n",
       "      <th>user_answer</th>\n",
       "      <th>answered_correctly</th>\n",
       "      <th>prior_question_elapsed_time</th>\n",
       "      <th>prior_had_explanation_le</th>\n",
       "      <th>...</th>\n",
       "      <th>74</th>\n",
       "      <th>106</th>\n",
       "      <th>1</th>\n",
       "      <th>96</th>\n",
       "      <th>12</th>\n",
       "      <th>97</th>\n",
       "      <th>is_reading_section</th>\n",
       "      <th>is_easy_part</th>\n",
       "      <th>is_medium_part</th>\n",
       "      <th>is_difficult_part</th>\n",
       "    </tr>\n",
       "  </thead>\n",
       "  <tbody>\n",
       "    <tr>\n",
       "      <th>0</th>\n",
       "      <td>0</td>\n",
       "      <td>0</td>\n",
       "      <td>115</td>\n",
       "      <td>5692</td>\n",
       "      <td>0</td>\n",
       "      <td>1</td>\n",
       "      <td>3</td>\n",
       "      <td>1</td>\n",
       "      <td>25312.558594</td>\n",
       "      <td>0.0</td>\n",
       "      <td>...</td>\n",
       "      <td>0.0</td>\n",
       "      <td>0.0</td>\n",
       "      <td>0.0</td>\n",
       "      <td>0.0</td>\n",
       "      <td>0.0</td>\n",
       "      <td>0.0</td>\n",
       "      <td>1</td>\n",
       "      <td>0</td>\n",
       "      <td>0</td>\n",
       "      <td>1</td>\n",
       "    </tr>\n",
       "    <tr>\n",
       "      <th>1</th>\n",
       "      <td>1</td>\n",
       "      <td>56943</td>\n",
       "      <td>115</td>\n",
       "      <td>5716</td>\n",
       "      <td>0</td>\n",
       "      <td>2</td>\n",
       "      <td>2</td>\n",
       "      <td>1</td>\n",
       "      <td>37000.000000</td>\n",
       "      <td>0.0</td>\n",
       "      <td>...</td>\n",
       "      <td>0.0</td>\n",
       "      <td>0.0</td>\n",
       "      <td>0.0</td>\n",
       "      <td>0.0</td>\n",
       "      <td>0.0</td>\n",
       "      <td>0.0</td>\n",
       "      <td>1</td>\n",
       "      <td>0</td>\n",
       "      <td>0</td>\n",
       "      <td>1</td>\n",
       "    </tr>\n",
       "    <tr>\n",
       "      <th>2</th>\n",
       "      <td>2</td>\n",
       "      <td>118363</td>\n",
       "      <td>115</td>\n",
       "      <td>128</td>\n",
       "      <td>0</td>\n",
       "      <td>0</td>\n",
       "      <td>0</td>\n",
       "      <td>1</td>\n",
       "      <td>55000.000000</td>\n",
       "      <td>0.0</td>\n",
       "      <td>...</td>\n",
       "      <td>0.0</td>\n",
       "      <td>0.0</td>\n",
       "      <td>0.0</td>\n",
       "      <td>0.0</td>\n",
       "      <td>0.0</td>\n",
       "      <td>0.0</td>\n",
       "      <td>0</td>\n",
       "      <td>1</td>\n",
       "      <td>0</td>\n",
       "      <td>0</td>\n",
       "    </tr>\n",
       "    <tr>\n",
       "      <th>3</th>\n",
       "      <td>3</td>\n",
       "      <td>131167</td>\n",
       "      <td>115</td>\n",
       "      <td>7860</td>\n",
       "      <td>0</td>\n",
       "      <td>3</td>\n",
       "      <td>0</td>\n",
       "      <td>1</td>\n",
       "      <td>19000.000000</td>\n",
       "      <td>0.0</td>\n",
       "      <td>...</td>\n",
       "      <td>0.0</td>\n",
       "      <td>0.0</td>\n",
       "      <td>0.0</td>\n",
       "      <td>0.0</td>\n",
       "      <td>0.0</td>\n",
       "      <td>0.0</td>\n",
       "      <td>0</td>\n",
       "      <td>1</td>\n",
       "      <td>0</td>\n",
       "      <td>0</td>\n",
       "    </tr>\n",
       "    <tr>\n",
       "      <th>4</th>\n",
       "      <td>4</td>\n",
       "      <td>137965</td>\n",
       "      <td>115</td>\n",
       "      <td>7922</td>\n",
       "      <td>0</td>\n",
       "      <td>4</td>\n",
       "      <td>1</td>\n",
       "      <td>1</td>\n",
       "      <td>11000.000000</td>\n",
       "      <td>0.0</td>\n",
       "      <td>...</td>\n",
       "      <td>0.0</td>\n",
       "      <td>0.0</td>\n",
       "      <td>0.0</td>\n",
       "      <td>0.0</td>\n",
       "      <td>0.0</td>\n",
       "      <td>0.0</td>\n",
       "      <td>0</td>\n",
       "      <td>1</td>\n",
       "      <td>0</td>\n",
       "      <td>0</td>\n",
       "    </tr>\n",
       "  </tbody>\n",
       "</table>\n",
       "<p>5 rows × 47 columns</p>\n",
       "</div>"
      ],
      "text/plain": [
       "   row_id  timestamp  user_id  content_id  content_type_id  task_container_id  \\\n",
       "0       0          0      115        5692                0                  1   \n",
       "1       1      56943      115        5716                0                  2   \n",
       "2       2     118363      115         128                0                  0   \n",
       "3       3     131167      115        7860                0                  3   \n",
       "4       4     137965      115        7922                0                  4   \n",
       "\n",
       "   user_answer  answered_correctly  prior_question_elapsed_time  \\\n",
       "0            3                   1                 25312.558594   \n",
       "1            2                   1                 37000.000000   \n",
       "2            0                   1                 55000.000000   \n",
       "3            0                   1                 19000.000000   \n",
       "4            1                   1                 11000.000000   \n",
       "\n",
       "   prior_had_explanation_le  ...   74  106    1   96   12   97  \\\n",
       "0                       0.0  ...  0.0  0.0  0.0  0.0  0.0  0.0   \n",
       "1                       0.0  ...  0.0  0.0  0.0  0.0  0.0  0.0   \n",
       "2                       0.0  ...  0.0  0.0  0.0  0.0  0.0  0.0   \n",
       "3                       0.0  ...  0.0  0.0  0.0  0.0  0.0  0.0   \n",
       "4                       0.0  ...  0.0  0.0  0.0  0.0  0.0  0.0   \n",
       "\n",
       "   is_reading_section  is_easy_part  is_medium_part  is_difficult_part  \n",
       "0                   1             0               0                  1  \n",
       "1                   1             0               0                  1  \n",
       "2                   0             1               0                  0  \n",
       "3                   0             1               0                  0  \n",
       "4                   0             1               0                  0  \n",
       "\n",
       "[5 rows x 47 columns]"
      ]
     },
     "execution_count": 28,
     "metadata": {},
     "output_type": "execute_result"
    }
   ],
   "source": [
    "data_df.head()"
   ]
  },
  {
   "cell_type": "markdown",
   "metadata": {
    "papermill": {
     "duration": 0.071054,
     "end_time": "2020-11-19T12:30:13.452250",
     "exception": false,
     "start_time": "2020-11-19T12:30:13.381196",
     "status": "completed"
    },
    "tags": []
   },
   "source": [
    "## Pivot tables"
   ]
  },
  {
   "cell_type": "code",
   "execution_count": 29,
   "metadata": {
    "execution": {
     "iopub.execute_input": "2020-11-19T12:30:13.608384Z",
     "iopub.status.busy": "2020-11-19T12:30:13.606193Z",
     "iopub.status.idle": "2020-11-19T12:30:13.686749Z",
     "shell.execute_reply": "2020-11-19T12:30:13.685888Z"
    },
    "papermill": {
     "duration": 0.161699,
     "end_time": "2020-11-19T12:30:13.686914",
     "exception": false,
     "start_time": "2020-11-19T12:30:13.525215",
     "status": "completed"
    },
    "tags": []
   },
   "outputs": [
    {
     "data": {
      "text/html": [
       "<div>\n",
       "<style scoped>\n",
       "    .dataframe tbody tr th:only-of-type {\n",
       "        vertical-align: middle;\n",
       "    }\n",
       "\n",
       "    .dataframe tbody tr th {\n",
       "        vertical-align: top;\n",
       "    }\n",
       "\n",
       "    .dataframe thead th {\n",
       "        text-align: right;\n",
       "    }\n",
       "</style>\n",
       "<table border=\"1\" class=\"dataframe\">\n",
       "  <thead>\n",
       "    <tr style=\"text-align: right;\">\n",
       "      <th></th>\n",
       "      <th>user_answer</th>\n",
       "      <th>answered_correctly</th>\n",
       "    </tr>\n",
       "  </thead>\n",
       "  <tbody>\n",
       "    <tr>\n",
       "      <th>3</th>\n",
       "      <td>2</td>\n",
       "      <td>0.658296</td>\n",
       "    </tr>\n",
       "    <tr>\n",
       "      <th>1</th>\n",
       "      <td>0</td>\n",
       "      <td>0.652754</td>\n",
       "    </tr>\n",
       "    <tr>\n",
       "      <th>4</th>\n",
       "      <td>3</td>\n",
       "      <td>0.651928</td>\n",
       "    </tr>\n",
       "    <tr>\n",
       "      <th>2</th>\n",
       "      <td>1</td>\n",
       "      <td>0.641866</td>\n",
       "    </tr>\n",
       "    <tr>\n",
       "      <th>0</th>\n",
       "      <td>-1</td>\n",
       "      <td>-1.000000</td>\n",
       "    </tr>\n",
       "  </tbody>\n",
       "</table>\n",
       "</div>"
      ],
      "text/plain": [
       "   user_answer  answered_correctly\n",
       "3            2            0.658296\n",
       "1            0            0.652754\n",
       "4            3            0.651928\n",
       "2            1            0.641866\n",
       "0           -1           -1.000000"
      ]
     },
     "execution_count": 29,
     "metadata": {},
     "output_type": "execute_result"
    }
   ],
   "source": [
    "train_df[['user_answer', 'answered_correctly']].groupby(['user_answer'], as_index=False).mean().sort_values(by='answered_correctly', ascending=False)"
   ]
  },
  {
   "cell_type": "code",
   "execution_count": 30,
   "metadata": {
    "execution": {
     "iopub.execute_input": "2020-11-19T12:30:13.843504Z",
     "iopub.status.busy": "2020-11-19T12:30:13.842335Z",
     "iopub.status.idle": "2020-11-19T12:30:13.846882Z",
     "shell.execute_reply": "2020-11-19T12:30:13.846043Z"
    },
    "papermill": {
     "duration": 0.087075,
     "end_time": "2020-11-19T12:30:13.847017",
     "exception": false,
     "start_time": "2020-11-19T12:30:13.759942",
     "status": "completed"
    },
    "tags": []
   },
   "outputs": [],
   "source": [
    "# data_df[['part', 'answered_correctly']].groupby(['part'], as_index=False).mean().sort_values(by='answered_correctly', ascending=False)\n"
   ]
  },
  {
   "cell_type": "code",
   "execution_count": 31,
   "metadata": {
    "execution": {
     "iopub.execute_input": "2020-11-19T12:30:14.019216Z",
     "iopub.status.busy": "2020-11-19T12:30:14.017961Z",
     "iopub.status.idle": "2020-11-19T12:30:14.021349Z",
     "shell.execute_reply": "2020-11-19T12:30:14.022848Z"
    },
    "papermill": {
     "duration": 0.098311,
     "end_time": "2020-11-19T12:30:14.023244",
     "exception": false,
     "start_time": "2020-11-19T12:30:13.924933",
     "status": "completed"
    },
    "tags": []
   },
   "outputs": [],
   "source": [
    "# Display information by user ID \n",
    "# print(pd.pivot_table(data_df, index='user_id', values=['timestamp', 'prior_question_elapsed_time', 'answered_correctly'], aggfunc='mean'))"
   ]
  },
  {
   "cell_type": "markdown",
   "metadata": {
    "papermill": {
     "duration": 0.079501,
     "end_time": "2020-11-19T12:30:14.179130",
     "exception": false,
     "start_time": "2020-11-19T12:30:14.099629",
     "status": "completed"
    },
    "tags": []
   },
   "source": [
    "# Target"
   ]
  },
  {
   "cell_type": "code",
   "execution_count": 32,
   "metadata": {
    "execution": {
     "iopub.execute_input": "2020-11-19T12:30:14.336752Z",
     "iopub.status.busy": "2020-11-19T12:30:14.335850Z",
     "iopub.status.idle": "2020-11-19T12:30:14.342606Z",
     "shell.execute_reply": "2020-11-19T12:30:14.341811Z"
    },
    "papermill": {
     "duration": 0.087858,
     "end_time": "2020-11-19T12:30:14.342742",
     "exception": false,
     "start_time": "2020-11-19T12:30:14.254884",
     "status": "completed"
    },
    "tags": []
   },
   "outputs": [
    {
     "data": {
      "text/plain": [
       "0.6505707191460237"
      ]
     },
     "execution_count": 32,
     "metadata": {},
     "output_type": "execute_result"
    }
   ],
   "source": [
    "\n",
    "# We should exclude information about lectures.\n",
    "train_df_questions = data_df\n",
    "train_df_questions['answered_correctly'].mean()"
   ]
  },
  {
   "cell_type": "code",
   "execution_count": 33,
   "metadata": {
    "execution": {
     "iopub.execute_input": "2020-11-19T12:30:14.498987Z",
     "iopub.status.busy": "2020-11-19T12:30:14.497519Z",
     "iopub.status.idle": "2020-11-19T12:30:14.505707Z",
     "shell.execute_reply": "2020-11-19T12:30:14.504741Z"
    },
    "papermill": {
     "duration": 0.090893,
     "end_time": "2020-11-19T12:30:14.505963",
     "exception": false,
     "start_time": "2020-11-19T12:30:14.415070",
     "status": "completed"
    },
    "tags": []
   },
   "outputs": [
    {
     "data": {
      "text/plain": [
       "'cids = train_df.content_id.value_counts()[:30]\\n\\nfig = plt.figure(figsize=(12,6))\\nax = cids.plot.bar()\\nplt.title(\"Thirty most used content id\\'s\")\\nplt.xticks(rotation=90)\\nax.get_yaxis().set_major_formatter(FuncFormatter(lambda x, p: format(int(x), \\',\\'))) #add thousands separator\\nplt.show()'"
      ]
     },
     "execution_count": 33,
     "metadata": {},
     "output_type": "execute_result"
    }
   ],
   "source": [
    "'''cids = train_df.content_id.value_counts()[:30]\n",
    "\n",
    "fig = plt.figure(figsize=(12,6))\n",
    "ax = cids.plot.bar()\n",
    "plt.title(\"Thirty most used content id's\")\n",
    "plt.xticks(rotation=90)\n",
    "ax.get_yaxis().set_major_formatter(FuncFormatter(lambda x, p: format(int(x), ','))) #add thousands separator\n",
    "plt.show()'''"
   ]
  },
  {
   "cell_type": "code",
   "execution_count": 34,
   "metadata": {
    "execution": {
     "iopub.execute_input": "2020-11-19T12:30:14.707583Z",
     "iopub.status.busy": "2020-11-19T12:30:14.705697Z",
     "iopub.status.idle": "2020-11-19T12:30:14.761362Z",
     "shell.execute_reply": "2020-11-19T12:30:14.760623Z"
    },
    "papermill": {
     "duration": 0.161806,
     "end_time": "2020-11-19T12:30:14.761521",
     "exception": false,
     "start_time": "2020-11-19T12:30:14.599715",
     "status": "completed"
    },
    "tags": []
   },
   "outputs": [],
   "source": [
    "data_df['is_first_question'] = 0\n",
    "\n",
    "data_df.loc[data_df['prior_question_elapsed_time'].isna(),'is_first_question'] = 1\n"
   ]
  },
  {
   "cell_type": "code",
   "execution_count": 35,
   "metadata": {
    "execution": {
     "iopub.execute_input": "2020-11-19T12:30:14.947864Z",
     "iopub.status.busy": "2020-11-19T12:30:14.929273Z",
     "iopub.status.idle": "2020-11-19T12:30:14.954781Z",
     "shell.execute_reply": "2020-11-19T12:30:14.953961Z"
    },
    "papermill": {
     "duration": 0.118668,
     "end_time": "2020-11-19T12:30:14.954930",
     "exception": false,
     "start_time": "2020-11-19T12:30:14.836262",
     "status": "completed"
    },
    "tags": []
   },
   "outputs": [
    {
     "data": {
      "text/html": [
       "<div>\n",
       "<style scoped>\n",
       "    .dataframe tbody tr th:only-of-type {\n",
       "        vertical-align: middle;\n",
       "    }\n",
       "\n",
       "    .dataframe tbody tr th {\n",
       "        vertical-align: top;\n",
       "    }\n",
       "\n",
       "    .dataframe thead th {\n",
       "        text-align: right;\n",
       "    }\n",
       "</style>\n",
       "<table border=\"1\" class=\"dataframe\">\n",
       "  <thead>\n",
       "    <tr style=\"text-align: right;\">\n",
       "      <th></th>\n",
       "      <th>row_id</th>\n",
       "      <th>timestamp</th>\n",
       "      <th>user_id</th>\n",
       "      <th>content_id</th>\n",
       "      <th>content_type_id</th>\n",
       "      <th>task_container_id</th>\n",
       "      <th>user_answer</th>\n",
       "      <th>answered_correctly</th>\n",
       "      <th>prior_question_elapsed_time</th>\n",
       "      <th>prior_had_explanation_le</th>\n",
       "      <th>...</th>\n",
       "      <th>106</th>\n",
       "      <th>1</th>\n",
       "      <th>96</th>\n",
       "      <th>12</th>\n",
       "      <th>97</th>\n",
       "      <th>is_reading_section</th>\n",
       "      <th>is_easy_part</th>\n",
       "      <th>is_medium_part</th>\n",
       "      <th>is_difficult_part</th>\n",
       "      <th>is_first_question</th>\n",
       "    </tr>\n",
       "  </thead>\n",
       "  <tbody>\n",
       "    <tr>\n",
       "      <th>0</th>\n",
       "      <td>0</td>\n",
       "      <td>0</td>\n",
       "      <td>115</td>\n",
       "      <td>5692</td>\n",
       "      <td>0</td>\n",
       "      <td>1</td>\n",
       "      <td>3</td>\n",
       "      <td>1</td>\n",
       "      <td>25312.558594</td>\n",
       "      <td>0.0</td>\n",
       "      <td>...</td>\n",
       "      <td>0.0</td>\n",
       "      <td>0.0</td>\n",
       "      <td>0.0</td>\n",
       "      <td>0.0</td>\n",
       "      <td>0.0</td>\n",
       "      <td>1</td>\n",
       "      <td>0</td>\n",
       "      <td>0</td>\n",
       "      <td>1</td>\n",
       "      <td>0</td>\n",
       "    </tr>\n",
       "    <tr>\n",
       "      <th>1</th>\n",
       "      <td>1</td>\n",
       "      <td>56943</td>\n",
       "      <td>115</td>\n",
       "      <td>5716</td>\n",
       "      <td>0</td>\n",
       "      <td>2</td>\n",
       "      <td>2</td>\n",
       "      <td>1</td>\n",
       "      <td>37000.000000</td>\n",
       "      <td>0.0</td>\n",
       "      <td>...</td>\n",
       "      <td>0.0</td>\n",
       "      <td>0.0</td>\n",
       "      <td>0.0</td>\n",
       "      <td>0.0</td>\n",
       "      <td>0.0</td>\n",
       "      <td>1</td>\n",
       "      <td>0</td>\n",
       "      <td>0</td>\n",
       "      <td>1</td>\n",
       "      <td>0</td>\n",
       "    </tr>\n",
       "    <tr>\n",
       "      <th>2</th>\n",
       "      <td>2</td>\n",
       "      <td>118363</td>\n",
       "      <td>115</td>\n",
       "      <td>128</td>\n",
       "      <td>0</td>\n",
       "      <td>0</td>\n",
       "      <td>0</td>\n",
       "      <td>1</td>\n",
       "      <td>55000.000000</td>\n",
       "      <td>0.0</td>\n",
       "      <td>...</td>\n",
       "      <td>0.0</td>\n",
       "      <td>0.0</td>\n",
       "      <td>0.0</td>\n",
       "      <td>0.0</td>\n",
       "      <td>0.0</td>\n",
       "      <td>0</td>\n",
       "      <td>1</td>\n",
       "      <td>0</td>\n",
       "      <td>0</td>\n",
       "      <td>0</td>\n",
       "    </tr>\n",
       "    <tr>\n",
       "      <th>3</th>\n",
       "      <td>3</td>\n",
       "      <td>131167</td>\n",
       "      <td>115</td>\n",
       "      <td>7860</td>\n",
       "      <td>0</td>\n",
       "      <td>3</td>\n",
       "      <td>0</td>\n",
       "      <td>1</td>\n",
       "      <td>19000.000000</td>\n",
       "      <td>0.0</td>\n",
       "      <td>...</td>\n",
       "      <td>0.0</td>\n",
       "      <td>0.0</td>\n",
       "      <td>0.0</td>\n",
       "      <td>0.0</td>\n",
       "      <td>0.0</td>\n",
       "      <td>0</td>\n",
       "      <td>1</td>\n",
       "      <td>0</td>\n",
       "      <td>0</td>\n",
       "      <td>0</td>\n",
       "    </tr>\n",
       "    <tr>\n",
       "      <th>4</th>\n",
       "      <td>4</td>\n",
       "      <td>137965</td>\n",
       "      <td>115</td>\n",
       "      <td>7922</td>\n",
       "      <td>0</td>\n",
       "      <td>4</td>\n",
       "      <td>1</td>\n",
       "      <td>1</td>\n",
       "      <td>11000.000000</td>\n",
       "      <td>0.0</td>\n",
       "      <td>...</td>\n",
       "      <td>0.0</td>\n",
       "      <td>0.0</td>\n",
       "      <td>0.0</td>\n",
       "      <td>0.0</td>\n",
       "      <td>0.0</td>\n",
       "      <td>0</td>\n",
       "      <td>1</td>\n",
       "      <td>0</td>\n",
       "      <td>0</td>\n",
       "      <td>0</td>\n",
       "    </tr>\n",
       "  </tbody>\n",
       "</table>\n",
       "<p>5 rows × 48 columns</p>\n",
       "</div>"
      ],
      "text/plain": [
       "   row_id  timestamp  user_id  content_id  content_type_id  task_container_id  \\\n",
       "0       0          0      115        5692                0                  1   \n",
       "1       1      56943      115        5716                0                  2   \n",
       "2       2     118363      115         128                0                  0   \n",
       "3       3     131167      115        7860                0                  3   \n",
       "4       4     137965      115        7922                0                  4   \n",
       "\n",
       "   user_answer  answered_correctly  prior_question_elapsed_time  \\\n",
       "0            3                   1                 25312.558594   \n",
       "1            2                   1                 37000.000000   \n",
       "2            0                   1                 55000.000000   \n",
       "3            0                   1                 19000.000000   \n",
       "4            1                   1                 11000.000000   \n",
       "\n",
       "   prior_had_explanation_le  ...  106    1   96   12   97  is_reading_section  \\\n",
       "0                       0.0  ...  0.0  0.0  0.0  0.0  0.0                   1   \n",
       "1                       0.0  ...  0.0  0.0  0.0  0.0  0.0                   1   \n",
       "2                       0.0  ...  0.0  0.0  0.0  0.0  0.0                   0   \n",
       "3                       0.0  ...  0.0  0.0  0.0  0.0  0.0                   0   \n",
       "4                       0.0  ...  0.0  0.0  0.0  0.0  0.0                   0   \n",
       "\n",
       "   is_easy_part  is_medium_part  is_difficult_part  is_first_question  \n",
       "0             0               0                  1                  0  \n",
       "1             0               0                  1                  0  \n",
       "2             1               0                  0                  0  \n",
       "3             1               0                  0                  0  \n",
       "4             1               0                  0                  0  \n",
       "\n",
       "[5 rows x 48 columns]"
      ]
     },
     "execution_count": 35,
     "metadata": {},
     "output_type": "execute_result"
    }
   ],
   "source": [
    "data_df.head()"
   ]
  },
  {
   "cell_type": "code",
   "execution_count": 36,
   "metadata": {
    "execution": {
     "iopub.execute_input": "2020-11-19T12:30:15.127961Z",
     "iopub.status.busy": "2020-11-19T12:30:15.126816Z",
     "iopub.status.idle": "2020-11-19T12:30:15.244237Z",
     "shell.execute_reply": "2020-11-19T12:30:15.243394Z"
    },
    "papermill": {
     "duration": 0.203618,
     "end_time": "2020-11-19T12:30:15.244448",
     "exception": false,
     "start_time": "2020-11-19T12:30:15.040830",
     "status": "completed"
    },
    "tags": []
   },
   "outputs": [],
   "source": [
    "user_agg = data_df.groupby('user_id')['answered_correctly'].\\\n",
    "                    agg(['sum', 'count']) #,'mean','median','std'])\n",
    "#train_df['user_sum'] = train_df['user_id'].map(user_agg['sum']).astype('int32')\n",
    "data_df['user_count'] = data_df['user_id'].map(user_agg['count']).astype('int32')\n",
    "data_df['user_nb_mean'] = data_df['user_id'].map(user_agg['sum']/user_agg['count']).astype('int32')\n",
    "#train_df['user_mean'] = train_df['user_id'].map(user_agg['mean']).astype('int32')\n",
    "#train_df['user_median'] = train_df['user_id'].map(user_agg['median']).astype('int32')\n",
    "#train_df['user_std'] = train_df['user_id'].map(user_agg['std']).astype('int32')"
   ]
  },
  {
   "cell_type": "code",
   "execution_count": 37,
   "metadata": {
    "execution": {
     "iopub.execute_input": "2020-11-19T12:30:15.396924Z",
     "iopub.status.busy": "2020-11-19T12:30:15.395800Z",
     "iopub.status.idle": "2020-11-19T12:30:15.402071Z",
     "shell.execute_reply": "2020-11-19T12:30:15.401255Z"
    },
    "papermill": {
     "duration": 0.08584,
     "end_time": "2020-11-19T12:30:15.402203",
     "exception": false,
     "start_time": "2020-11-19T12:30:15.316363",
     "status": "completed"
    },
    "tags": []
   },
   "outputs": [],
   "source": [
    "data_df['part'].fillna(4, inplace = True)"
   ]
  },
  {
   "cell_type": "code",
   "execution_count": 38,
   "metadata": {
    "execution": {
     "iopub.execute_input": "2020-11-19T12:30:15.569093Z",
     "iopub.status.busy": "2020-11-19T12:30:15.567841Z",
     "iopub.status.idle": "2020-11-19T12:30:15.643268Z",
     "shell.execute_reply": "2020-11-19T12:30:15.642594Z"
    },
    "papermill": {
     "duration": 0.169232,
     "end_time": "2020-11-19T12:30:15.643420",
     "exception": false,
     "start_time": "2020-11-19T12:30:15.474188",
     "status": "completed"
    },
    "tags": []
   },
   "outputs": [],
   "source": [
    "content_agg = data_df.groupby('content_id')['answered_correctly'].\\\n",
    "                        agg(['sum', 'count']) #'mean', 'median', 'std'\n",
    "data_df['content_count'] = data_df['content_id'].map(content_agg['count']).astype('int32')\n",
    "#train_df['content_sum'] = train_df['content_id'].map(content_agg['sum']).astype('int32')\n",
    "data_df['content_nb_mean'] = data_df['content_id'].map(content_agg['sum'] / content_agg['count'])"
   ]
  },
  {
   "cell_type": "markdown",
   "metadata": {
    "papermill": {
     "duration": 0.076532,
     "end_time": "2020-11-19T12:30:15.792518",
     "exception": false,
     "start_time": "2020-11-19T12:30:15.715986",
     "status": "completed"
    },
    "tags": []
   },
   "source": [
    "# Baseline"
   ]
  },
  {
   "cell_type": "code",
   "execution_count": 39,
   "metadata": {
    "execution": {
     "iopub.execute_input": "2020-11-19T12:30:15.953221Z",
     "iopub.status.busy": "2020-11-19T12:30:15.952073Z",
     "iopub.status.idle": "2020-11-19T12:30:15.960121Z",
     "shell.execute_reply": "2020-11-19T12:30:15.958181Z"
    },
    "papermill": {
     "duration": 0.090722,
     "end_time": "2020-11-19T12:30:15.960400",
     "exception": false,
     "start_time": "2020-11-19T12:30:15.869678",
     "status": "completed"
    },
    "tags": []
   },
   "outputs": [
    {
     "data": {
      "text/plain": [
       "Index(['row_id', 'timestamp', 'user_id', 'content_id', 'content_type_id',\n",
       "       'task_container_id', 'user_answer', 'answered_correctly',\n",
       "       'prior_question_elapsed_time', 'prior_had_explanation_le',\n",
       "       'timestamp_by_month', 'prior_question_elapsed_time_in_min',\n",
       "       'question_id', 'bundle_id', 'correct_answer', 'part', 'nb_tags',\n",
       "       'tags1', 'tags2', 'tags3', 'tags4', 'tags5', 'tags6', '92', '38', '81',\n",
       "       '29', '136', '162', '102', '8', '143', '131', '73', '21', '53', '82',\n",
       "       '74', '106', '1', '96', '12', '97', 'is_reading_section',\n",
       "       'is_easy_part', 'is_medium_part', 'is_difficult_part',\n",
       "       'is_first_question', 'user_count', 'user_nb_mean', 'content_count',\n",
       "       'content_nb_mean'],\n",
       "      dtype='object')"
      ]
     },
     "execution_count": 39,
     "metadata": {},
     "output_type": "execute_result"
    }
   ],
   "source": [
    "data_df.columns\n"
   ]
  },
  {
   "cell_type": "code",
   "execution_count": 40,
   "metadata": {
    "execution": {
     "iopub.execute_input": "2020-11-19T12:30:16.125733Z",
     "iopub.status.busy": "2020-11-19T12:30:16.124717Z",
     "iopub.status.idle": "2020-11-19T12:30:16.127714Z",
     "shell.execute_reply": "2020-11-19T12:30:16.126934Z"
    },
    "papermill": {
     "duration": 0.081969,
     "end_time": "2020-11-19T12:30:16.127847",
     "exception": false,
     "start_time": "2020-11-19T12:30:16.045878",
     "status": "completed"
    },
    "tags": []
   },
   "outputs": [],
   "source": [
    "from sklearn.preprocessing import StandardScaler\n",
    "sc = StandardScaler()"
   ]
  },
  {
   "cell_type": "code",
   "execution_count": 41,
   "metadata": {
    "execution": {
     "iopub.execute_input": "2020-11-19T12:30:16.289994Z",
     "iopub.status.busy": "2020-11-19T12:30:16.288980Z",
     "iopub.status.idle": "2020-11-19T12:30:18.164606Z",
     "shell.execute_reply": "2020-11-19T12:30:18.163879Z"
    },
    "papermill": {
     "duration": 1.963381,
     "end_time": "2020-11-19T12:30:18.164756",
     "exception": false,
     "start_time": "2020-11-19T12:30:16.201375",
     "status": "completed"
    },
    "tags": []
   },
   "outputs": [],
   "source": [
    "\n",
    "\n",
    "features_bsl = ['timestamp_by_month', 'tags1', 'tags2', 'tags3', \n",
    "                '92', '38', '81', '29', '136', '162', '102', '8', '143', '131',\n",
    "                'is_first_question', 'part',\n",
    "                'prior_had_explanation_le', \n",
    "                'prior_question_elapsed_time_in_min',\n",
    "                'content_id', 'content_count', 'content_nb_mean',\n",
    "                'user_nb_mean', 'user_count',\n",
    "                'is_easy_part', 'is_medium_part', 'is_difficult_part'\n",
    "                ]\n",
    "\n",
    "\n",
    "X = data_df[features_bsl]\n",
    "X = sc.fit_transform(X)\n",
    "y = data_df['answered_correctly']\n",
    "\n",
    "from sklearn.model_selection import train_test_split\n",
    "X_train, X_test, y_train, y_test = train_test_split(X, y, test_size=0.20, random_state=1)"
   ]
  },
  {
   "cell_type": "code",
   "execution_count": 42,
   "metadata": {
    "execution": {
     "iopub.execute_input": "2020-11-19T12:30:18.355992Z",
     "iopub.status.busy": "2020-11-19T12:30:18.354885Z",
     "iopub.status.idle": "2020-11-19T12:30:18.412195Z",
     "shell.execute_reply": "2020-11-19T12:30:18.411358Z"
    },
    "papermill": {
     "duration": 0.157258,
     "end_time": "2020-11-19T12:30:18.412378",
     "exception": false,
     "start_time": "2020-11-19T12:30:18.255120",
     "status": "completed"
    },
    "tags": []
   },
   "outputs": [],
   "source": [
    "from lightgbm import LGBMClassifier\n",
    "import lightgbm as lgb"
   ]
  },
  {
   "cell_type": "code",
   "execution_count": 43,
   "metadata": {
    "execution": {
     "iopub.execute_input": "2020-11-19T12:30:18.581904Z",
     "iopub.status.busy": "2020-11-19T12:30:18.580178Z",
     "iopub.status.idle": "2020-11-19T12:30:18.584529Z",
     "shell.execute_reply": "2020-11-19T12:30:18.585131Z"
    },
    "papermill": {
     "duration": 0.092632,
     "end_time": "2020-11-19T12:30:18.585373",
     "exception": false,
     "start_time": "2020-11-19T12:30:18.492741",
     "status": "completed"
    },
    "tags": []
   },
   "outputs": [],
   "source": [
    "fit_params={\"early_stopping_rounds\":30, \n",
    "            \"eval_metric\" : 'auc', \n",
    "            \"eval_set\" : [(X_test,y_test)],\n",
    "            'eval_names': ['valid'],\n",
    "            #'callbacks': [lgb.reset_parameter(learning_rate=learning_rate_010_decay_power_099)],\n",
    "            'verbose': 100,\n",
    "            'categorical_feature': 'auto'}"
   ]
  },
  {
   "cell_type": "code",
   "execution_count": 44,
   "metadata": {
    "execution": {
     "iopub.execute_input": "2020-11-19T12:30:18.758003Z",
     "iopub.status.busy": "2020-11-19T12:30:18.757128Z",
     "iopub.status.idle": "2020-11-19T12:30:18.766574Z",
     "shell.execute_reply": "2020-11-19T12:30:18.765884Z"
    },
    "papermill": {
     "duration": 0.103478,
     "end_time": "2020-11-19T12:30:18.766715",
     "exception": false,
     "start_time": "2020-11-19T12:30:18.663237",
     "status": "completed"
    },
    "tags": []
   },
   "outputs": [],
   "source": [
    "from scipy.stats import randint as sp_randint\n",
    "from scipy.stats import uniform as sp_uniform\n",
    "param_test ={'num_leaves': sp_randint(6, 50), \n",
    "             'min_child_samples': sp_randint(100, 500), \n",
    "             'min_child_weight': [1e-5, 1e-3, 1e-2, 1e-1, 1, 1e1, 1e2, 1e3, 1e4],\n",
    "             'subsample': sp_uniform(loc=0.2, scale=0.8), \n",
    "             'colsample_bytree': sp_uniform(loc=0.4, scale=0.6),\n",
    "             'reg_alpha': [0, 1e-1, 1, 2, 5, 7, 10, 50, 100],\n",
    "             'reg_lambda': [0, 1e-1, 1, 5, 10, 20, 50, 100]}"
   ]
  },
  {
   "cell_type": "code",
   "execution_count": 45,
   "metadata": {
    "execution": {
     "iopub.execute_input": "2020-11-19T12:30:18.945797Z",
     "iopub.status.busy": "2020-11-19T12:30:18.944659Z",
     "iopub.status.idle": "2020-11-19T12:30:18.950019Z",
     "shell.execute_reply": "2020-11-19T12:30:18.948667Z"
    },
    "papermill": {
     "duration": 0.107182,
     "end_time": "2020-11-19T12:30:18.950245",
     "exception": false,
     "start_time": "2020-11-19T12:30:18.843063",
     "status": "completed"
    },
    "tags": []
   },
   "outputs": [],
   "source": [
    "#This parameter defines the number of HP points to be tested\n",
    "n_HP_points_to_test = 100\n",
    "\n",
    "from sklearn.model_selection import RandomizedSearchCV, GridSearchCV\n",
    "\n",
    "#n_estimators is set to a \"large value\". The actual number of trees build will depend on early stopping and 5000 define only the absolute maximum\n",
    "clf = lgb.LGBMClassifier(max_depth=7, random_state=1, metric='None', n_jobs=4, n_estimators=200)\n",
    "gs = RandomizedSearchCV(\n",
    "    estimator=clf, param_distributions=param_test, \n",
    "    n_iter=n_HP_points_to_test,\n",
    "    scoring='roc_auc',\n",
    "    cv=3,\n",
    "    refit=True,\n",
    "    random_state=1,\n",
    "    verbose=True)"
   ]
  },
  {
   "cell_type": "code",
   "execution_count": 46,
   "metadata": {
    "execution": {
     "iopub.execute_input": "2020-11-19T12:30:19.149955Z",
     "iopub.status.busy": "2020-11-19T12:30:19.148781Z",
     "iopub.status.idle": "2020-11-19T12:30:19.153227Z",
     "shell.execute_reply": "2020-11-19T12:30:19.152267Z"
    },
    "papermill": {
     "duration": 0.098006,
     "end_time": "2020-11-19T12:30:19.153409",
     "exception": false,
     "start_time": "2020-11-19T12:30:19.055403",
     "status": "completed"
    },
    "tags": []
   },
   "outputs": [],
   "source": [
    "#gs.fit(X_train, y_train, **fit_params)\n",
    "#print('Best score reached: {} with params: {} '.format(gs.best_score_, gs.best_params_))"
   ]
  },
  {
   "cell_type": "markdown",
   "metadata": {
    "papermill": {
     "duration": 0.076684,
     "end_time": "2020-11-19T12:30:19.312910",
     "exception": false,
     "start_time": "2020-11-19T12:30:19.236226",
     "status": "completed"
    },
    "tags": []
   },
   "source": [
    "Best score reached: 0.7514851143810443 with params: {'colsample_bytree': 0.9080972808940212, 'min_child_samples': 343, 'min_child_weight': 0.01, 'num_leaves': 42, 'reg_alpha': 5, 'reg_lambda': 0, 'subsample': 0.863184719640143} "
   ]
  },
  {
   "cell_type": "code",
   "execution_count": 47,
   "metadata": {
    "execution": {
     "iopub.execute_input": "2020-11-19T12:30:19.486485Z",
     "iopub.status.busy": "2020-11-19T12:30:19.485537Z",
     "iopub.status.idle": "2020-11-19T12:30:19.528980Z",
     "shell.execute_reply": "2020-11-19T12:30:19.527857Z"
    },
    "papermill": {
     "duration": 0.134335,
     "end_time": "2020-11-19T12:30:19.529187",
     "exception": false,
     "start_time": "2020-11-19T12:30:19.394852",
     "status": "completed"
    },
    "tags": []
   },
   "outputs": [
    {
     "data": {
      "text/plain": [
       "count    977451.000000\n",
       "mean          0.650571\n",
       "std           0.476790\n",
       "min           0.000000\n",
       "25%           0.000000\n",
       "50%           1.000000\n",
       "75%           1.000000\n",
       "max           1.000000\n",
       "Name: answered_correctly, dtype: float64"
      ]
     },
     "execution_count": 47,
     "metadata": {},
     "output_type": "execute_result"
    }
   ],
   "source": [
    "y.describe()"
   ]
  },
  {
   "cell_type": "code",
   "execution_count": 48,
   "metadata": {
    "execution": {
     "iopub.execute_input": "2020-11-19T12:30:19.755956Z",
     "iopub.status.busy": "2020-11-19T12:30:19.754690Z",
     "iopub.status.idle": "2020-11-19T12:30:19.759128Z",
     "shell.execute_reply": "2020-11-19T12:30:19.758237Z"
    },
    "papermill": {
     "duration": 0.117614,
     "end_time": "2020-11-19T12:30:19.759323",
     "exception": false,
     "start_time": "2020-11-19T12:30:19.641709",
     "status": "completed"
    },
    "tags": []
   },
   "outputs": [],
   "source": [
    "clf = lgb.LGBMClassifier(max_depth=7, \n",
    "                         random_state=1, metric='None', \n",
    "                         n_jobs=4, n_estimators=200)\n",
    "\n",
    "\n",
    "params = {\n",
    "    #'bagging_fraction': 0.5817242323514327,\n",
    "    'feature_fraction': 0.6884588361650144,\n",
    "    #'learning_rate': 0.42887924851375825, \n",
    "    'learning_rate': 0.4, \n",
    "    'max_depth': 7,\n",
    "    'min_child_samples': 100, \n",
    "    'min_child_weight': 0.01,\n",
    "    'min_data_in_leaf': 20, \n",
    "    'n_estimators': 200,\n",
    "    'n_job': 4,\n",
    "    'num_leaves': 42,\n",
    "    'random_state': 1,\n",
    "    'reg_alpha': 5, \n",
    "    'reg_lambda': 0,\n",
    "    'subsample': 0.863184719640143\n",
    "}\n",
    "\n",
    "lgbm = LGBMClassifier( **params)"
   ]
  },
  {
   "cell_type": "code",
   "execution_count": 49,
   "metadata": {
    "execution": {
     "iopub.execute_input": "2020-11-19T12:30:20.019100Z",
     "iopub.status.busy": "2020-11-19T12:30:20.018102Z",
     "iopub.status.idle": "2020-11-19T12:30:34.038443Z",
     "shell.execute_reply": "2020-11-19T12:30:34.039186Z"
    },
    "papermill": {
     "duration": 14.199693,
     "end_time": "2020-11-19T12:30:34.039405",
     "exception": false,
     "start_time": "2020-11-19T12:30:19.839712",
     "status": "completed"
    },
    "tags": []
   },
   "outputs": [
    {
     "data": {
      "text/plain": [
       "LGBMClassifier(feature_fraction=0.6884588361650144, learning_rate=0.4,\n",
       "               max_depth=7, min_child_samples=100, min_child_weight=0.01,\n",
       "               min_data_in_leaf=20, n_estimators=200, n_job=4, num_leaves=42,\n",
       "               random_state=1, reg_alpha=5, reg_lambda=0,\n",
       "               subsample=0.863184719640143)"
      ]
     },
     "execution_count": 49,
     "metadata": {},
     "output_type": "execute_result"
    }
   ],
   "source": [
    "lgbm.fit(data_df[features_bsl], y)"
   ]
  },
  {
   "cell_type": "code",
   "execution_count": 50,
   "metadata": {
    "execution": {
     "iopub.execute_input": "2020-11-19T12:30:34.310993Z",
     "iopub.status.busy": "2020-11-19T12:30:34.305501Z",
     "iopub.status.idle": "2020-11-19T12:30:38.644960Z",
     "shell.execute_reply": "2020-11-19T12:30:38.644058Z"
    },
    "papermill": {
     "duration": 4.510141,
     "end_time": "2020-11-19T12:30:38.645130",
     "exception": false,
     "start_time": "2020-11-19T12:30:34.134989",
     "status": "completed"
    },
    "tags": []
   },
   "outputs": [
    {
     "data": {
      "text/plain": [
       "0.7703414201839481"
      ]
     },
     "execution_count": 50,
     "metadata": {},
     "output_type": "execute_result"
    }
   ],
   "source": [
    "from sklearn.metrics import roc_auc_score\n",
    "roc_auc_score(y.values, lgbm.predict_proba(data_df[features_bsl])[:,1])"
   ]
  },
  {
   "cell_type": "code",
   "execution_count": 51,
   "metadata": {
    "execution": {
     "iopub.execute_input": "2020-11-19T12:30:38.818000Z",
     "iopub.status.busy": "2020-11-19T12:30:38.811140Z",
     "iopub.status.idle": "2020-11-19T12:30:39.233779Z",
     "shell.execute_reply": "2020-11-19T12:30:39.233095Z"
    },
    "papermill": {
     "duration": 0.510916,
     "end_time": "2020-11-19T12:30:39.233961",
     "exception": false,
     "start_time": "2020-11-19T12:30:38.723045",
     "status": "completed"
    },
    "tags": []
   },
   "outputs": [
    {
     "data": {
      "image/png": "[encoded data removed]",
      "text/plain": [
       "<Figure size 432x288 with 1 Axes>"
      ]
     },
     "metadata": {
      "needs_background": "light"
     },
     "output_type": "display_data"
    }
   ],
   "source": [
    "#displaying the most important features\n",
    "lgb.plot_importance(lgbm)\n",
    "plt.show()"
   ]
  },
  {
   "cell_type": "code",
   "execution_count": 52,
   "metadata": {
    "execution": {
     "iopub.execute_input": "2020-11-19T12:30:39.404128Z",
     "iopub.status.busy": "2020-11-19T12:30:39.403124Z",
     "iopub.status.idle": "2020-11-19T12:30:39.413863Z",
     "shell.execute_reply": "2020-11-19T12:30:39.413062Z"
    },
    "papermill": {
     "duration": 0.101302,
     "end_time": "2020-11-19T12:30:39.414002",
     "exception": false,
     "start_time": "2020-11-19T12:30:39.312700",
     "status": "completed"
    },
    "tags": []
   },
   "outputs": [
    {
     "name": "stdout",
     "output_type": "stream",
     "text": [
      "/kaggle/input/riiid-test-answer-prediction/lectures.csv\n",
      "/kaggle/input/riiid-test-answer-prediction/example_test.csv\n",
      "/kaggle/input/riiid-test-answer-prediction/example_sample_submission.csv\n",
      "/kaggle/input/riiid-test-answer-prediction/train.csv\n",
      "/kaggle/input/riiid-test-answer-prediction/questions.csv\n",
      "/kaggle/input/riiid-test-answer-prediction/riiideducation/__init__.py\n",
      "/kaggle/input/riiid-test-answer-prediction/riiideducation/competition.cpython-37m-x86_64-linux-gnu.so\n"
     ]
    }
   ],
   "source": [
    "import os\n",
    "for dirname, _, filenames in os.walk('/kaggle/input'):\n",
    "    for filename in filenames:\n",
    "        print(os.path.join(dirname, filename))"
   ]
  },
  {
   "cell_type": "code",
   "execution_count": 53,
   "metadata": {
    "execution": {
     "iopub.execute_input": "2020-11-19T12:30:39.578008Z",
     "iopub.status.busy": "2020-11-19T12:30:39.576940Z",
     "iopub.status.idle": "2020-11-19T12:30:39.590981Z",
     "shell.execute_reply": "2020-11-19T12:30:39.589816Z"
    },
    "papermill": {
     "duration": 0.099657,
     "end_time": "2020-11-19T12:30:39.591172",
     "exception": false,
     "start_time": "2020-11-19T12:30:39.491515",
     "status": "completed"
    },
    "tags": []
   },
   "outputs": [],
   "source": [
    "import riiideducation\n",
    "import pandas as pd\n",
    "\n",
    "env = riiideducation.make_env()"
   ]
  },
  {
   "cell_type": "code",
   "execution_count": 54,
   "metadata": {
    "execution": {
     "iopub.execute_input": "2020-11-19T12:30:39.777881Z",
     "iopub.status.busy": "2020-11-19T12:30:39.769848Z",
     "iopub.status.idle": "2020-11-19T12:30:39.781690Z",
     "shell.execute_reply": "2020-11-19T12:30:39.780884Z"
    },
    "papermill": {
     "duration": 0.108341,
     "end_time": "2020-11-19T12:30:39.781821",
     "exception": false,
     "start_time": "2020-11-19T12:30:39.673480",
     "status": "completed"
    },
    "tags": []
   },
   "outputs": [],
   "source": [
    "from collections import defaultdict\n",
    "user_sum_dict = user_agg['sum'].astype('int16').to_dict(defaultdict(int))\n",
    "user_count_dict = user_agg['count'].astype('int16').to_dict(defaultdict(int))\n",
    "content_sum_dict = content_agg['sum'].astype('int32').to_dict(defaultdict(int))\n",
    "content_count_dict = content_agg['count'].astype('int32').to_dict(defaultdict(int))"
   ]
  },
  {
   "cell_type": "code",
   "execution_count": 55,
   "metadata": {
    "execution": {
     "iopub.execute_input": "2020-11-19T12:30:39.975353Z",
     "iopub.status.busy": "2020-11-19T12:30:39.968459Z",
     "iopub.status.idle": "2020-11-19T12:30:40.598469Z",
     "shell.execute_reply": "2020-11-19T12:30:40.597754Z"
    },
    "papermill": {
     "duration": 0.739598,
     "end_time": "2020-11-19T12:30:40.598615",
     "exception": false,
     "start_time": "2020-11-19T12:30:39.859017",
     "status": "completed"
    },
    "tags": []
   },
   "outputs": [
    {
     "name": "stderr",
     "output_type": "stream",
     "text": [
      "/opt/conda/lib/python3.7/site-packages/ipykernel_launcher.py:34: RuntimeWarning: invalid value encountered in true_divide\n",
      "/opt/conda/lib/python3.7/site-packages/ipykernel_launcher.py:34: RuntimeWarning: invalid value encountered in true_divide\n",
      "/opt/conda/lib/python3.7/site-packages/ipykernel_launcher.py:34: RuntimeWarning: invalid value encountered in true_divide\n",
      "/opt/conda/lib/python3.7/site-packages/ipykernel_launcher.py:34: RuntimeWarning: invalid value encountered in true_divide\n"
     ]
    }
   ],
   "source": [
    "iter_test = env.iter_test()\n",
    "\n",
    "for (test_df, sample_prediction_df) in iter_test:\n",
    "    test_df = test_df[test_df['content_type_id'] == 0]\n",
    "    test_df['is_first_question'] = 0\n",
    "    \n",
    "    test_df.loc[test_df['prior_question_had_explanation'].isna(),'is_first_question'] = 1\n",
    "    \n",
    "    test_df['prior_question_had_explanation'].fillna(False, inplace=True)\n",
    "    test_df.loc[test_df[\"prior_question_had_explanation\"]== True, \"prior_had_explanation_le\"] = 1\n",
    "    test_df.loc[test_df[\"prior_question_had_explanation\"]== False, \"prior_had_explanation_le\"] = 0\n",
    "    \n",
    "    prior_question_elapsed_time_mean = test_df[~test_df['prior_question_elapsed_time'].isna()]['prior_question_elapsed_time'].mean()\n",
    "    test_df['prior_question_elapsed_time'].fillna(prior_question_elapsed_time_mean, inplace=True)\n",
    "    \n",
    "    \n",
    "    test_df = pd.merge(test_df,questions_df, how='left', left_on='content_id', right_on='question_id').sort_values('row_id')\n",
    "    test_df = test_df.sort_values(['user_id','timestamp'], ascending=False)\n",
    "    \n",
    "    user_sum = np.zeros(len(test_df), dtype=np.int16)\n",
    "    user_count = np.zeros(len(test_df), dtype=np.int16)\n",
    "    content_sum = np.zeros(len(test_df), dtype=np.int32)\n",
    "    content_count = np.zeros(len(test_df), dtype=np.int32)\n",
    "    for i, (user_id, content_id) in enumerate(zip(test_df['user_id'].values, test_df['content_id'].values)):\n",
    "        user_sum[i] = user_sum_dict[user_id]\n",
    "        user_count[i] = user_count_dict[user_id]\n",
    "        content_sum[i] = content_sum_dict[content_id]\n",
    "        content_count[i] = content_count_dict[content_id]\n",
    "\n",
    "    test_df['user_count'] = user_count\n",
    "    test_df['user_sum'] = user_sum\n",
    "    test_df.loc[test_df[\"user_count\"]==0, \"user_count\"] = 1#test_df[test_df[\"user_count\"]==0][\"user_sum\"]\n",
    "    \n",
    "    test_df['user_nb_mean'] = user_sum /user_count\n",
    "    \n",
    "    test_df['part'] = test_df.part - 1\n",
    "    test_df['part'].fillna(4, inplace = True)\n",
    "    \n",
    "    # New user ? Pas encore de réponses ?\n",
    "    test_df['content_count'] = content_count\n",
    "    test_df.loc[test_df[\"content_count\"]==0, \"content_count\"] = 1\n",
    "    test_df['content_nb_mean'] = content_sum/content_count\n",
    "    \n",
    "    test_df['prior_question_elapsed_time_in_min'] = test_df['prior_question_elapsed_time']/1000/60/60\n",
    "    test_df['timestamp_by_month'] = test_df['timestamp']/nbMillisecByMonth\n",
    "    X = test_df[features_bsl]\n",
    "    #X = sc.fit_transform(X)\n",
    "    \n",
    "    test_df['answered_correctly'] =  lgbm.predict(X)\n",
    "    env.predict(test_df.loc[test_df['content_type_id'] == 0, ['row_id', 'answered_correctly']])"
   ]
  },
  {
   "cell_type": "code",
   "execution_count": null,
   "metadata": {
    "papermill": {
     "duration": 0.079638,
     "end_time": "2020-11-19T12:30:40.758620",
     "exception": false,
     "start_time": "2020-11-19T12:30:40.678982",
     "status": "completed"
    },
    "tags": []
   },
   "outputs": [],
   "source": []
  }
 ],
 "metadata": {
  "kernelspec": {
   "display_name": "Python 3",
   "language": "python",
   "name": "python3"
  },
  "language_info": {
   "codemirror_mode": {
    "name": "ipython",
    "version": 3
   },
   "file_extension": ".py",
   "mimetype": "text/x-python",
   "name": "python",
   "nbconvert_exporter": "python",
   "pygments_lexer": "ipython3",
   "version": "3.7.6"
  },
  "papermill": {
   "duration": 55.126639,
   "end_time": "2020-11-19T12:30:40.947868",
   "environment_variables": {},
   "exception": null,
   "input_path": "__notebook__.ipynb",
   "output_path": "__notebook__.ipynb",
   "parameters": {},
   "start_time": "2020-11-19T12:29:45.821229",
   "version": "2.1.0"
  }
 },
 "nbformat": 4,
 "nbformat_minor": 4
}
