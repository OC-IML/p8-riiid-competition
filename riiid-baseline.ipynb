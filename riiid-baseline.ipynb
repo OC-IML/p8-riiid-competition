{
 "cells": [
  {
   "cell_type": "markdown",
   "metadata": {
    "papermill": {
     "duration": 0.040263,
     "end_time": "2020-11-24T08:29:37.167828",
     "exception": false,
     "start_time": "2020-11-24T08:29:37.127565",
     "status": "completed"
    },
    "tags": []
   },
   "source": [
    "# **Riiid! Answer Correctness Prediction V3**"
   ]
  },
  {
   "cell_type": "markdown",
   "metadata": {
    "papermill": {
     "duration": 0.038334,
     "end_time": "2020-11-24T08:29:37.245337",
     "exception": false,
     "start_time": "2020-11-24T08:29:37.207003",
     "status": "completed"
    },
    "tags": []
   },
   "source": [
    "## Imports"
   ]
  },
  {
   "cell_type": "code",
   "execution_count": 1,
   "metadata": {
    "execution": {
     "iopub.execute_input": "2020-11-24T08:29:37.339400Z",
     "iopub.status.busy": "2020-11-24T08:29:37.338512Z",
     "iopub.status.idle": "2020-11-24T08:29:39.949416Z",
     "shell.execute_reply": "2020-11-24T08:29:39.948592Z"
    },
    "papermill": {
     "duration": 2.662597,
     "end_time": "2020-11-24T08:29:39.949545",
     "exception": false,
     "start_time": "2020-11-24T08:29:37.286948",
     "status": "completed"
    },
    "tags": []
   },
   "outputs": [],
   "source": [
    "import lightgbm as lgb\n",
    "import matplotlib.pyplot as plt\n",
    "import nltk\n",
    "import numpy as np\n",
    "import pandas as pd\n",
    "import seaborn as sns\n",
    "import time\n",
    "\n",
    "\n",
    "from collections import defaultdict\n",
    "from hyperopt import hp\n",
    "from hyperopt import fmin, tpe, STATUS_OK, Trials\n",
    "from hyperopt.pyll import scope\n",
    "from lightgbm import LGBMClassifier\n",
    "from sklearn import pipeline\n",
    "from sklearn.metrics import roc_auc_score\n",
    "from sklearn.model_selection import KFold, cross_val_score\n",
    "from sklearn.model_selection import cross_val_score\n",
    "from sklearn.model_selection import train_test_split\n",
    "from sklearn.preprocessing import MultiLabelBinarizer\n",
    "from sklearn.preprocessing import StandardScaler\n",
    "from sklearn.preprocessing import MinMaxScaler\n",
    "from tqdm.notebook import tqdm"
   ]
  },
  {
   "cell_type": "markdown",
   "metadata": {
    "papermill": {
     "duration": 0.039435,
     "end_time": "2020-11-24T08:29:40.028350",
     "exception": false,
     "start_time": "2020-11-24T08:29:39.988915",
     "status": "completed"
    },
    "tags": []
   },
   "source": [
    "## GLOBAL PARAMETERS"
   ]
  },
  {
   "cell_type": "code",
   "execution_count": 2,
   "metadata": {
    "execution": {
     "iopub.execute_input": "2020-11-24T08:29:40.120138Z",
     "iopub.status.busy": "2020-11-24T08:29:40.119225Z",
     "iopub.status.idle": "2020-11-24T08:29:40.122482Z",
     "shell.execute_reply": "2020-11-24T08:29:40.121838Z"
    },
    "papermill": {
     "duration": 0.05556,
     "end_time": "2020-11-24T08:29:40.122603",
     "exception": false,
     "start_time": "2020-11-24T08:29:40.067043",
     "status": "completed"
    },
    "tags": []
   },
   "outputs": [],
   "source": [
    "IS_TIMESTAMPS_IN_MONTH = True\n",
    "\n",
    "IS_TIMESTAMPS_IN_DAY = False\n",
    "\n",
    "IS_PRIOR_TIME_IN_HOUR = True\n",
    "\n",
    "IS_FIRST_QUESTION = True\n",
    "\n",
    "IS_TEST = True\n",
    "\n",
    "IS_EVAL = False\n",
    "\n",
    "nbmillisec_in_hour = 1000 * 60 * 60"
   ]
  },
  {
   "cell_type": "markdown",
   "metadata": {
    "papermill": {
     "duration": 0.038334,
     "end_time": "2020-11-24T08:29:40.199772",
     "exception": false,
     "start_time": "2020-11-24T08:29:40.161438",
     "status": "completed"
    },
    "tags": []
   },
   "source": [
    "## Functions"
   ]
  },
  {
   "cell_type": "code",
   "execution_count": 3,
   "metadata": {
    "execution": {
     "iopub.execute_input": "2020-11-24T08:29:40.305907Z",
     "iopub.status.busy": "2020-11-24T08:29:40.304869Z",
     "iopub.status.idle": "2020-11-24T08:29:40.308166Z",
     "shell.execute_reply": "2020-11-24T08:29:40.308769Z"
    },
    "papermill": {
     "duration": 0.063225,
     "end_time": "2020-11-24T08:29:40.308974",
     "exception": false,
     "start_time": "2020-11-24T08:29:40.245749",
     "status": "completed"
    },
    "tags": []
   },
   "outputs": [],
   "source": [
    "def distribution_nb_apparition_tag_questions(nb_tags, title, with_return):\n",
    "    tags_most_common = tags_frequence.most_common(nb_tags)\n",
    "    tags_df = pd.DataFrame(tags_most_common, columns = ['tags' , 'nb_tags']) \n",
    "    tags_df.columns\n",
    "    tags_sorted_df = tags_df.sort_values(['nb_tags'], ascending=False)\n",
    "    tags_counts = tags_sorted_df['nb_tags'].values\n",
    "    plt.plot(tags_counts)\n",
    "    plt.title(title)\n",
    "    plt.grid()\n",
    "    plt.xlabel(\"Nombre de tags\")\n",
    "    plt.ylabel(\"Nombre d'occurences\")\n",
    "    plt.show()\n",
    "    if(with_return):\n",
    "        return tags_df\n",
    "    \n",
    "\n",
    "def tags_column_processing(tags):\n",
    "    new_tags = []\n",
    "    tags_words = tags.split()\n",
    "    for tag in tags_words:\n",
    "        if (tag in SELECTED_TAGS) :\n",
    "            new_tags.append(tag)   \n",
    "    return new_tags"
   ]
  },
  {
   "cell_type": "code",
   "execution_count": 4,
   "metadata": {
    "execution": {
     "iopub.execute_input": "2020-11-24T08:29:40.410164Z",
     "iopub.status.busy": "2020-11-24T08:29:40.409099Z",
     "iopub.status.idle": "2020-11-24T08:29:40.412914Z",
     "shell.execute_reply": "2020-11-24T08:29:40.412215Z"
    },
    "papermill": {
     "duration": 0.060228,
     "end_time": "2020-11-24T08:29:40.413061",
     "exception": false,
     "start_time": "2020-11-24T08:29:40.352833",
     "status": "completed"
    },
    "tags": []
   },
   "outputs": [],
   "source": [
    "def preprocessing_data(data_df):\n",
    "    # We keep only question interations\n",
    "    data_df = data_df[data_df['content_type_id'] == 0]\n",
    "    data_df = data_df.drop(['content_type_id'], axis=1)\n",
    "    \n",
    "    # prior_question_had_explanation : fill missing values and label encoding\n",
    "    #data_df['prior_question_had_explanation'].fillna(False, inplace=True)\n",
    "    data_df['prior_had_explanation_le'] = 0\n",
    "    data_df.loc[data_df[\"prior_question_had_explanation\"]== True, \"prior_had_explanation_le\"] = 1\n",
    "    data_df = data_df.drop(['prior_question_had_explanation'], axis=1)\n",
    "    \n",
    "    if(IS_FIRST_QUESTION):\n",
    "        data_df['is_first_question'] = 0\n",
    "        data_df.loc[(data_df['prior_question_elapsed_time'].isna()) | (data_df['timestamp'] == 0),\\\n",
    "                    'is_first_question'] = 1\n",
    "        data_df = data_df.astype({\"is_first_question\":'int8'}) \n",
    "    \n",
    "    if(IS_TIMESTAMPS_IN_MONTH):\n",
    "        data_df['timestamp_in_month'] = data_df['timestamp'] / (nbmillisec_in_hour * 24 * 365 / 12)\n",
    "        data_df = data_df.astype({\"timestamp_in_month\":'float32'}) \n",
    "        \n",
    "    if(IS_TIMESTAMPS_IN_DAY):\n",
    "        data_df['timestamp_in_day'] = data_df['timestamp'] / (nbmillisec_in_hour * 24)\n",
    "        data_df = data_df.astype({\"timestamp_in_day\":'float32'}) \n",
    "    \n",
    "    prior_question_elapsed_time_mean = data_df[~data_df['prior_question_elapsed_time'].\\\n",
    "                                               isna()]['prior_question_elapsed_time'].mean()\n",
    "    data_df['prior_question_elapsed_time'].fillna(prior_question_elapsed_time_mean, inplace=True)\n",
    "    \n",
    "    \n",
    "    if(IS_PRIOR_TIME_IN_HOUR):\n",
    "        data_df['prior_time_in_hours'] = data_df['prior_question_elapsed_time'] / nbmillisec_in_hour\n",
    "        data_df = data_df.astype({\"prior_time_in_hours\":'float32'}) \n",
    "\n",
    "    return data_df"
   ]
  },
  {
   "cell_type": "markdown",
   "metadata": {
    "papermill": {
     "duration": 0.038332,
     "end_time": "2020-11-24T08:29:40.490299",
     "exception": false,
     "start_time": "2020-11-24T08:29:40.451967",
     "status": "completed"
    },
    "tags": []
   },
   "source": [
    "## Data loading\n",
    "\n",
    "We will follow this tutorials : [Competition API Detailed Introduction](https://www.kaggle.com/sohier/competition-api-detailed-introduction) and \n",
    "[Tutorial on reading large datasets](http://https://www.kaggle.com/rohanrao/tutorial-on-reading-large-datasets/)."
   ]
  },
  {
   "cell_type": "code",
   "execution_count": 5,
   "metadata": {
    "execution": {
     "iopub.execute_input": "2020-11-24T08:29:40.577311Z",
     "iopub.status.busy": "2020-11-24T08:29:40.576361Z",
     "iopub.status.idle": "2020-11-24T08:29:40.607693Z",
     "shell.execute_reply": "2020-11-24T08:29:40.608514Z"
    },
    "papermill": {
     "duration": 0.079688,
     "end_time": "2020-11-24T08:29:40.608715",
     "exception": false,
     "start_time": "2020-11-24T08:29:40.529027",
     "status": "completed"
    },
    "tags": []
   },
   "outputs": [
    {
     "name": "stdout",
     "output_type": "stream",
     "text": [
      "CPU times: user 18.6 ms, sys: 4.56 ms, total: 23.1 ms\n",
      "Wall time: 30.5 ms\n"
     ]
    }
   ],
   "source": [
    "%%time\n",
    "\n",
    "questions_df = pd.read_csv('/kaggle/input/riiid-test-answer-prediction/questions.csv')\n",
    "example_test = pd.read_csv('/kaggle/input/riiid-test-answer-prediction/example_test.csv')\n",
    "example_sample_submission = pd.read_csv('/kaggle/input/riiid-test-answer-prediction/example_sample_submission.csv')"
   ]
  },
  {
   "cell_type": "code",
   "execution_count": 6,
   "metadata": {
    "execution": {
     "iopub.execute_input": "2020-11-24T08:29:40.698326Z",
     "iopub.status.busy": "2020-11-24T08:29:40.697437Z",
     "iopub.status.idle": "2020-11-24T08:29:43.961502Z",
     "shell.execute_reply": "2020-11-24T08:29:43.960681Z"
    },
    "papermill": {
     "duration": 3.312039,
     "end_time": "2020-11-24T08:29:43.961648",
     "exception": false,
     "start_time": "2020-11-24T08:29:40.649609",
     "status": "completed"
    },
    "tags": []
   },
   "outputs": [
    {
     "name": "stdout",
     "output_type": "stream",
     "text": [
      "Train size: (1000000, 10)\n",
      "CPU times: user 2.85 s, sys: 312 ms, total: 3.17 s\n",
      "Wall time: 3.26 s\n"
     ]
    }
   ],
   "source": [
    "%%time\n",
    "\n",
    "dtypes = {\n",
    "    \"row_id\": \"int64\",\n",
    "    \"timestamp\": \"int64\",\n",
    "    \"user_id\": \"int32\",\n",
    "    \"content_id\": \"int16\",\n",
    "    \"content_type_id\": \"int8\",\n",
    "    \"task_container_id\": \"int16\",\n",
    "    \"user_answer\": \"int8\",\n",
    "    \"answered_correctly\": \"int8\",\n",
    "    \"prior_question_elapsed_time\": \"float32\", \n",
    "    \"prior_question_had_explanation\": \"boolean\"\n",
    "}\n",
    "\n",
    "train_df = pd.read_csv('/kaggle/input/riiid-test-answer-prediction/train.csv', \n",
    "                       low_memory=False, \n",
    "                       nrows=10**6, \n",
    "                       dtype=dtypes\n",
    "                      )\n",
    "print(\"Train size:\", train_df.shape)"
   ]
  },
  {
   "cell_type": "code",
   "execution_count": 7,
   "metadata": {
    "execution": {
     "iopub.execute_input": "2020-11-24T08:29:44.052263Z",
     "iopub.status.busy": "2020-11-24T08:29:44.051282Z",
     "iopub.status.idle": "2020-11-24T08:29:44.439088Z",
     "shell.execute_reply": "2020-11-24T08:29:44.439949Z"
    },
    "papermill": {
     "duration": 0.438521,
     "end_time": "2020-11-24T08:29:44.440306",
     "exception": false,
     "start_time": "2020-11-24T08:29:44.001785",
     "status": "completed"
    },
    "tags": []
   },
   "outputs": [
    {
     "name": "stdout",
     "output_type": "stream",
     "text": [
      "(1000000, 10)\n",
      "(980093, 12)\n"
     ]
    }
   ],
   "source": [
    "print(train_df.shape)\n",
    "train_df = preprocessing_data(train_df)\n",
    "print(train_df.shape)"
   ]
  },
  {
   "cell_type": "code",
   "execution_count": 8,
   "metadata": {
    "execution": {
     "iopub.execute_input": "2020-11-24T08:29:44.537529Z",
     "iopub.status.busy": "2020-11-24T08:29:44.536676Z",
     "iopub.status.idle": "2020-11-24T08:29:44.540891Z",
     "shell.execute_reply": "2020-11-24T08:29:44.540185Z"
    },
    "papermill": {
     "duration": 0.058689,
     "end_time": "2020-11-24T08:29:44.541034",
     "exception": false,
     "start_time": "2020-11-24T08:29:44.482345",
     "status": "completed"
    },
    "tags": []
   },
   "outputs": [
    {
     "data": {
      "text/plain": [
       "Index                          7840744\n",
       "row_id                         7840744\n",
       "timestamp                      7840744\n",
       "user_id                        3920372\n",
       "content_id                     1960186\n",
       "task_container_id              1960186\n",
       "user_answer                     980093\n",
       "answered_correctly              980093\n",
       "prior_question_elapsed_time    3920372\n",
       "prior_had_explanation_le       7840744\n",
       "is_first_question               980093\n",
       "timestamp_in_month             3920372\n",
       "prior_time_in_hours            3920372\n",
       "dtype: int64"
      ]
     },
     "execution_count": 8,
     "metadata": {},
     "output_type": "execute_result"
    }
   ],
   "source": [
    "train_df.memory_usage(deep=True)"
   ]
  },
  {
   "cell_type": "markdown",
   "metadata": {
    "papermill": {
     "duration": 0.041994,
     "end_time": "2020-11-24T08:29:44.624744",
     "exception": false,
     "start_time": "2020-11-24T08:29:44.582750",
     "status": "completed"
    },
    "tags": []
   },
   "source": [
    "## We keep 2 years (cf EDA)"
   ]
  },
  {
   "cell_type": "code",
   "execution_count": 9,
   "metadata": {
    "execution": {
     "iopub.execute_input": "2020-11-24T08:29:44.716134Z",
     "iopub.status.busy": "2020-11-24T08:29:44.715369Z",
     "iopub.status.idle": "2020-11-24T08:29:44.747344Z",
     "shell.execute_reply": "2020-11-24T08:29:44.746664Z"
    },
    "papermill": {
     "duration": 0.080727,
     "end_time": "2020-11-24T08:29:44.747483",
     "exception": false,
     "start_time": "2020-11-24T08:29:44.666756",
     "status": "completed"
    },
    "tags": []
   },
   "outputs": [],
   "source": [
    "train_df = train_df[train_df['timestamp'] <= (2 * 365 * 24 * 60 *60 *1000)]"
   ]
  },
  {
   "cell_type": "markdown",
   "metadata": {
    "papermill": {
     "duration": 0.04179,
     "end_time": "2020-11-24T08:29:44.831885",
     "exception": false,
     "start_time": "2020-11-24T08:29:44.790095",
     "status": "completed"
    },
    "tags": []
   },
   "source": [
    "## questions.csv"
   ]
  },
  {
   "cell_type": "code",
   "execution_count": 10,
   "metadata": {
    "execution": {
     "iopub.execute_input": "2020-11-24T08:29:44.939070Z",
     "iopub.status.busy": "2020-11-24T08:29:44.937570Z",
     "iopub.status.idle": "2020-11-24T08:29:44.943154Z",
     "shell.execute_reply": "2020-11-24T08:29:44.942494Z"
    },
    "papermill": {
     "duration": 0.069386,
     "end_time": "2020-11-24T08:29:44.943280",
     "exception": false,
     "start_time": "2020-11-24T08:29:44.873894",
     "status": "completed"
    },
    "tags": []
   },
   "outputs": [],
   "source": [
    "questions_df['tags'].fillna(\"\", inplace=True)\n",
    "questions_df[\"nb_tags\"] = questions_df[\"tags\"].apply(lambda text: len(text.split()))"
   ]
  },
  {
   "cell_type": "code",
   "execution_count": 11,
   "metadata": {
    "execution": {
     "iopub.execute_input": "2020-11-24T08:29:45.036517Z",
     "iopub.status.busy": "2020-11-24T08:29:45.035515Z",
     "iopub.status.idle": "2020-11-24T08:29:45.043292Z",
     "shell.execute_reply": "2020-11-24T08:29:45.042623Z"
    },
    "papermill": {
     "duration": 0.057353,
     "end_time": "2020-11-24T08:29:45.043431",
     "exception": false,
     "start_time": "2020-11-24T08:29:44.986078",
     "status": "completed"
    },
    "tags": []
   },
   "outputs": [],
   "source": [
    "questions_df = questions_df[questions_df[\"nb_tags\"] > 0]"
   ]
  },
  {
   "cell_type": "code",
   "execution_count": 12,
   "metadata": {
    "execution": {
     "iopub.execute_input": "2020-11-24T08:29:45.148714Z",
     "iopub.status.busy": "2020-11-24T08:29:45.147755Z",
     "iopub.status.idle": "2020-11-24T08:29:45.166266Z",
     "shell.execute_reply": "2020-11-24T08:29:45.165225Z"
    },
    "papermill": {
     "duration": 0.074019,
     "end_time": "2020-11-24T08:29:45.166454",
     "exception": false,
     "start_time": "2020-11-24T08:29:45.092435",
     "status": "completed"
    },
    "tags": []
   },
   "outputs": [
    {
     "name": "stdout",
     "output_type": "stream",
     "text": [
      "30992\n",
      "188\n"
     ]
    }
   ],
   "source": [
    "questions_df['tags_list'] = questions_df['tags'].apply(lambda x: x.split())\n",
    "tags_list = [item for sublist in questions_df['tags_list'].values for item in sublist]\n",
    "print(len(tags_list))\n",
    "tags_unique_list = list(set(tags_list))\n",
    "# Affiche la nouvelle liste \n",
    "print(len(tags_unique_list))"
   ]
  },
  {
   "cell_type": "code",
   "execution_count": 13,
   "metadata": {
    "execution": {
     "iopub.execute_input": "2020-11-24T08:29:45.302812Z",
     "iopub.status.busy": "2020-11-24T08:29:45.290976Z",
     "iopub.status.idle": "2020-11-24T08:29:45.422057Z",
     "shell.execute_reply": "2020-11-24T08:29:45.421396Z"
    },
    "papermill": {
     "duration": 0.208404,
     "end_time": "2020-11-24T08:29:45.422187",
     "exception": false,
     "start_time": "2020-11-24T08:29:45.213783",
     "status": "completed"
    },
    "tags": []
   },
   "outputs": [
    {
     "data": {
      "text/html": [
       "<div>\n",
       "<style scoped>\n",
       "    .dataframe tbody tr th:only-of-type {\n",
       "        vertical-align: middle;\n",
       "    }\n",
       "\n",
       "    .dataframe tbody tr th {\n",
       "        vertical-align: top;\n",
       "    }\n",
       "\n",
       "    .dataframe thead th {\n",
       "        text-align: right;\n",
       "    }\n",
       "</style>\n",
       "<table border=\"1\" class=\"dataframe\">\n",
       "  <thead>\n",
       "    <tr style=\"text-align: right;\">\n",
       "      <th></th>\n",
       "      <th>question_id</th>\n",
       "      <th>bundle_id</th>\n",
       "      <th>correct_answer</th>\n",
       "      <th>part</th>\n",
       "      <th>tags</th>\n",
       "      <th>nb_tags</th>\n",
       "      <th>tags_list</th>\n",
       "      <th>new_tags</th>\n",
       "      <th>92</th>\n",
       "      <th>38</th>\n",
       "      <th>...</th>\n",
       "      <th>106</th>\n",
       "      <th>1</th>\n",
       "      <th>96</th>\n",
       "      <th>12</th>\n",
       "      <th>97</th>\n",
       "      <th>67</th>\n",
       "      <th>55</th>\n",
       "      <th>27</th>\n",
       "      <th>122</th>\n",
       "      <th>79</th>\n",
       "    </tr>\n",
       "  </thead>\n",
       "  <tbody>\n",
       "    <tr>\n",
       "      <th>0</th>\n",
       "      <td>0.0</td>\n",
       "      <td>0.0</td>\n",
       "      <td>0.0</td>\n",
       "      <td>1.0</td>\n",
       "      <td>51 131 162 38</td>\n",
       "      <td>4.0</td>\n",
       "      <td>[51, 131, 162, 38]</td>\n",
       "      <td>[131, 162, 38]</td>\n",
       "      <td>0.0</td>\n",
       "      <td>1.0</td>\n",
       "      <td>...</td>\n",
       "      <td>0.0</td>\n",
       "      <td>0.0</td>\n",
       "      <td>0.0</td>\n",
       "      <td>0.0</td>\n",
       "      <td>0.0</td>\n",
       "      <td>0.0</td>\n",
       "      <td>0.0</td>\n",
       "      <td>0.0</td>\n",
       "      <td>0.0</td>\n",
       "      <td>0.0</td>\n",
       "    </tr>\n",
       "    <tr>\n",
       "      <th>1</th>\n",
       "      <td>1.0</td>\n",
       "      <td>1.0</td>\n",
       "      <td>1.0</td>\n",
       "      <td>1.0</td>\n",
       "      <td>131 36 81</td>\n",
       "      <td>3.0</td>\n",
       "      <td>[131, 36, 81]</td>\n",
       "      <td>[131, 81]</td>\n",
       "      <td>0.0</td>\n",
       "      <td>0.0</td>\n",
       "      <td>...</td>\n",
       "      <td>0.0</td>\n",
       "      <td>0.0</td>\n",
       "      <td>0.0</td>\n",
       "      <td>0.0</td>\n",
       "      <td>0.0</td>\n",
       "      <td>0.0</td>\n",
       "      <td>0.0</td>\n",
       "      <td>0.0</td>\n",
       "      <td>0.0</td>\n",
       "      <td>0.0</td>\n",
       "    </tr>\n",
       "    <tr>\n",
       "      <th>2</th>\n",
       "      <td>2.0</td>\n",
       "      <td>2.0</td>\n",
       "      <td>0.0</td>\n",
       "      <td>1.0</td>\n",
       "      <td>131 101 162 92</td>\n",
       "      <td>4.0</td>\n",
       "      <td>[131, 101, 162, 92]</td>\n",
       "      <td>[131, 162, 92]</td>\n",
       "      <td>1.0</td>\n",
       "      <td>0.0</td>\n",
       "      <td>...</td>\n",
       "      <td>0.0</td>\n",
       "      <td>0.0</td>\n",
       "      <td>0.0</td>\n",
       "      <td>0.0</td>\n",
       "      <td>0.0</td>\n",
       "      <td>0.0</td>\n",
       "      <td>0.0</td>\n",
       "      <td>0.0</td>\n",
       "      <td>0.0</td>\n",
       "      <td>0.0</td>\n",
       "    </tr>\n",
       "    <tr>\n",
       "      <th>3</th>\n",
       "      <td>3.0</td>\n",
       "      <td>3.0</td>\n",
       "      <td>0.0</td>\n",
       "      <td>1.0</td>\n",
       "      <td>131 149 162 29</td>\n",
       "      <td>4.0</td>\n",
       "      <td>[131, 149, 162, 29]</td>\n",
       "      <td>[131, 162, 29]</td>\n",
       "      <td>0.0</td>\n",
       "      <td>0.0</td>\n",
       "      <td>...</td>\n",
       "      <td>0.0</td>\n",
       "      <td>0.0</td>\n",
       "      <td>0.0</td>\n",
       "      <td>0.0</td>\n",
       "      <td>0.0</td>\n",
       "      <td>0.0</td>\n",
       "      <td>0.0</td>\n",
       "      <td>0.0</td>\n",
       "      <td>0.0</td>\n",
       "      <td>0.0</td>\n",
       "    </tr>\n",
       "    <tr>\n",
       "      <th>4</th>\n",
       "      <td>4.0</td>\n",
       "      <td>4.0</td>\n",
       "      <td>3.0</td>\n",
       "      <td>1.0</td>\n",
       "      <td>131 5 162 38</td>\n",
       "      <td>4.0</td>\n",
       "      <td>[131, 5, 162, 38]</td>\n",
       "      <td>[131, 162, 38]</td>\n",
       "      <td>0.0</td>\n",
       "      <td>1.0</td>\n",
       "      <td>...</td>\n",
       "      <td>0.0</td>\n",
       "      <td>0.0</td>\n",
       "      <td>0.0</td>\n",
       "      <td>0.0</td>\n",
       "      <td>0.0</td>\n",
       "      <td>0.0</td>\n",
       "      <td>0.0</td>\n",
       "      <td>0.0</td>\n",
       "      <td>0.0</td>\n",
       "      <td>0.0</td>\n",
       "    </tr>\n",
       "  </tbody>\n",
       "</table>\n",
       "<p>5 rows × 33 columns</p>\n",
       "</div>"
      ],
      "text/plain": [
       "   question_id  bundle_id  correct_answer  part            tags  nb_tags  \\\n",
       "0          0.0        0.0             0.0   1.0   51 131 162 38      4.0   \n",
       "1          1.0        1.0             1.0   1.0       131 36 81      3.0   \n",
       "2          2.0        2.0             0.0   1.0  131 101 162 92      4.0   \n",
       "3          3.0        3.0             0.0   1.0  131 149 162 29      4.0   \n",
       "4          4.0        4.0             3.0   1.0    131 5 162 38      4.0   \n",
       "\n",
       "             tags_list        new_tags   92   38  ...  106    1   96   12  \\\n",
       "0   [51, 131, 162, 38]  [131, 162, 38]  0.0  1.0  ...  0.0  0.0  0.0  0.0   \n",
       "1        [131, 36, 81]       [131, 81]  0.0  0.0  ...  0.0  0.0  0.0  0.0   \n",
       "2  [131, 101, 162, 92]  [131, 162, 92]  1.0  0.0  ...  0.0  0.0  0.0  0.0   \n",
       "3  [131, 149, 162, 29]  [131, 162, 29]  0.0  0.0  ...  0.0  0.0  0.0  0.0   \n",
       "4    [131, 5, 162, 38]  [131, 162, 38]  0.0  1.0  ...  0.0  0.0  0.0  0.0   \n",
       "\n",
       "    97   67   55   27  122   79  \n",
       "0  0.0  0.0  0.0  0.0  0.0  0.0  \n",
       "1  0.0  0.0  0.0  0.0  0.0  0.0  \n",
       "2  0.0  0.0  0.0  0.0  0.0  0.0  \n",
       "3  0.0  0.0  0.0  0.0  0.0  0.0  \n",
       "4  0.0  0.0  0.0  0.0  0.0  0.0  \n",
       "\n",
       "[5 rows x 33 columns]"
      ]
     },
     "execution_count": 13,
     "metadata": {},
     "output_type": "execute_result"
    }
   ],
   "source": [
    "tags_frequence= nltk.FreqDist(tags_list)\n",
    "NB_TAGS = 25\n",
    "words_most_common = tags_frequence.most_common(NB_TAGS)\n",
    "fq_words_df = pd.DataFrame(words_most_common, columns = ['tags' , 'nb_tags'])\n",
    "\n",
    "SELECTED_TAGS = (fq_words_df['tags'][:NB_TAGS]).to_list()\n",
    "#print(SELECTED_TAGS)\n",
    "questions_df['new_tags'] = questions_df[\"tags\"].apply(lambda text : tags_column_processing(text))\n",
    "classes_tags = tuple(SELECTED_TAGS)\n",
    "one_hot = MultiLabelBinarizer(classes = classes_tags )\n",
    "\n",
    "types_encoded = pd.DataFrame(one_hot.fit_transform(questions_df['new_tags']),columns=one_hot.classes_)\n",
    "#types_encoded.head()\n",
    "questions_df = pd.concat([questions_df,types_encoded], axis = 1)\n",
    "questions_df.head()"
   ]
  },
  {
   "cell_type": "code",
   "execution_count": 14,
   "metadata": {
    "execution": {
     "iopub.execute_input": "2020-11-24T08:29:45.517000Z",
     "iopub.status.busy": "2020-11-24T08:29:45.516228Z",
     "iopub.status.idle": "2020-11-24T08:29:45.523626Z",
     "shell.execute_reply": "2020-11-24T08:29:45.522829Z"
    },
    "papermill": {
     "duration": 0.057281,
     "end_time": "2020-11-24T08:29:45.523752",
     "exception": false,
     "start_time": "2020-11-24T08:29:45.466471",
     "status": "completed"
    },
    "tags": []
   },
   "outputs": [],
   "source": [
    "# Drop column B as it is now encoded\n",
    "questions_df = questions_df.drop(['new_tags', 'tags', 'tags_list'],axis = 1)"
   ]
  },
  {
   "cell_type": "code",
   "execution_count": 15,
   "metadata": {
    "execution": {
     "iopub.execute_input": "2020-11-24T08:29:45.621045Z",
     "iopub.status.busy": "2020-11-24T08:29:45.620102Z",
     "iopub.status.idle": "2020-11-24T08:29:45.625235Z",
     "shell.execute_reply": "2020-11-24T08:29:45.624587Z"
    },
    "papermill": {
     "duration": 0.056373,
     "end_time": "2020-11-24T08:29:45.625362",
     "exception": false,
     "start_time": "2020-11-24T08:29:45.568989",
     "status": "completed"
    },
    "tags": []
   },
   "outputs": [],
   "source": [
    "questions_df = questions_df[~questions_df['part'].isna()]"
   ]
  },
  {
   "cell_type": "code",
   "execution_count": 16,
   "metadata": {
    "execution": {
     "iopub.execute_input": "2020-11-24T08:29:45.722803Z",
     "iopub.status.busy": "2020-11-24T08:29:45.721725Z",
     "iopub.status.idle": "2020-11-24T08:29:45.726821Z",
     "shell.execute_reply": "2020-11-24T08:29:45.726076Z"
    },
    "papermill": {
     "duration": 0.057147,
     "end_time": "2020-11-24T08:29:45.726968",
     "exception": false,
     "start_time": "2020-11-24T08:29:45.669821",
     "status": "completed"
    },
    "tags": []
   },
   "outputs": [],
   "source": [
    "questions_df['is_reading_section']= 0 \n",
    "questions_df.loc[questions_df['part'] >= 5 ,'is_reading_section'] = 1"
   ]
  },
  {
   "cell_type": "markdown",
   "metadata": {
    "papermill": {
     "duration": 0.044152,
     "end_time": "2020-11-24T08:29:45.815608",
     "exception": false,
     "start_time": "2020-11-24T08:29:45.771456",
     "status": "completed"
    },
    "tags": []
   },
   "source": [
    "## Merge questions and train"
   ]
  },
  {
   "cell_type": "code",
   "execution_count": null,
   "metadata": {
    "papermill": {
     "duration": 0.043869,
     "end_time": "2020-11-24T08:29:45.903778",
     "exception": false,
     "start_time": "2020-11-24T08:29:45.859909",
     "status": "completed"
    },
    "tags": []
   },
   "outputs": [],
   "source": []
  },
  {
   "cell_type": "code",
   "execution_count": 17,
   "metadata": {
    "execution": {
     "iopub.execute_input": "2020-11-24T08:29:46.001733Z",
     "iopub.status.busy": "2020-11-24T08:29:46.000872Z",
     "iopub.status.idle": "2020-11-24T08:29:46.683769Z",
     "shell.execute_reply": "2020-11-24T08:29:46.682955Z"
    },
    "papermill": {
     "duration": 0.73551,
     "end_time": "2020-11-24T08:29:46.683899",
     "exception": false,
     "start_time": "2020-11-24T08:29:45.948389",
     "status": "completed"
    },
    "tags": []
   },
   "outputs": [],
   "source": [
    "train_df = pd.merge(train_df,questions_df, how='left', left_on='content_id', right_on='question_id').sort_values('row_id')"
   ]
  },
  {
   "cell_type": "code",
   "execution_count": 18,
   "metadata": {
    "execution": {
     "iopub.execute_input": "2020-11-24T08:29:46.781865Z",
     "iopub.status.busy": "2020-11-24T08:29:46.781058Z",
     "iopub.status.idle": "2020-11-24T08:29:46.885555Z",
     "shell.execute_reply": "2020-11-24T08:29:46.886184Z"
    },
    "papermill": {
     "duration": 0.157396,
     "end_time": "2020-11-24T08:29:46.886343",
     "exception": false,
     "start_time": "2020-11-24T08:29:46.728947",
     "status": "completed"
    },
    "tags": []
   },
   "outputs": [],
   "source": [
    "user_agg = train_df.groupby('user_id')['answered_correctly'].\\\n",
    "                    agg(['sum', 'count'])\n",
    "train_df['user_count'] = train_df['user_id'].map(user_agg['count']).astype('int32')\n",
    "train_df['user_nb_mean'] = train_df['user_id'].map(user_agg['sum']/user_agg['count']).astype('int32')"
   ]
  },
  {
   "cell_type": "code",
   "execution_count": 19,
   "metadata": {
    "execution": {
     "iopub.execute_input": "2020-11-24T08:29:46.985692Z",
     "iopub.status.busy": "2020-11-24T08:29:46.984782Z",
     "iopub.status.idle": "2020-11-24T08:29:47.055127Z",
     "shell.execute_reply": "2020-11-24T08:29:47.054305Z"
    },
    "papermill": {
     "duration": 0.123934,
     "end_time": "2020-11-24T08:29:47.055262",
     "exception": false,
     "start_time": "2020-11-24T08:29:46.931328",
     "status": "completed"
    },
    "tags": []
   },
   "outputs": [],
   "source": [
    "content_agg = train_df.groupby('content_id')['answered_correctly'].\\\n",
    "                        agg(['sum', 'count']) #'mean', 'median', 'std'\n",
    "train_df['content_count'] = train_df['content_id'].map(content_agg['count']).astype('int32')\n",
    "train_df['content_nb_mean'] = train_df['content_id'].map(content_agg['sum'] / content_agg['count'])"
   ]
  },
  {
   "cell_type": "code",
   "execution_count": null,
   "metadata": {
    "papermill": {
     "duration": 0.045255,
     "end_time": "2020-11-24T08:29:47.145609",
     "exception": false,
     "start_time": "2020-11-24T08:29:47.100354",
     "status": "completed"
    },
    "tags": []
   },
   "outputs": [],
   "source": []
  },
  {
   "cell_type": "markdown",
   "metadata": {
    "papermill": {
     "duration": 0.044633,
     "end_time": "2020-11-24T08:29:47.235381",
     "exception": false,
     "start_time": "2020-11-24T08:29:47.190748",
     "status": "completed"
    },
    "tags": []
   },
   "source": [
    "Number of attempts"
   ]
  },
  {
   "cell_type": "code",
   "execution_count": 20,
   "metadata": {
    "execution": {
     "iopub.execute_input": "2020-11-24T08:29:47.332430Z",
     "iopub.status.busy": "2020-11-24T08:29:47.331612Z",
     "iopub.status.idle": "2020-11-24T08:29:47.927588Z",
     "shell.execute_reply": "2020-11-24T08:29:47.926747Z"
    },
    "papermill": {
     "duration": 0.647506,
     "end_time": "2020-11-24T08:29:47.927717",
     "exception": false,
     "start_time": "2020-11-24T08:29:47.280211",
     "status": "completed"
    },
    "tags": []
   },
   "outputs": [],
   "source": [
    "train_df['nb_attempt'] = train_df.groupby(['user_id', 'content_id']).cumcount()+1"
   ]
  },
  {
   "cell_type": "code",
   "execution_count": 21,
   "metadata": {
    "execution": {
     "iopub.execute_input": "2020-11-24T08:29:48.035563Z",
     "iopub.status.busy": "2020-11-24T08:29:48.028612Z",
     "iopub.status.idle": "2020-11-24T08:29:48.061648Z",
     "shell.execute_reply": "2020-11-24T08:29:48.061018Z"
    },
    "papermill": {
     "duration": 0.088677,
     "end_time": "2020-11-24T08:29:48.061769",
     "exception": false,
     "start_time": "2020-11-24T08:29:47.973092",
     "status": "completed"
    },
    "tags": []
   },
   "outputs": [
    {
     "data": {
      "text/html": [
       "<div>\n",
       "<style scoped>\n",
       "    .dataframe tbody tr th:only-of-type {\n",
       "        vertical-align: middle;\n",
       "    }\n",
       "\n",
       "    .dataframe tbody tr th {\n",
       "        vertical-align: top;\n",
       "    }\n",
       "\n",
       "    .dataframe thead th {\n",
       "        text-align: right;\n",
       "    }\n",
       "</style>\n",
       "<table border=\"1\" class=\"dataframe\">\n",
       "  <thead>\n",
       "    <tr style=\"text-align: right;\">\n",
       "      <th></th>\n",
       "      <th>row_id</th>\n",
       "      <th>timestamp</th>\n",
       "      <th>user_id</th>\n",
       "      <th>content_id</th>\n",
       "      <th>task_container_id</th>\n",
       "      <th>user_answer</th>\n",
       "      <th>answered_correctly</th>\n",
       "      <th>prior_question_elapsed_time</th>\n",
       "      <th>prior_had_explanation_le</th>\n",
       "      <th>is_first_question</th>\n",
       "      <th>...</th>\n",
       "      <th>55</th>\n",
       "      <th>27</th>\n",
       "      <th>122</th>\n",
       "      <th>79</th>\n",
       "      <th>is_reading_section</th>\n",
       "      <th>user_count</th>\n",
       "      <th>user_nb_mean</th>\n",
       "      <th>content_count</th>\n",
       "      <th>content_nb_mean</th>\n",
       "      <th>nb_attempt</th>\n",
       "    </tr>\n",
       "  </thead>\n",
       "  <tbody>\n",
       "    <tr>\n",
       "      <th>0</th>\n",
       "      <td>0</td>\n",
       "      <td>0</td>\n",
       "      <td>115</td>\n",
       "      <td>5692</td>\n",
       "      <td>1</td>\n",
       "      <td>3</td>\n",
       "      <td>1</td>\n",
       "      <td>25319.472656</td>\n",
       "      <td>0</td>\n",
       "      <td>1</td>\n",
       "      <td>...</td>\n",
       "      <td>0.0</td>\n",
       "      <td>0.0</td>\n",
       "      <td>0.0</td>\n",
       "      <td>0.0</td>\n",
       "      <td>1</td>\n",
       "      <td>46</td>\n",
       "      <td>0</td>\n",
       "      <td>337</td>\n",
       "      <td>0.721068</td>\n",
       "      <td>1</td>\n",
       "    </tr>\n",
       "    <tr>\n",
       "      <th>1</th>\n",
       "      <td>1</td>\n",
       "      <td>56943</td>\n",
       "      <td>115</td>\n",
       "      <td>5716</td>\n",
       "      <td>2</td>\n",
       "      <td>2</td>\n",
       "      <td>1</td>\n",
       "      <td>37000.000000</td>\n",
       "      <td>0</td>\n",
       "      <td>0</td>\n",
       "      <td>...</td>\n",
       "      <td>0.0</td>\n",
       "      <td>0.0</td>\n",
       "      <td>0.0</td>\n",
       "      <td>0.0</td>\n",
       "      <td>1</td>\n",
       "      <td>46</td>\n",
       "      <td>0</td>\n",
       "      <td>241</td>\n",
       "      <td>0.771784</td>\n",
       "      <td>1</td>\n",
       "    </tr>\n",
       "    <tr>\n",
       "      <th>2</th>\n",
       "      <td>2</td>\n",
       "      <td>118363</td>\n",
       "      <td>115</td>\n",
       "      <td>128</td>\n",
       "      <td>0</td>\n",
       "      <td>0</td>\n",
       "      <td>1</td>\n",
       "      <td>55000.000000</td>\n",
       "      <td>0</td>\n",
       "      <td>0</td>\n",
       "      <td>...</td>\n",
       "      <td>0.0</td>\n",
       "      <td>0.0</td>\n",
       "      <td>0.0</td>\n",
       "      <td>0.0</td>\n",
       "      <td>0</td>\n",
       "      <td>46</td>\n",
       "      <td>0</td>\n",
       "      <td>181</td>\n",
       "      <td>0.961326</td>\n",
       "      <td>1</td>\n",
       "    </tr>\n",
       "    <tr>\n",
       "      <th>3</th>\n",
       "      <td>3</td>\n",
       "      <td>131167</td>\n",
       "      <td>115</td>\n",
       "      <td>7860</td>\n",
       "      <td>3</td>\n",
       "      <td>0</td>\n",
       "      <td>1</td>\n",
       "      <td>19000.000000</td>\n",
       "      <td>0</td>\n",
       "      <td>0</td>\n",
       "      <td>...</td>\n",
       "      <td>0.0</td>\n",
       "      <td>0.0</td>\n",
       "      <td>0.0</td>\n",
       "      <td>0.0</td>\n",
       "      <td>0</td>\n",
       "      <td>46</td>\n",
       "      <td>0</td>\n",
       "      <td>203</td>\n",
       "      <td>0.926108</td>\n",
       "      <td>1</td>\n",
       "    </tr>\n",
       "    <tr>\n",
       "      <th>4</th>\n",
       "      <td>4</td>\n",
       "      <td>137965</td>\n",
       "      <td>115</td>\n",
       "      <td>7922</td>\n",
       "      <td>4</td>\n",
       "      <td>1</td>\n",
       "      <td>1</td>\n",
       "      <td>11000.000000</td>\n",
       "      <td>0</td>\n",
       "      <td>0</td>\n",
       "      <td>...</td>\n",
       "      <td>0.0</td>\n",
       "      <td>0.0</td>\n",
       "      <td>0.0</td>\n",
       "      <td>0.0</td>\n",
       "      <td>0</td>\n",
       "      <td>46</td>\n",
       "      <td>0</td>\n",
       "      <td>171</td>\n",
       "      <td>0.959064</td>\n",
       "      <td>1</td>\n",
       "    </tr>\n",
       "    <tr>\n",
       "      <th>5</th>\n",
       "      <td>5</td>\n",
       "      <td>157063</td>\n",
       "      <td>115</td>\n",
       "      <td>156</td>\n",
       "      <td>5</td>\n",
       "      <td>2</td>\n",
       "      <td>1</td>\n",
       "      <td>5000.000000</td>\n",
       "      <td>0</td>\n",
       "      <td>0</td>\n",
       "      <td>...</td>\n",
       "      <td>0.0</td>\n",
       "      <td>0.0</td>\n",
       "      <td>0.0</td>\n",
       "      <td>0.0</td>\n",
       "      <td>0</td>\n",
       "      <td>46</td>\n",
       "      <td>0</td>\n",
       "      <td>203</td>\n",
       "      <td>0.940887</td>\n",
       "      <td>1</td>\n",
       "    </tr>\n",
       "    <tr>\n",
       "      <th>6</th>\n",
       "      <td>6</td>\n",
       "      <td>176092</td>\n",
       "      <td>115</td>\n",
       "      <td>51</td>\n",
       "      <td>6</td>\n",
       "      <td>0</td>\n",
       "      <td>1</td>\n",
       "      <td>17000.000000</td>\n",
       "      <td>0</td>\n",
       "      <td>0</td>\n",
       "      <td>...</td>\n",
       "      <td>0.0</td>\n",
       "      <td>0.0</td>\n",
       "      <td>0.0</td>\n",
       "      <td>0.0</td>\n",
       "      <td>0</td>\n",
       "      <td>46</td>\n",
       "      <td>0</td>\n",
       "      <td>210</td>\n",
       "      <td>0.938095</td>\n",
       "      <td>1</td>\n",
       "    </tr>\n",
       "    <tr>\n",
       "      <th>7</th>\n",
       "      <td>7</td>\n",
       "      <td>194190</td>\n",
       "      <td>115</td>\n",
       "      <td>50</td>\n",
       "      <td>7</td>\n",
       "      <td>3</td>\n",
       "      <td>1</td>\n",
       "      <td>17000.000000</td>\n",
       "      <td>0</td>\n",
       "      <td>0</td>\n",
       "      <td>...</td>\n",
       "      <td>0.0</td>\n",
       "      <td>0.0</td>\n",
       "      <td>0.0</td>\n",
       "      <td>0.0</td>\n",
       "      <td>0</td>\n",
       "      <td>46</td>\n",
       "      <td>0</td>\n",
       "      <td>198</td>\n",
       "      <td>0.878788</td>\n",
       "      <td>1</td>\n",
       "    </tr>\n",
       "    <tr>\n",
       "      <th>8</th>\n",
       "      <td>8</td>\n",
       "      <td>212463</td>\n",
       "      <td>115</td>\n",
       "      <td>7896</td>\n",
       "      <td>8</td>\n",
       "      <td>2</td>\n",
       "      <td>1</td>\n",
       "      <td>16000.000000</td>\n",
       "      <td>0</td>\n",
       "      <td>0</td>\n",
       "      <td>...</td>\n",
       "      <td>0.0</td>\n",
       "      <td>0.0</td>\n",
       "      <td>0.0</td>\n",
       "      <td>0.0</td>\n",
       "      <td>0</td>\n",
       "      <td>46</td>\n",
       "      <td>0</td>\n",
       "      <td>212</td>\n",
       "      <td>0.938679</td>\n",
       "      <td>1</td>\n",
       "    </tr>\n",
       "    <tr>\n",
       "      <th>9</th>\n",
       "      <td>9</td>\n",
       "      <td>230983</td>\n",
       "      <td>115</td>\n",
       "      <td>7863</td>\n",
       "      <td>9</td>\n",
       "      <td>0</td>\n",
       "      <td>1</td>\n",
       "      <td>16000.000000</td>\n",
       "      <td>0</td>\n",
       "      <td>0</td>\n",
       "      <td>...</td>\n",
       "      <td>0.0</td>\n",
       "      <td>0.0</td>\n",
       "      <td>0.0</td>\n",
       "      <td>0.0</td>\n",
       "      <td>0</td>\n",
       "      <td>46</td>\n",
       "      <td>0</td>\n",
       "      <td>448</td>\n",
       "      <td>0.924107</td>\n",
       "      <td>1</td>\n",
       "    </tr>\n",
       "    <tr>\n",
       "      <th>10</th>\n",
       "      <td>10</td>\n",
       "      <td>255381</td>\n",
       "      <td>115</td>\n",
       "      <td>152</td>\n",
       "      <td>10</td>\n",
       "      <td>2</td>\n",
       "      <td>0</td>\n",
       "      <td>17000.000000</td>\n",
       "      <td>0</td>\n",
       "      <td>0</td>\n",
       "      <td>...</td>\n",
       "      <td>0.0</td>\n",
       "      <td>0.0</td>\n",
       "      <td>0.0</td>\n",
       "      <td>0.0</td>\n",
       "      <td>0</td>\n",
       "      <td>46</td>\n",
       "      <td>0</td>\n",
       "      <td>211</td>\n",
       "      <td>0.867299</td>\n",
       "      <td>1</td>\n",
       "    </tr>\n",
       "    <tr>\n",
       "      <th>11</th>\n",
       "      <td>11</td>\n",
       "      <td>280033</td>\n",
       "      <td>115</td>\n",
       "      <td>104</td>\n",
       "      <td>11</td>\n",
       "      <td>1</td>\n",
       "      <td>0</td>\n",
       "      <td>22000.000000</td>\n",
       "      <td>0</td>\n",
       "      <td>0</td>\n",
       "      <td>...</td>\n",
       "      <td>0.0</td>\n",
       "      <td>0.0</td>\n",
       "      <td>0.0</td>\n",
       "      <td>0.0</td>\n",
       "      <td>0</td>\n",
       "      <td>46</td>\n",
       "      <td>0</td>\n",
       "      <td>184</td>\n",
       "      <td>0.820652</td>\n",
       "      <td>1</td>\n",
       "    </tr>\n",
       "    <tr>\n",
       "      <th>12</th>\n",
       "      <td>12</td>\n",
       "      <td>302994</td>\n",
       "      <td>115</td>\n",
       "      <td>108</td>\n",
       "      <td>12</td>\n",
       "      <td>1</td>\n",
       "      <td>0</td>\n",
       "      <td>23000.000000</td>\n",
       "      <td>0</td>\n",
       "      <td>0</td>\n",
       "      <td>...</td>\n",
       "      <td>0.0</td>\n",
       "      <td>0.0</td>\n",
       "      <td>0.0</td>\n",
       "      <td>0.0</td>\n",
       "      <td>0</td>\n",
       "      <td>46</td>\n",
       "      <td>0</td>\n",
       "      <td>195</td>\n",
       "      <td>0.825641</td>\n",
       "      <td>1</td>\n",
       "    </tr>\n",
       "    <tr>\n",
       "      <th>13</th>\n",
       "      <td>13</td>\n",
       "      <td>328686</td>\n",
       "      <td>115</td>\n",
       "      <td>7900</td>\n",
       "      <td>13</td>\n",
       "      <td>0</td>\n",
       "      <td>1</td>\n",
       "      <td>21000.000000</td>\n",
       "      <td>0</td>\n",
       "      <td>0</td>\n",
       "      <td>...</td>\n",
       "      <td>0.0</td>\n",
       "      <td>0.0</td>\n",
       "      <td>0.0</td>\n",
       "      <td>0.0</td>\n",
       "      <td>0</td>\n",
       "      <td>46</td>\n",
       "      <td>0</td>\n",
       "      <td>1767</td>\n",
       "      <td>0.813243</td>\n",
       "      <td>1</td>\n",
       "    </tr>\n",
       "    <tr>\n",
       "      <th>14</th>\n",
       "      <td>14</td>\n",
       "      <td>352686</td>\n",
       "      <td>115</td>\n",
       "      <td>7901</td>\n",
       "      <td>14</td>\n",
       "      <td>1</td>\n",
       "      <td>1</td>\n",
       "      <td>24000.000000</td>\n",
       "      <td>0</td>\n",
       "      <td>0</td>\n",
       "      <td>...</td>\n",
       "      <td>0.0</td>\n",
       "      <td>0.0</td>\n",
       "      <td>0.0</td>\n",
       "      <td>0.0</td>\n",
       "      <td>0</td>\n",
       "      <td>46</td>\n",
       "      <td>0</td>\n",
       "      <td>266</td>\n",
       "      <td>0.827068</td>\n",
       "      <td>1</td>\n",
       "    </tr>\n",
       "  </tbody>\n",
       "</table>\n",
       "<p>15 rows × 48 columns</p>\n",
       "</div>"
      ],
      "text/plain": [
       "    row_id  timestamp  user_id  content_id  task_container_id  user_answer  \\\n",
       "0        0          0      115        5692                  1            3   \n",
       "1        1      56943      115        5716                  2            2   \n",
       "2        2     118363      115         128                  0            0   \n",
       "3        3     131167      115        7860                  3            0   \n",
       "4        4     137965      115        7922                  4            1   \n",
       "5        5     157063      115         156                  5            2   \n",
       "6        6     176092      115          51                  6            0   \n",
       "7        7     194190      115          50                  7            3   \n",
       "8        8     212463      115        7896                  8            2   \n",
       "9        9     230983      115        7863                  9            0   \n",
       "10      10     255381      115         152                 10            2   \n",
       "11      11     280033      115         104                 11            1   \n",
       "12      12     302994      115         108                 12            1   \n",
       "13      13     328686      115        7900                 13            0   \n",
       "14      14     352686      115        7901                 14            1   \n",
       "\n",
       "    answered_correctly  prior_question_elapsed_time  prior_had_explanation_le  \\\n",
       "0                    1                 25319.472656                         0   \n",
       "1                    1                 37000.000000                         0   \n",
       "2                    1                 55000.000000                         0   \n",
       "3                    1                 19000.000000                         0   \n",
       "4                    1                 11000.000000                         0   \n",
       "5                    1                  5000.000000                         0   \n",
       "6                    1                 17000.000000                         0   \n",
       "7                    1                 17000.000000                         0   \n",
       "8                    1                 16000.000000                         0   \n",
       "9                    1                 16000.000000                         0   \n",
       "10                   0                 17000.000000                         0   \n",
       "11                   0                 22000.000000                         0   \n",
       "12                   0                 23000.000000                         0   \n",
       "13                   1                 21000.000000                         0   \n",
       "14                   1                 24000.000000                         0   \n",
       "\n",
       "    is_first_question  ...   55   27  122   79  is_reading_section  \\\n",
       "0                   1  ...  0.0  0.0  0.0  0.0                   1   \n",
       "1                   0  ...  0.0  0.0  0.0  0.0                   1   \n",
       "2                   0  ...  0.0  0.0  0.0  0.0                   0   \n",
       "3                   0  ...  0.0  0.0  0.0  0.0                   0   \n",
       "4                   0  ...  0.0  0.0  0.0  0.0                   0   \n",
       "5                   0  ...  0.0  0.0  0.0  0.0                   0   \n",
       "6                   0  ...  0.0  0.0  0.0  0.0                   0   \n",
       "7                   0  ...  0.0  0.0  0.0  0.0                   0   \n",
       "8                   0  ...  0.0  0.0  0.0  0.0                   0   \n",
       "9                   0  ...  0.0  0.0  0.0  0.0                   0   \n",
       "10                  0  ...  0.0  0.0  0.0  0.0                   0   \n",
       "11                  0  ...  0.0  0.0  0.0  0.0                   0   \n",
       "12                  0  ...  0.0  0.0  0.0  0.0                   0   \n",
       "13                  0  ...  0.0  0.0  0.0  0.0                   0   \n",
       "14                  0  ...  0.0  0.0  0.0  0.0                   0   \n",
       "\n",
       "    user_count  user_nb_mean  content_count  content_nb_mean  nb_attempt  \n",
       "0           46             0            337         0.721068           1  \n",
       "1           46             0            241         0.771784           1  \n",
       "2           46             0            181         0.961326           1  \n",
       "3           46             0            203         0.926108           1  \n",
       "4           46             0            171         0.959064           1  \n",
       "5           46             0            203         0.940887           1  \n",
       "6           46             0            210         0.938095           1  \n",
       "7           46             0            198         0.878788           1  \n",
       "8           46             0            212         0.938679           1  \n",
       "9           46             0            448         0.924107           1  \n",
       "10          46             0            211         0.867299           1  \n",
       "11          46             0            184         0.820652           1  \n",
       "12          46             0            195         0.825641           1  \n",
       "13          46             0           1767         0.813243           1  \n",
       "14          46             0            266         0.827068           1  \n",
       "\n",
       "[15 rows x 48 columns]"
      ]
     },
     "execution_count": 21,
     "metadata": {},
     "output_type": "execute_result"
    }
   ],
   "source": [
    "train_df.head(15)"
   ]
  },
  {
   "cell_type": "code",
   "execution_count": 22,
   "metadata": {
    "execution": {
     "iopub.execute_input": "2020-11-24T08:29:48.173725Z",
     "iopub.status.busy": "2020-11-24T08:29:48.172778Z",
     "iopub.status.idle": "2020-11-24T08:29:49.644388Z",
     "shell.execute_reply": "2020-11-24T08:29:49.638752Z"
    },
    "papermill": {
     "duration": 1.536009,
     "end_time": "2020-11-24T08:29:49.644571",
     "exception": false,
     "start_time": "2020-11-24T08:29:48.108562",
     "status": "completed"
    },
    "tags": []
   },
   "outputs": [
    {
     "data": {
      "application/vnd.jupyter.widget-view+json": {
       "model_id": "67c979b505774e1a88dab80214c047de",
       "version_major": 2,
       "version_minor": 0
      },
      "text/plain": [
       "HBox(children=(FloatProgress(value=0.0, max=3824.0), HTML(value='')))"
      ]
     },
     "metadata": {},
     "output_type": "display_data"
    },
    {
     "name": "stdout",
     "output_type": "stream",
     "text": [
      "\n"
     ]
    },
    {
     "data": {
      "text/plain": [
       "{'user_content_attempts': {236: 0,\n",
       "  294: 0,\n",
       "  297: 1,\n",
       "  382: 0,\n",
       "  404: 0,\n",
       "  405: 0,\n",
       "  484: 0,\n",
       "  531: 0,\n",
       "  714: 0,\n",
       "  758: 0,\n",
       "  775: 1,\n",
       "  873: 0,\n",
       "  1014: 0,\n",
       "  1295: 0,\n",
       "  5273: 0,\n",
       "  5976: 0,\n",
       "  10684: 0},\n",
       " 'mean_user_accuracy': 0.5789473684210527,\n",
       " 'answered_correctly_user': 11.0,\n",
       " 'answered_user': 19}"
      ]
     },
     "metadata": {},
     "output_type": "display_data"
    }
   ],
   "source": [
    "import gc\n",
    "\n",
    "\n",
    "def get_state():\n",
    "    # compute user features over all train data\n",
    "    answered_correctly_user = train_df.groupby('user_id')['answered_correctly'].sum().values\n",
    "    answered_user = train_df.groupby('user_id')['answered_correctly'].count().values  \n",
    "    mean_user_accuracy = train_df.groupby('user_id')['answered_correctly'].mean().values\n",
    "    # fill dictionary with default values\n",
    "    state = dict()\n",
    "    for user_id in train_df['user_id'].unique():\n",
    "        state[user_id] = {}\n",
    "    total = len(state.keys())\n",
    "\n",
    "    # add user content attempts\n",
    "    user_content = train_df.groupby('user_id')['content_id'].apply(np.array).apply(np.sort).apply(np.unique)\n",
    "    user_attempts = train_df.groupby(['user_id', 'content_id'])['content_id'].count().groupby('user_id').apply(np.array).values\n",
    "    user_attempts -= 1\n",
    "    \n",
    "    for user_id, content_id, nb_attempts in tqdm(zip(state.keys(), user_content, user_attempts),total=total):\n",
    "        state[user_id]['user_content_attempts'] = dict(zip(content_id, nb_attempts))\n",
    "        \n",
    "    del user_content, user_attempts\n",
    "    gc.collect()\n",
    "    \n",
    "    for idx, user_id in enumerate(state.keys()):\n",
    "        state[user_id]['mean_user_accuracy'] = mean_user_accuracy[idx]\n",
    "        state[user_id]['answered_correctly_user'] = answered_correctly_user[idx]\n",
    "        state[user_id]['answered_user'] = answered_user[idx]\n",
    "    return state\n",
    "\n",
    "state = get_state()\n",
    "#print('Example of the state for user 2746, attempt counting starts at 0 as the pandas cumcount function is used to create the attempt feature')\n",
    "display(state[2746])"
   ]
  },
  {
   "cell_type": "code",
   "execution_count": 23,
   "metadata": {
    "execution": {
     "iopub.execute_input": "2020-11-24T08:29:49.761847Z",
     "iopub.status.busy": "2020-11-24T08:29:49.752213Z",
     "iopub.status.idle": "2020-11-24T08:29:49.765020Z",
     "shell.execute_reply": "2020-11-24T08:29:49.765624Z"
    },
    "papermill": {
     "duration": 0.071635,
     "end_time": "2020-11-24T08:29:49.765811",
     "exception": false,
     "start_time": "2020-11-24T08:29:49.694176",
     "status": "completed"
    },
    "tags": []
   },
   "outputs": [],
   "source": [
    "def get_user_data(state, test_df):\n",
    "    # updated data\n",
    "    attempt, mean_user_accuracy, answered_correctly_user, answered_user = [], [], [], []\n",
    "    \n",
    "    for idx, (user_id, content_id) in test_df[['user_id', 'content_id']].iterrows():\n",
    "        # check if user exists\n",
    "        if user_id in state:\n",
    "            # check if user already answered the question, if so update it to a maximum of 4\n",
    "            if content_id in state[user_id]['user_content_attempts']:\n",
    "                state[user_id]['user_content_attempts'][content_id] = min(4, state[user_id]['user_content_attempts'][content_id] + 1)\n",
    "            # if user did not answered the question already, set the number of attempts to 0\n",
    "            else:\n",
    "                state[user_id]['user_content_attempts'][content_id] = 0\n",
    "        \n",
    "        # else create user with default values\n",
    "        else:\n",
    "            dict_keys = ['mean_user_accuracy', 'answered_correctly_user', 'answered_user', 'user_content_attempts']\n",
    "            dict_default_vals = [0.680, 0, 0, dict(zip([content_id],[0]))]\n",
    "            state[user_id] = dict(zip(dict_keys, dict_default_vals))\n",
    "            \n",
    "        # add user data to lists\n",
    "        attempt.append(state[user_id]['user_content_attempts'][content_id])\n",
    "        mean_user_accuracy.append(state[user_id]['mean_user_accuracy'])\n",
    "        answered_correctly_user.append(state[user_id]['answered_correctly_user'])\n",
    "        answered_user.append(state[user_id]['answered_user'])\n",
    "    \n",
    "    return attempt, mean_user_accuracy, answered_correctly_user, answered_user\n",
    "\n",
    "# updates the user data\n",
    "def update_user_data(state, features_questions_df, prev_test_df):\n",
    "    for user_id, content_id, answered_correctly in prev_test_df[['user_id', 'content_id', 'answered_correctly']].values:\n",
    "        # update user features\n",
    "        state[user_id]['answered_correctly_user'] += answered_correctly\n",
    "        state[user_id]['answered_user'] += 1\n",
    "        state[user_id]['mean_user_accuracy'] = state[user_id]['answered_correctly_user'] / state[user_id]['answered_user']"
   ]
  },
  {
   "cell_type": "markdown",
   "metadata": {
    "papermill": {
     "duration": 0.048277,
     "end_time": "2020-11-24T08:29:49.862940",
     "exception": false,
     "start_time": "2020-11-24T08:29:49.814663",
     "status": "completed"
    },
    "tags": []
   },
   "source": [
    "# Baseline"
   ]
  },
  {
   "cell_type": "code",
   "execution_count": 24,
   "metadata": {
    "execution": {
     "iopub.execute_input": "2020-11-24T08:29:49.965814Z",
     "iopub.status.busy": "2020-11-24T08:29:49.965040Z",
     "iopub.status.idle": "2020-11-24T08:29:49.968950Z",
     "shell.execute_reply": "2020-11-24T08:29:49.968194Z"
    },
    "papermill": {
     "duration": 0.057644,
     "end_time": "2020-11-24T08:29:49.969076",
     "exception": false,
     "start_time": "2020-11-24T08:29:49.911432",
     "status": "completed"
    },
    "tags": []
   },
   "outputs": [],
   "source": [
    "#sc = MinMaxScaler()\n",
    "sc = StandardScaler()"
   ]
  },
  {
   "cell_type": "code",
   "execution_count": 25,
   "metadata": {
    "execution": {
     "iopub.execute_input": "2020-11-24T08:29:50.084209Z",
     "iopub.status.busy": "2020-11-24T08:29:50.082239Z",
     "iopub.status.idle": "2020-11-24T08:29:51.337100Z",
     "shell.execute_reply": "2020-11-24T08:29:51.337743Z"
    },
    "papermill": {
     "duration": 1.317572,
     "end_time": "2020-11-24T08:29:51.337974",
     "exception": false,
     "start_time": "2020-11-24T08:29:50.020402",
     "status": "completed"
    },
    "tags": []
   },
   "outputs": [],
   "source": [
    "train_df = train_df[train_df['answered_correctly']!= -1]\n",
    "features_bsl = ['prior_had_explanation_le', 'nb_attempt',\n",
    "                'content_id', 'content_count', 'content_nb_mean',\n",
    "                'user_nb_mean', 'user_count', \n",
    "                'is_reading_section',\n",
    "                'nb_tags',\n",
    "                '92', '38', '81', '29', '136',\n",
    "                '162', '102', '8', '143', '131'\n",
    "                ]\n",
    "\n",
    "if(IS_TIMESTAMPS_IN_MONTH):\n",
    "    features_bsl.append('timestamp_in_month')\n",
    "if(IS_TIMESTAMPS_IN_DAY):\n",
    "    features_bsl.append('timestamp_in_day')\n",
    "if(IS_PRIOR_TIME_IN_HOUR):\n",
    "    features_bsl.append('prior_time_in_hours')\n",
    "if(IS_FIRST_QUESTION):\n",
    "    features_bsl.append('is_first_question')\n",
    "\n",
    "\n",
    "\n",
    "X = train_df[features_bsl]\n",
    "X = sc.fit_transform(X)\n",
    "y = train_df['answered_correctly']\n",
    "\n",
    "\n",
    "X_train, X_test, y_train, y_test = train_test_split(X, y, test_size=0.20, shuffle=True, random_state=1)"
   ]
  },
  {
   "cell_type": "code",
   "execution_count": 26,
   "metadata": {
    "execution": {
     "iopub.execute_input": "2020-11-24T08:29:51.454023Z",
     "iopub.status.busy": "2020-11-24T08:29:51.453157Z",
     "iopub.status.idle": "2020-11-24T08:29:51.457823Z",
     "shell.execute_reply": "2020-11-24T08:29:51.457059Z"
    },
    "papermill": {
     "duration": 0.06147,
     "end_time": "2020-11-24T08:29:51.457969",
     "exception": false,
     "start_time": "2020-11-24T08:29:51.396499",
     "status": "completed"
    },
    "tags": []
   },
   "outputs": [
    {
     "data": {
      "text/plain": [
       "['prior_had_explanation_le',\n",
       " 'nb_attempt',\n",
       " 'content_id',\n",
       " 'content_count',\n",
       " 'content_nb_mean',\n",
       " 'user_nb_mean',\n",
       " 'user_count',\n",
       " 'is_reading_section',\n",
       " 'nb_tags',\n",
       " '92',\n",
       " '38',\n",
       " '81',\n",
       " '29',\n",
       " '136',\n",
       " '162',\n",
       " '102',\n",
       " '8',\n",
       " '143',\n",
       " '131',\n",
       " 'timestamp_in_month',\n",
       " 'prior_time_in_hours',\n",
       " 'is_first_question']"
      ]
     },
     "execution_count": 26,
     "metadata": {},
     "output_type": "execute_result"
    }
   ],
   "source": [
    "features_bsl"
   ]
  },
  {
   "cell_type": "markdown",
   "metadata": {
    "papermill": {
     "duration": 0.050289,
     "end_time": "2020-11-24T08:29:51.559265",
     "exception": false,
     "start_time": "2020-11-24T08:29:51.508976",
     "status": "completed"
    },
    "tags": []
   },
   "source": [
    "## Optimisation of the model (Hyperparameter tuning and crossvalidation)"
   ]
  },
  {
   "cell_type": "markdown",
   "metadata": {
    "papermill": {
     "duration": 0.050431,
     "end_time": "2020-11-24T08:29:51.660479",
     "exception": false,
     "start_time": "2020-11-24T08:29:51.610048",
     "status": "completed"
    },
    "tags": []
   },
   "source": [
    "### To optimize my model, I use : Bayesian Optimization (hyperopt) and stratification."
   ]
  },
  {
   "cell_type": "code",
   "execution_count": 27,
   "metadata": {
    "execution": {
     "iopub.execute_input": "2020-11-24T08:29:51.791189Z",
     "iopub.status.busy": "2020-11-24T08:29:51.790092Z",
     "iopub.status.idle": "2020-11-24T08:29:51.794254Z",
     "shell.execute_reply": "2020-11-24T08:29:51.793594Z"
    },
    "papermill": {
     "duration": 0.082021,
     "end_time": "2020-11-24T08:29:51.794378",
     "exception": false,
     "start_time": "2020-11-24T08:29:51.712357",
     "status": "completed"
    },
    "tags": []
   },
   "outputs": [],
   "source": [
    "\n",
    "param_hyperopt= {\n",
    "    'learning_rate': hp.loguniform('learning_rate', np.log(0.01), np.log(1)),\n",
    "    'max_depth': scope.int(hp.quniform('max_depth', 5, 15, 1)),\n",
    "    'feature_fraction': hp.uniform('feature_fraction', 0.6, 0.9),\n",
    "    'n_estimators': scope.int(hp.quniform('n_estimators', 25, 300, 25)),\n",
    "    'num_leaves': scope.int(hp.quniform('num_leaves', 5, 50, 1)),\n",
    "    'reg_lambda': hp.uniform('reg_lambda', 0.0, 0.2),\n",
    "}\n",
    "\n",
    "\n",
    "def hyperopt(param_space, X_train, y_train, X_test, y_test, num_eval):\n",
    "    num_folds=3\n",
    "    \n",
    "    \n",
    "    #def objective_function(params):\n",
    "    #    clf = lgb.LGBMClassifier(random_state =1, **params)\n",
    "    #    score = cross_val_score(clf, X_train, y_train, cv=kf).mean()\n",
    "    #    return {'loss': -score, 'status': STATUS_OK}\n",
    "    \n",
    "    def objective_function(params):\n",
    "        clf = lgb.LGBMClassifier(random_state =1, **params)\n",
    "        kf = KFold(n_splits=num_folds, shuffle=True)\n",
    "        score = cross_val_score(clf, X_train, y_train, cv=kf, scoring='roc_auc', n_jobs=1).mean()\n",
    "        return {'loss': 1-score, 'status': STATUS_OK}\n",
    "    \n",
    "    \n",
    "    \n",
    "    \n",
    "    \n",
    "    \n",
    "    trials = Trials()\n",
    "    \n",
    "    best_param = fmin(objective_function, \n",
    "                      param_space, \n",
    "                      algo=tpe.suggest, \n",
    "                      max_evals=num_eval, \n",
    "                      trials=trials,\n",
    "                      rstate= np.random.RandomState(1))\n",
    "    loss = [x['result']['loss'] for x in trials.trials]\n",
    "    \n",
    "    best_param_values = [x for x in best_param.values()]\n",
    "    \n",
    "    if best_param_values[0] == 0:\n",
    "        boosting_type = 'gbdt'\n",
    "    else:\n",
    "        boosting_type= 'dart'\n",
    "   \n",
    "    clf_best = lgb.LGBMClassifier(random_state = 1,\n",
    "                                  feature_fraction=best_param_values[0],\n",
    "                                  learning_rate=best_param_values[1],\n",
    "                                  max_depth=int(best_param_values[2]),\n",
    "                                  n_estimators=int(best_param_values[3]),\n",
    "                                  num_leaves=int(best_param_values[4]),\n",
    "                                  reg_lambda=best_param_values[5]\n",
    "                                 )\n",
    "    \n",
    "    clf_best.fit(X_train, y_train)\n",
    "    \n",
    "    print(\"\")\n",
    "    print(\"##### Results\")\n",
    "    print(\"Score best parameters: \", min(loss)*-1)\n",
    "    print(\"Best parameters: \", best_param)\n",
    "    print(\"Test Score: \", clf_best.score(X_test, y_test))\n",
    "    print(\"AUROC : \",roc_auc_score(y_test, clf_best.predict_proba(X_test)[:,1]) )\n",
    "    print(\"Parameter combinations evaluated: \", num_eval)\n",
    "    return trials\n",
    "\n",
    "IS_EVAL = False\n",
    "if(IS_EVAL):\n",
    "    num_eval = 75\n",
    "    results_hyperopt = hyperopt(param_hyperopt, X_train, y_train, X_test, y_test, num_eval)\n"
   ]
  },
  {
   "cell_type": "markdown",
   "metadata": {
    "papermill": {
     "duration": 0.050239,
     "end_time": "2020-11-24T08:29:51.895879",
     "exception": false,
     "start_time": "2020-11-24T08:29:51.845640",
     "status": "completed"
    },
    "tags": []
   },
   "source": [
    "75/75 [29:45<00:00, 23.81s/trial, best loss: 0.24545802722089016]\n",
    "\n",
    "##### Results\n",
    "Score best parameters:  -0.24545802722089016\n",
    "Best parameters:  {'feature_fraction': 0.7847766875579623, 'learning_rate': 0.20475753529956947, 'max_depth': 8.0, 'n_estimators': 300.0, 'num_leaves': 25.0, 'reg_lambda': 0.08560393035568381}\n",
    "Test Score:  0.7178898261301032\n",
    "AUROC :  0.7537312406572992\n",
    "Parameter combinations evaluated:  75"
   ]
  },
  {
   "cell_type": "code",
   "execution_count": 28,
   "metadata": {
    "execution": {
     "iopub.execute_input": "2020-11-24T08:29:52.008494Z",
     "iopub.status.busy": "2020-11-24T08:29:52.007457Z",
     "iopub.status.idle": "2020-11-24T08:29:52.011251Z",
     "shell.execute_reply": "2020-11-24T08:29:52.010429Z"
    },
    "papermill": {
     "duration": 0.06416,
     "end_time": "2020-11-24T08:29:52.011386",
     "exception": false,
     "start_time": "2020-11-24T08:29:51.947226",
     "status": "completed"
    },
    "tags": []
   },
   "outputs": [],
   "source": [
    "'''params = {\n",
    "    #'bagging_fraction': 0.5817242323514327,\n",
    "    'feature_fraction': 0.6884588361650144,\n",
    "    #'learning_rate': 0.42887924851375825, \n",
    "    'learning_rate': 0.4, \n",
    "    'max_depth': 7,\n",
    "    'min_child_samples': 100, \n",
    "    'min_child_weight': 0.01,\n",
    "    'min_data_in_leaf': 20, \n",
    "    'n_estimators': 200,\n",
    "    'n_job': 4,\n",
    "    'num_leaves': 42,\n",
    "    'random_state': 1,\n",
    "    'reg_alpha': 5, \n",
    "    'reg_lambda': 0,\n",
    "    'subsample': 0.863184719640143\n",
    "}'''\n",
    "\n",
    "params = {\n",
    "    'bagging_fraction': 0.6,\n",
    "    'feature_fraction': 0.7847766875579623, \n",
    "    'learning_rate': 0.45, #0.20475753529956947, \n",
    "    'max_depth': 8, \n",
    "    'n_estimators': 300,\n",
    "    'num_leaves': 25,\n",
    "    'reg_lambda': 0,\n",
    "    'reg_alpha': 5,\n",
    "    'random_state': 1,\n",
    "    'n_job': 4,\n",
    "    'min_child_samples': 100, \n",
    "    'min_child_weight': 0.01,\n",
    "    'min_data_in_leaf': 15,\n",
    "    'subsample': 0.75\n",
    "}\n",
    "\n",
    "lgbm = LGBMClassifier(**params)"
   ]
  },
  {
   "cell_type": "code",
   "execution_count": 29,
   "metadata": {
    "execution": {
     "iopub.execute_input": "2020-11-24T08:29:52.166864Z",
     "iopub.status.busy": "2020-11-24T08:29:52.163159Z",
     "iopub.status.idle": "2020-11-24T08:30:06.993278Z",
     "shell.execute_reply": "2020-11-24T08:30:06.994265Z"
    },
    "papermill": {
     "duration": 14.931159,
     "end_time": "2020-11-24T08:30:06.994451",
     "exception": false,
     "start_time": "2020-11-24T08:29:52.063292",
     "status": "completed"
    },
    "tags": []
   },
   "outputs": [
    {
     "data": {
      "text/plain": [
       "LGBMClassifier(bagging_fraction=0.6, feature_fraction=0.7847766875579623,\n",
       "               learning_rate=0.45, max_depth=8, min_child_samples=100,\n",
       "               min_child_weight=0.01, min_data_in_leaf=15, n_estimators=300,\n",
       "               n_job=4, num_leaves=25, random_state=1, reg_alpha=5,\n",
       "               reg_lambda=0, subsample=0.75)"
      ]
     },
     "execution_count": 29,
     "metadata": {},
     "output_type": "execute_result"
    }
   ],
   "source": [
    "lgbm.fit(train_df[features_bsl], y)"
   ]
  },
  {
   "cell_type": "code",
   "execution_count": 30,
   "metadata": {
    "execution": {
     "iopub.execute_input": "2020-11-24T08:30:07.131232Z",
     "iopub.status.busy": "2020-11-24T08:30:07.130307Z",
     "iopub.status.idle": "2020-11-24T08:30:12.032002Z",
     "shell.execute_reply": "2020-11-24T08:30:12.031187Z"
    },
    "papermill": {
     "duration": 4.9768,
     "end_time": "2020-11-24T08:30:12.032134",
     "exception": false,
     "start_time": "2020-11-24T08:30:07.055334",
     "status": "completed"
    },
    "tags": []
   },
   "outputs": [
    {
     "name": "stdout",
     "output_type": "stream",
     "text": [
      "0.7779677120734912\n"
     ]
    }
   ],
   "source": [
    "from sklearn.metrics import roc_auc_score\n",
    "\n",
    "if(IS_TEST):\n",
    "    print(roc_auc_score(y.values, lgbm.predict_proba(train_df[features_bsl])[:,1]))"
   ]
  },
  {
   "cell_type": "code",
   "execution_count": 31,
   "metadata": {
    "execution": {
     "iopub.execute_input": "2020-11-24T08:30:12.147450Z",
     "iopub.status.busy": "2020-11-24T08:30:12.146286Z",
     "iopub.status.idle": "2020-11-24T08:30:19.543559Z",
     "shell.execute_reply": "2020-11-24T08:30:19.542781Z"
    },
    "papermill": {
     "duration": 7.458846,
     "end_time": "2020-11-24T08:30:19.543702",
     "exception": false,
     "start_time": "2020-11-24T08:30:12.084856",
     "status": "completed"
    },
    "tags": []
   },
   "outputs": [
    {
     "name": "stderr",
     "output_type": "stream",
     "text": [
      "/opt/conda/lib/python3.7/site-packages/sklearn/utils/deprecation.py:143: FutureWarning: The sklearn.metrics.scorer module is  deprecated in version 0.22 and will be removed in version 0.24. The corresponding classes / functions should instead be imported from sklearn.metrics. Anything that cannot be imported from sklearn.metrics is now part of the private API.\n",
      "  warnings.warn(message, FutureWarning)\n",
      "/opt/conda/lib/python3.7/site-packages/sklearn/utils/deprecation.py:143: FutureWarning: The sklearn.feature_selection.base module is  deprecated in version 0.22 and will be removed in version 0.24. The corresponding classes / functions should instead be imported from sklearn.feature_selection. Anything that cannot be imported from sklearn.feature_selection is now part of the private API.\n",
      "  warnings.warn(message, FutureWarning)\n"
     ]
    }
   ],
   "source": [
    "import eli5\n",
    "from eli5.sklearn import PermutationImportance\n",
    "if(IS_EVAL):\n",
    "    train_df.fillna(train_df.median(), inplace=True)\n",
    "    perm = PermutationImportance(lgbm, random_state=1).fit(train_df[features_bsl], y)\n",
    "    eli5.show_weights(perm, feature_names = features_bsl)"
   ]
  },
  {
   "cell_type": "code",
   "execution_count": 32,
   "metadata": {
    "execution": {
     "iopub.execute_input": "2020-11-24T08:30:19.662534Z",
     "iopub.status.busy": "2020-11-24T08:30:19.661687Z",
     "iopub.status.idle": "2020-11-24T08:30:20.037409Z",
     "shell.execute_reply": "2020-11-24T08:30:20.036575Z"
    },
    "papermill": {
     "duration": 0.437925,
     "end_time": "2020-11-24T08:30:20.037541",
     "exception": false,
     "start_time": "2020-11-24T08:30:19.599616",
     "status": "completed"
    },
    "tags": []
   },
   "outputs": [
    {
     "data": {
      "image/png": "[encoded data removed]",
      "text/plain": [
       "<Figure size 432x288 with 1 Axes>"
      ]
     },
     "metadata": {
      "needs_background": "light"
     },
     "output_type": "display_data"
    }
   ],
   "source": [
    "#displaying the most important features\n",
    "if(IS_TEST):\n",
    "    lgb.plot_importance(lgbm)\n",
    "    plt.show()"
   ]
  },
  {
   "cell_type": "code",
   "execution_count": 33,
   "metadata": {
    "execution": {
     "iopub.execute_input": "2020-11-24T08:30:20.151309Z",
     "iopub.status.busy": "2020-11-24T08:30:20.150422Z",
     "iopub.status.idle": "2020-11-24T08:30:20.164617Z",
     "shell.execute_reply": "2020-11-24T08:30:20.163814Z"
    },
    "papermill": {
     "duration": 0.073617,
     "end_time": "2020-11-24T08:30:20.164764",
     "exception": false,
     "start_time": "2020-11-24T08:30:20.091147",
     "status": "completed"
    },
    "tags": []
   },
   "outputs": [],
   "source": [
    "import riiideducation\n",
    "import pandas as pd\n",
    "\n",
    "# You can only call make_env() once, so don't lose it!\n",
    "env = riiideducation.make_env()"
   ]
  },
  {
   "cell_type": "code",
   "execution_count": 34,
   "metadata": {
    "execution": {
     "iopub.execute_input": "2020-11-24T08:30:20.281613Z",
     "iopub.status.busy": "2020-11-24T08:30:20.280624Z",
     "iopub.status.idle": "2020-11-24T08:30:20.285506Z",
     "shell.execute_reply": "2020-11-24T08:30:20.284757Z"
    },
    "papermill": {
     "duration": 0.066216,
     "end_time": "2020-11-24T08:30:20.285633",
     "exception": false,
     "start_time": "2020-11-24T08:30:20.219417",
     "status": "completed"
    },
    "tags": []
   },
   "outputs": [
    {
     "data": {
      "text/plain": [
       "\"for dirname, _, filenames in os.walk('/kaggle/input'):\\n    for filename in filenames:\\n        print(os.path.join(dirname, filename))\""
      ]
     },
     "execution_count": 34,
     "metadata": {},
     "output_type": "execute_result"
    }
   ],
   "source": [
    "import os\n",
    "'''for dirname, _, filenames in os.walk('/kaggle/input'):\n",
    "    for filename in filenames:\n",
    "        print(os.path.join(dirname, filename))'''"
   ]
  },
  {
   "cell_type": "code",
   "execution_count": 35,
   "metadata": {
    "execution": {
     "iopub.execute_input": "2020-11-24T08:30:20.418721Z",
     "iopub.status.busy": "2020-11-24T08:30:20.417673Z",
     "iopub.status.idle": "2020-11-24T08:30:20.421022Z",
     "shell.execute_reply": "2020-11-24T08:30:20.421572Z"
    },
    "papermill": {
     "duration": 0.082085,
     "end_time": "2020-11-24T08:30:20.421736",
     "exception": false,
     "start_time": "2020-11-24T08:30:20.339651",
     "status": "completed"
    },
    "tags": []
   },
   "outputs": [],
   "source": [
    "user_sum_dict = user_agg['sum'].astype('int16').to_dict(defaultdict(int))\n",
    "user_count_dict = user_agg['count'].astype('int16').to_dict(defaultdict(int))\n",
    "content_sum_dict = content_agg['sum'].astype('int32').to_dict(defaultdict(int))\n",
    "content_count_dict = content_agg['count'].astype('int32').to_dict(defaultdict(int))"
   ]
  },
  {
   "cell_type": "code",
   "execution_count": 36,
   "metadata": {
    "execution": {
     "iopub.execute_input": "2020-11-24T08:30:20.544574Z",
     "iopub.status.busy": "2020-11-24T08:30:20.539225Z",
     "iopub.status.idle": "2020-11-24T08:30:21.018496Z",
     "shell.execute_reply": "2020-11-24T08:30:21.017798Z"
    },
    "papermill": {
     "duration": 0.543079,
     "end_time": "2020-11-24T08:30:21.018645",
     "exception": false,
     "start_time": "2020-11-24T08:30:20.475566",
     "status": "completed"
    },
    "tags": []
   },
   "outputs": [],
   "source": [
    "prev_test_df = None\n",
    "\n",
    "iter_test = env.iter_test()\n",
    "\n",
    "for (test_df, sample_prediction_df) in iter_test:\n",
    "    if prev_test_df is not None:\n",
    "        prev_test_df['answered_correctly_01']\n",
    "        \n",
    "        for user_id, content_id, answered_correctly in prev_test_df[['user_id', 'content_id', 'answered_correctly_01']].values:\n",
    "            state[user_id]['answered_correctly_user'] += answered_correctly\n",
    "            state[user_id]['answered_user'] += 1\n",
    "            state[user_id]['mean_user_accuracy'] = state[user_id]['answered_correctly_user'] / state[user_id]['answered_user']\n",
    "        \n",
    "    test_df = preprocessing_data(test_df)\n",
    "    \n",
    "    test_df = pd.merge(test_df,questions_df, how='left', left_on='content_id', right_on='question_id').sort_values('row_id')\n",
    "    test_df = test_df.sort_values(['user_id','timestamp'], ascending=False)\n",
    "\n",
    "    user_sum = np.zeros(len(test_df), dtype=np.int16)\n",
    "    user_count = np.zeros(len(test_df), dtype=np.int16)\n",
    "    user_mean = np.zeros(len(test_df), dtype=np.int16)\n",
    "    content_sum = np.zeros(len(test_df), dtype=np.int32)\n",
    "    content_count = np.zeros(len(test_df), dtype=np.int32)\n",
    "    content_mean = np.zeros(len(test_df), dtype=np.int16)\n",
    "    user_content_attempts = np.zeros(len(test_df), dtype=np.int8)\n",
    "    for i, (user_id, content_id) in enumerate(zip(test_df['user_id'].values, test_df['content_id'].values)):\n",
    "        \n",
    "        if user_id not in state:\n",
    "            dict_keys = ['mean_user_accuracy', 'answered_correctly_user', 'answered_user', 'user_content_attempts']\n",
    "            dict_default_vals = [0.680, 0, 0, dict(zip([content_id],[0]))]\n",
    "            state[user_id] = dict(zip(dict_keys, dict_default_vals))\n",
    "            \n",
    "        if content_id not in state[user_id]['user_content_attempts']:\n",
    "            state[user_id]['user_content_attempts'][content_id] = 1\n",
    "        else:\n",
    "            state[user_id]['user_content_attempts'][content_id] = state[user_id]['user_content_attempts'][content_id] + 1\n",
    "        \n",
    "        #state[user_id]['answered_correctly_user'] += answered_correctly\n",
    "        #state[user_id]['answered_user'] += 1\n",
    "        #state[user_id]['mean_user_accuracy'] = state[user_id]['answered_correctly_user'] / state[user_id]['answered_user']\n",
    "        \n",
    "        user_content_attempts[i]= state[user_id]['user_content_attempts'][content_id]\n",
    "        \n",
    "        user_sum[i] = user_sum_dict[user_id]\n",
    "        user_count[i] = user_count_dict[user_id]\n",
    "        user_mean[i] = state[user_id]['mean_user_accuracy']\n",
    "        \n",
    "        content_sum[i] = content_sum_dict[content_id]\n",
    "        content_count[i] = content_count_dict[content_id]\n",
    "        if(content_count[i] > 0 ) :\n",
    "            content_mean[i] = content_sum[i] / content_count[i]\n",
    "        else :\n",
    "            content_mean[i] = 0.65\n",
    "    test_df['nb_attempt'] = user_content_attempts\n",
    "    \n",
    "    test_df['user_count'] = user_count\n",
    "    test_df['user_sum'] = user_sum\n",
    "    test_df['user_nb_mean'] = user_mean\n",
    "    \n",
    "    test_df['content_count'] = content_count\n",
    "    test_df['content_nb_mean'] = content_sum/content_count\n",
    "    test_df['answered_correctly_01'] =  lgbm.predict(test_df[features_bsl])\n",
    "    test_df['answered_correctly'] =  lgbm.predict_proba(test_df[features_bsl])[:,1]\n",
    "    env.predict(test_df[['row_id', 'answered_correctly']])\n",
    "    prev_test_df = test_df.copy()"
   ]
  },
  {
   "cell_type": "code",
   "execution_count": 37,
   "metadata": {
    "execution": {
     "iopub.execute_input": "2020-11-24T08:30:21.137443Z",
     "iopub.status.busy": "2020-11-24T08:30:21.134200Z",
     "iopub.status.idle": "2020-11-24T08:30:21.140967Z",
     "shell.execute_reply": "2020-11-24T08:30:21.140288Z"
    },
    "papermill": {
     "duration": 0.068324,
     "end_time": "2020-11-24T08:30:21.141095",
     "exception": false,
     "start_time": "2020-11-24T08:30:21.072771",
     "status": "completed"
    },
    "tags": []
   },
   "outputs": [],
   "source": [
    "submission = pd.read_csv('./submission.csv')"
   ]
  },
  {
   "cell_type": "code",
   "execution_count": 38,
   "metadata": {
    "execution": {
     "iopub.execute_input": "2020-11-24T08:30:21.264997Z",
     "iopub.status.busy": "2020-11-24T08:30:21.264186Z",
     "iopub.status.idle": "2020-11-24T08:30:21.270086Z",
     "shell.execute_reply": "2020-11-24T08:30:21.267758Z"
    },
    "papermill": {
     "duration": 0.073872,
     "end_time": "2020-11-24T08:30:21.270258",
     "exception": false,
     "start_time": "2020-11-24T08:30:21.196386",
     "status": "completed"
    },
    "tags": []
   },
   "outputs": [
    {
     "name": "stdout",
     "output_type": "stream",
     "text": [
      "<class 'pandas.core.frame.DataFrame'>\n",
      "RangeIndex: 104 entries, 0 to 103\n",
      "Data columns (total 2 columns):\n",
      " #   Column              Non-Null Count  Dtype  \n",
      "---  ------              --------------  -----  \n",
      " 0   row_id              104 non-null    int64  \n",
      " 1   answered_correctly  104 non-null    float64\n",
      "dtypes: float64(1), int64(1)\n",
      "memory usage: 1.8 KB\n"
     ]
    }
   ],
   "source": [
    "submission.info()"
   ]
  },
  {
   "cell_type": "code",
   "execution_count": 39,
   "metadata": {
    "execution": {
     "iopub.execute_input": "2020-11-24T08:30:21.395631Z",
     "iopub.status.busy": "2020-11-24T08:30:21.394521Z",
     "iopub.status.idle": "2020-11-24T08:30:21.399154Z",
     "shell.execute_reply": "2020-11-24T08:30:21.398535Z"
    },
    "papermill": {
     "duration": 0.073115,
     "end_time": "2020-11-24T08:30:21.399288",
     "exception": false,
     "start_time": "2020-11-24T08:30:21.326173",
     "status": "completed"
    },
    "tags": []
   },
   "outputs": [
    {
     "data": {
      "text/html": [
       "<div>\n",
       "<style scoped>\n",
       "    .dataframe tbody tr th:only-of-type {\n",
       "        vertical-align: middle;\n",
       "    }\n",
       "\n",
       "    .dataframe tbody tr th {\n",
       "        vertical-align: top;\n",
       "    }\n",
       "\n",
       "    .dataframe thead th {\n",
       "        text-align: right;\n",
       "    }\n",
       "</style>\n",
       "<table border=\"1\" class=\"dataframe\">\n",
       "  <thead>\n",
       "    <tr style=\"text-align: right;\">\n",
       "      <th></th>\n",
       "      <th>row_id</th>\n",
       "      <th>answered_correctly</th>\n",
       "    </tr>\n",
       "  </thead>\n",
       "  <tbody>\n",
       "    <tr>\n",
       "      <th>0</th>\n",
       "      <td>17</td>\n",
       "      <td>0.567705</td>\n",
       "    </tr>\n",
       "    <tr>\n",
       "      <th>1</th>\n",
       "      <td>4</td>\n",
       "      <td>0.378941</td>\n",
       "    </tr>\n",
       "    <tr>\n",
       "      <th>2</th>\n",
       "      <td>2</td>\n",
       "      <td>0.677744</td>\n",
       "    </tr>\n",
       "    <tr>\n",
       "      <th>3</th>\n",
       "      <td>8</td>\n",
       "      <td>0.364633</td>\n",
       "    </tr>\n",
       "    <tr>\n",
       "      <th>4</th>\n",
       "      <td>6</td>\n",
       "      <td>0.563906</td>\n",
       "    </tr>\n",
       "  </tbody>\n",
       "</table>\n",
       "</div>"
      ],
      "text/plain": [
       "   row_id  answered_correctly\n",
       "0      17            0.567705\n",
       "1       4            0.378941\n",
       "2       2            0.677744\n",
       "3       8            0.364633\n",
       "4       6            0.563906"
      ]
     },
     "execution_count": 39,
     "metadata": {},
     "output_type": "execute_result"
    }
   ],
   "source": [
    "submission.head()"
   ]
  }
 ],
 "metadata": {
  "kernelspec": {
   "display_name": "Python 3",
   "language": "python",
   "name": "python3"
  },
  "language_info": {
   "codemirror_mode": {
    "name": "ipython",
    "version": 3
   },
   "file_extension": ".py",
   "mimetype": "text/x-python",
   "name": "python",
   "nbconvert_exporter": "python",
   "pygments_lexer": "ipython3",
   "version": "3.7.6"
  },
  "papermill": {
   "duration": 49.539236,
   "end_time": "2020-11-24T08:30:21.565894",
   "environment_variables": {},
   "exception": null,
   "input_path": "__notebook__.ipynb",
   "output_path": "__notebook__.ipynb",
   "parameters": {},
   "start_time": "2020-11-24T08:29:32.026658",
   "version": "2.1.0"
  },
  "widgets": {
   "application/vnd.jupyter.widget-state+json": {
    "state": {
     "00630242d7244fc9a0351e7bff56b503": {
      "model_module": "@jupyter-widgets/controls",
      "model_module_version": "1.5.0",
      "model_name": "ProgressStyleModel",
      "state": {
       "_model_module": "@jupyter-widgets/controls",
       "_model_module_version": "1.5.0",
       "_model_name": "ProgressStyleModel",
       "_view_count": null,
       "_view_module": "@jupyter-widgets/base",
       "_view_module_version": "1.2.0",
       "_view_name": "StyleView",
       "bar_color": null,
       "description_width": "initial"
      }
     },
     "1b92f08059c7467392331e8e8a4acb74": {
      "model_module": "@jupyter-widgets/base",
      "model_module_version": "1.2.0",
      "model_name": "LayoutModel",
      "state": {
       "_model_module": "@jupyter-widgets/base",
       "_model_module_version": "1.2.0",
       "_model_name": "LayoutModel",
       "_view_count": null,
       "_view_module": "@jupyter-widgets/base",
       "_view_module_version": "1.2.0",
       "_view_name": "LayoutView",
       "align_content": null,
       "align_items": null,
       "align_self": null,
       "border": null,
       "bottom": null,
       "display": null,
       "flex": null,
       "flex_flow": null,
       "grid_area": null,
       "grid_auto_columns": null,
       "grid_auto_flow": null,
       "grid_auto_rows": null,
       "grid_column": null,
       "grid_gap": null,
       "grid_row": null,
       "grid_template_areas": null,
       "grid_template_columns": null,
       "grid_template_rows": null,
       "height": null,
       "justify_content": null,
       "justify_items": null,
       "left": null,
       "margin": null,
       "max_height": null,
       "max_width": null,
       "min_height": null,
       "min_width": null,
       "object_fit": null,
       "object_position": null,
       "order": null,
       "overflow": null,
       "overflow_x": null,
       "overflow_y": null,
       "padding": null,
       "right": null,
       "top": null,
       "visibility": null,
       "width": null
      }
     },
     "67c979b505774e1a88dab80214c047de": {
      "model_module": "@jupyter-widgets/controls",
      "model_module_version": "1.5.0",
      "model_name": "HBoxModel",
      "state": {
       "_dom_classes": [],
       "_model_module": "@jupyter-widgets/controls",
       "_model_module_version": "1.5.0",
       "_model_name": "HBoxModel",
       "_view_count": null,
       "_view_module": "@jupyter-widgets/controls",
       "_view_module_version": "1.5.0",
       "_view_name": "HBoxView",
       "box_style": "",
       "children": [
        "IPY_MODEL_71213e270f5e44359ed1e2a43aacc56c",
        "IPY_MODEL_a85d187cbb17430b9b3a7db73aaa06af"
       ],
       "layout": "IPY_MODEL_1b92f08059c7467392331e8e8a4acb74"
      }
     },
     "71213e270f5e44359ed1e2a43aacc56c": {
      "model_module": "@jupyter-widgets/controls",
      "model_module_version": "1.5.0",
      "model_name": "FloatProgressModel",
      "state": {
       "_dom_classes": [],
       "_model_module": "@jupyter-widgets/controls",
       "_model_module_version": "1.5.0",
       "_model_name": "FloatProgressModel",
       "_view_count": null,
       "_view_module": "@jupyter-widgets/controls",
       "_view_module_version": "1.5.0",
       "_view_name": "ProgressView",
       "bar_style": "success",
       "description": "100%",
       "description_tooltip": null,
       "layout": "IPY_MODEL_8b90038d07f9473db305a63466dee6b5",
       "max": 3824.0,
       "min": 0.0,
       "orientation": "horizontal",
       "style": "IPY_MODEL_00630242d7244fc9a0351e7bff56b503",
       "value": 3824.0
      }
     },
     "73ef247c54ee455880a87e7d4c0aa735": {
      "model_module": "@jupyter-widgets/controls",
      "model_module_version": "1.5.0",
      "model_name": "DescriptionStyleModel",
      "state": {
       "_model_module": "@jupyter-widgets/controls",
       "_model_module_version": "1.5.0",
       "_model_name": "DescriptionStyleModel",
       "_view_count": null,
       "_view_module": "@jupyter-widgets/base",
       "_view_module_version": "1.2.0",
       "_view_name": "StyleView",
       "description_width": ""
      }
     },
     "8b90038d07f9473db305a63466dee6b5": {
      "model_module": "@jupyter-widgets/base",
      "model_module_version": "1.2.0",
      "model_name": "LayoutModel",
      "state": {
       "_model_module": "@jupyter-widgets/base",
       "_model_module_version": "1.2.0",
       "_model_name": "LayoutModel",
       "_view_count": null,
       "_view_module": "@jupyter-widgets/base",
       "_view_module_version": "1.2.0",
       "_view_name": "LayoutView",
       "align_content": null,
       "align_items": null,
       "align_self": null,
       "border": null,
       "bottom": null,
       "display": null,
       "flex": null,
       "flex_flow": null,
       "grid_area": null,
       "grid_auto_columns": null,
       "grid_auto_flow": null,
       "grid_auto_rows": null,
       "grid_column": null,
       "grid_gap": null,
       "grid_row": null,
       "grid_template_areas": null,
       "grid_template_columns": null,
       "grid_template_rows": null,
       "height": null,
       "justify_content": null,
       "justify_items": null,
       "left": null,
       "margin": null,
       "max_height": null,
       "max_width": null,
       "min_height": null,
       "min_width": null,
       "object_fit": null,
       "object_position": null,
       "order": null,
       "overflow": null,
       "overflow_x": null,
       "overflow_y": null,
       "padding": null,
       "right": null,
       "top": null,
       "visibility": null,
       "width": null
      }
     },
     "a85d187cbb17430b9b3a7db73aaa06af": {
      "model_module": "@jupyter-widgets/controls",
      "model_module_version": "1.5.0",
      "model_name": "HTMLModel",
      "state": {
       "_dom_classes": [],
       "_model_module": "@jupyter-widgets/controls",
       "_model_module_version": "1.5.0",
       "_model_name": "HTMLModel",
       "_view_count": null,
       "_view_module": "@jupyter-widgets/controls",
       "_view_module_version": "1.5.0",
       "_view_name": "HTMLView",
       "description": "",
       "description_tooltip": null,
       "layout": "IPY_MODEL_dbd68cd086424c9d8f00ac0ff5f8c0f9",
       "placeholder": "​",
       "style": "IPY_MODEL_73ef247c54ee455880a87e7d4c0aa735",
       "value": " 3824/3824 [00:00&lt;00:00, 8961.08it/s]"
      }
     },
     "dbd68cd086424c9d8f00ac0ff5f8c0f9": {
      "model_module": "@jupyter-widgets/base",
      "model_module_version": "1.2.0",
      "model_name": "LayoutModel",
      "state": {
       "_model_module": "@jupyter-widgets/base",
       "_model_module_version": "1.2.0",
       "_model_name": "LayoutModel",
       "_view_count": null,
       "_view_module": "@jupyter-widgets/base",
       "_view_module_version": "1.2.0",
       "_view_name": "LayoutView",
       "align_content": null,
       "align_items": null,
       "align_self": null,
       "border": null,
       "bottom": null,
       "display": null,
       "flex": null,
       "flex_flow": null,
       "grid_area": null,
       "grid_auto_columns": null,
       "grid_auto_flow": null,
       "grid_auto_rows": null,
       "grid_column": null,
       "grid_gap": null,
       "grid_row": null,
       "grid_template_areas": null,
       "grid_template_columns": null,
       "grid_template_rows": null,
       "height": null,
       "justify_content": null,
       "justify_items": null,
       "left": null,
       "margin": null,
       "max_height": null,
       "max_width": null,
       "min_height": null,
       "min_width": null,
       "object_fit": null,
       "object_position": null,
       "order": null,
       "overflow": null,
       "overflow_x": null,
       "overflow_y": null,
       "padding": null,
       "right": null,
       "top": null,
       "visibility": null,
       "width": null
      }
     }
    },
    "version_major": 2,
    "version_minor": 0
   }
  }
 },
 "nbformat": 4,
 "nbformat_minor": 4
}
