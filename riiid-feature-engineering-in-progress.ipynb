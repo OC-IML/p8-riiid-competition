{
 "cells": [
  {
   "cell_type": "markdown",
   "metadata": {
    "papermill": {
     "duration": 0.054275,
     "end_time": "2020-11-16T20:43:11.895789",
     "exception": false,
     "start_time": "2020-11-16T20:43:11.841514",
     "status": "completed"
    },
    "tags": []
   },
   "source": [
    "# **Riiid! Answer Correctness Prediction**"
   ]
  },
  {
   "cell_type": "markdown",
   "metadata": {
    "papermill": {
     "duration": 0.05237,
     "end_time": "2020-11-16T20:43:12.000897",
     "exception": false,
     "start_time": "2020-11-16T20:43:11.948527",
     "status": "completed"
    },
    "tags": []
   },
   "source": [
    "## Imports"
   ]
  },
  {
   "cell_type": "code",
   "execution_count": 1,
   "metadata": {
    "execution": {
     "iopub.execute_input": "2020-11-16T20:43:12.111320Z",
     "iopub.status.busy": "2020-11-16T20:43:12.110664Z",
     "iopub.status.idle": "2020-11-16T20:43:13.040574Z",
     "shell.execute_reply": "2020-11-16T20:43:13.039874Z"
    },
    "papermill": {
     "duration": 0.987156,
     "end_time": "2020-11-16T20:43:13.040734",
     "exception": false,
     "start_time": "2020-11-16T20:43:12.053578",
     "status": "completed"
    },
    "tags": []
   },
   "outputs": [],
   "source": [
    "import numpy as np\n",
    "import pandas as pd\n",
    "import time\n",
    "\n",
    "\n",
    "from sklearn.metrics import roc_auc_score\n",
    "from tqdm.notebook import tqdm"
   ]
  },
  {
   "cell_type": "markdown",
   "metadata": {
    "papermill": {
     "duration": 0.052057,
     "end_time": "2020-11-16T20:43:13.145215",
     "exception": false,
     "start_time": "2020-11-16T20:43:13.093158",
     "status": "completed"
    },
    "tags": []
   },
   "source": [
    "## Functions"
   ]
  },
  {
   "cell_type": "code",
   "execution_count": 2,
   "metadata": {
    "execution": {
     "iopub.execute_input": "2020-11-16T20:43:13.264358Z",
     "iopub.status.busy": "2020-11-16T20:43:13.263353Z",
     "iopub.status.idle": "2020-11-16T20:43:13.266643Z",
     "shell.execute_reply": "2020-11-16T20:43:13.266007Z"
    },
    "papermill": {
     "duration": 0.069294,
     "end_time": "2020-11-16T20:43:13.266758",
     "exception": false,
     "start_time": "2020-11-16T20:43:13.197464",
     "status": "completed"
    },
    "tags": []
   },
   "outputs": [],
   "source": [
    "def print_filling_rate (data_df, a_label_abscisse, color_graphe, color_threshold  ) : \n",
    "    \"\"\" \n",
    "        Display the filling rate of the columns\n",
    "        @donnees_df : dataframe qui contient les données\n",
    "        @a_seuil : booléen égal à True si on souhaite afficher le seuil\n",
    "        @a_label_abscisse : booléen égal à True si on souhaite afficher le nom des colonnes en abscisse\n",
    "        @color_graphe\n",
    "        @color_threshold \n",
    "    \"\"\"\n",
    "    if(color_graphe == ''):\n",
    "        color_graphe = 'blue'\n",
    "    data = (data_df.count() / len(data_df)).sort_values().values\n",
    "    ind = np.arange(len(data))\n",
    "    width = 0.5\n",
    "    fig, axes = plt.subplots(1,1,figsize=(6, 3), dpi=100)\n",
    "    tr = axes.bar(ind, data, width, color=color_graphe)\n",
    "    axes.set_ylabel('Filling rates');\n",
    "    if(a_label_abscisse):\n",
    "        axes.set_xticks(ind )\n",
    "        axes.set_xticklabels((data_df.count() / len(data_df)).sort_values().index, fontsize=10, rotation=90)\n",
    "        axes.legend([tr], ['Filling rates'])\n",
    "        \n",
    "\n",
    "def print_pie(data_df, column, title_fig, title_legend) :\n",
    "    \"\"\"\n",
    "    @data_df : data\n",
    "    \"\"\"\n",
    "    fig, ax = plt.subplots(figsize=(6, 6))\n",
    "    #colors = ['blue','orange', 'green',  'pink', 'blue', 'teal',  'olive',    'deepskyblue',  'slategray',  'rebeccapurple',   'rosybrown','indianred','goldenrod','gold', 'khaki']\n",
    "    ttl = plt.title(title_fig, fontsize=15, weight=\"bold\")\n",
    "    ttl.set_position([0, 1.05])\n",
    "    data_df[column].value_counts(normalize=True).sort_index().plot(kind='pie', startangle=180, counterclock = False, autopct='%1.1f%%', fontsize = 14) #labels =labels, \n",
    "    plt.axis('equal')\n",
    "    plt.ylabel('')\n",
    "    plt.rcParams['legend.title_fontsize'] = 'large'\n",
    "    ax.legend(title=title_legend, loc=\"center right\",  bbox_to_anchor=(1, 0, 1, 1), fontsize='medium') #labels,\n",
    "    plt.show()\n",
    "        \n",
    "        "
   ]
  },
  {
   "cell_type": "markdown",
   "metadata": {
    "papermill": {
     "duration": 0.05175,
     "end_time": "2020-11-16T20:43:13.371415",
     "exception": false,
     "start_time": "2020-11-16T20:43:13.319665",
     "status": "completed"
    },
    "tags": []
   },
   "source": [
    "## Data loading\n",
    "\n",
    "We will follow this tutorials : [Competition API Detailed Introduction](https://www.kaggle.com/sohier/competition-api-detailed-introduction) and \n",
    "[Tutorial on reading large datasets](http://https://www.kaggle.com/rohanrao/tutorial-on-reading-large-datasets/)."
   ]
  },
  {
   "cell_type": "code",
   "execution_count": 3,
   "metadata": {
    "execution": {
     "iopub.execute_input": "2020-11-16T20:43:13.482352Z",
     "iopub.status.busy": "2020-11-16T20:43:13.481585Z",
     "iopub.status.idle": "2020-11-16T20:43:13.508454Z",
     "shell.execute_reply": "2020-11-16T20:43:13.507886Z"
    },
    "papermill": {
     "duration": 0.08516,
     "end_time": "2020-11-16T20:43:13.508565",
     "exception": false,
     "start_time": "2020-11-16T20:43:13.423405",
     "status": "completed"
    },
    "tags": []
   },
   "outputs": [
    {
     "name": "stdout",
     "output_type": "stream",
     "text": [
      "CPU times: user 16.4 ms, sys: 4.09 ms, total: 20.5 ms\n",
      "Wall time: 24.1 ms\n"
     ]
    }
   ],
   "source": [
    "%%time\n",
    "\n",
    "questions_df = pd.read_csv('/kaggle/input/riiid-test-answer-prediction/questions.csv')\n",
    "lectures_df = pd.read_csv('/kaggle/input/riiid-test-answer-prediction/lectures.csv')\n",
    "example_test = pd.read_csv('/kaggle/input/riiid-test-answer-prediction/example_test.csv')\n",
    "example_sample_submission = pd.read_csv('/kaggle/input/riiid-test-answer-prediction/example_sample_submission.csv')"
   ]
  },
  {
   "cell_type": "code",
   "execution_count": 4,
   "metadata": {
    "execution": {
     "iopub.execute_input": "2020-11-16T20:43:13.622788Z",
     "iopub.status.busy": "2020-11-16T20:43:13.622017Z",
     "iopub.status.idle": "2020-11-16T20:43:15.674815Z",
     "shell.execute_reply": "2020-11-16T20:43:15.675508Z"
    },
    "papermill": {
     "duration": 2.114054,
     "end_time": "2020-11-16T20:43:15.675731",
     "exception": false,
     "start_time": "2020-11-16T20:43:13.561677",
     "status": "completed"
    },
    "tags": []
   },
   "outputs": [
    {
     "name": "stdout",
     "output_type": "stream",
     "text": [
      "Train size: (1000000, 10)\n",
      "CPU times: user 1.67 s, sys: 306 ms, total: 1.98 s\n",
      "Wall time: 2.05 s\n"
     ]
    }
   ],
   "source": [
    "%%time\n",
    "\n",
    "dtypes = {\n",
    "    \"row_id\": \"int64\",\n",
    "    \"timestamp\": \"int64\",\n",
    "    \"user_id\": \"int32\",\n",
    "    \"content_id\": \"int16\",\n",
    "    \"content_type_id\": \"int8\",\n",
    "    \"task_container_id\": \"int16\",\n",
    "    \"user_answer\": \"int8\",\n",
    "    \"answered_correctly\": \"int8\",\n",
    "    \"prior_question_elapsed_time\": \"float32\", \n",
    "    \"prior_question_had_explanation\": \"boolean\"\n",
    "}\n",
    "\n",
    "train_df = pd.read_csv('/kaggle/input/riiid-test-answer-prediction/train.csv', \n",
    "                       low_memory=False, \n",
    "                       nrows=10**6, \n",
    "                       dtype=dtypes\n",
    "                      )\n",
    "print(\"Train size:\", train_df.shape)"
   ]
  },
  {
   "cell_type": "code",
   "execution_count": 5,
   "metadata": {
    "execution": {
     "iopub.execute_input": "2020-11-16T20:43:15.798294Z",
     "iopub.status.busy": "2020-11-16T20:43:15.792967Z",
     "iopub.status.idle": "2020-11-16T20:43:15.803553Z",
     "shell.execute_reply": "2020-11-16T20:43:15.802867Z"
    },
    "papermill": {
     "duration": 0.072635,
     "end_time": "2020-11-16T20:43:15.803688",
     "exception": false,
     "start_time": "2020-11-16T20:43:15.731053",
     "status": "completed"
    },
    "tags": []
   },
   "outputs": [
    {
     "data": {
      "text/plain": [
       "Index                                 128\n",
       "row_id                            8000000\n",
       "timestamp                         8000000\n",
       "user_id                           4000000\n",
       "content_id                        2000000\n",
       "content_type_id                   1000000\n",
       "task_container_id                 2000000\n",
       "user_answer                       1000000\n",
       "answered_correctly                1000000\n",
       "prior_question_elapsed_time       4000000\n",
       "prior_question_had_explanation    2000000\n",
       "dtype: int64"
      ]
     },
     "execution_count": 5,
     "metadata": {},
     "output_type": "execute_result"
    }
   ],
   "source": [
    "train_df.memory_usage(deep=True)"
   ]
  },
  {
   "cell_type": "code",
   "execution_count": 6,
   "metadata": {
    "execution": {
     "iopub.execute_input": "2020-11-16T20:43:15.920806Z",
     "iopub.status.busy": "2020-11-16T20:43:15.919457Z",
     "iopub.status.idle": "2020-11-16T20:43:15.956554Z",
     "shell.execute_reply": "2020-11-16T20:43:15.955733Z"
    },
    "papermill": {
     "duration": 0.098045,
     "end_time": "2020-11-16T20:43:15.956962",
     "exception": false,
     "start_time": "2020-11-16T20:43:15.858917",
     "status": "completed"
    },
    "tags": []
   },
   "outputs": [
    {
     "name": "stdout",
     "output_type": "stream",
     "text": [
      "<class 'pandas.core.frame.DataFrame'>\n",
      "RangeIndex: 1000000 entries, 0 to 999999\n",
      "Data columns (total 10 columns):\n",
      " #   Column                          Non-Null Count    Dtype  \n",
      "---  ------                          --------------    -----  \n",
      " 0   row_id                          1000000 non-null  int64  \n",
      " 1   timestamp                       1000000 non-null  int64  \n",
      " 2   user_id                         1000000 non-null  int32  \n",
      " 3   content_id                      1000000 non-null  int16  \n",
      " 4   content_type_id                 1000000 non-null  int8   \n",
      " 5   task_container_id               1000000 non-null  int16  \n",
      " 6   user_answer                     1000000 non-null  int8   \n",
      " 7   answered_correctly              1000000 non-null  int8   \n",
      " 8   prior_question_elapsed_time     976277 non-null   float32\n",
      " 9   prior_question_had_explanation  996184 non-null   boolean\n",
      "dtypes: boolean(1), float32(1), int16(2), int32(1), int64(2), int8(3)\n",
      "memory usage: 31.5 MB\n"
     ]
    }
   ],
   "source": [
    "train_df.info()"
   ]
  },
  {
   "cell_type": "code",
   "execution_count": 7,
   "metadata": {
    "_cell_guid": "b1076dfc-b9ad-4769-8c92-a6c4dae69d19",
    "_uuid": "8f2839f25d086af736a60e9eeb907d3b93b6e0e5",
    "execution": {
     "iopub.execute_input": "2020-11-16T20:43:16.078217Z",
     "iopub.status.busy": "2020-11-16T20:43:16.077441Z",
     "iopub.status.idle": "2020-11-16T20:43:16.087064Z",
     "shell.execute_reply": "2020-11-16T20:43:16.086226Z"
    },
    "papermill": {
     "duration": 0.074248,
     "end_time": "2020-11-16T20:43:16.087195",
     "exception": false,
     "start_time": "2020-11-16T20:43:16.012947",
     "status": "completed"
    },
    "tags": []
   },
   "outputs": [
    {
     "data": {
      "text/html": [
       "<div>\n",
       "<style scoped>\n",
       "    .dataframe tbody tr th:only-of-type {\n",
       "        vertical-align: middle;\n",
       "    }\n",
       "\n",
       "    .dataframe tbody tr th {\n",
       "        vertical-align: top;\n",
       "    }\n",
       "\n",
       "    .dataframe thead th {\n",
       "        text-align: right;\n",
       "    }\n",
       "</style>\n",
       "<table border=\"1\" class=\"dataframe\">\n",
       "  <thead>\n",
       "    <tr style=\"text-align: right;\">\n",
       "      <th></th>\n",
       "      <th>row_id</th>\n",
       "      <th>timestamp</th>\n",
       "      <th>user_id</th>\n",
       "      <th>content_id</th>\n",
       "      <th>content_type_id</th>\n",
       "      <th>task_container_id</th>\n",
       "      <th>user_answer</th>\n",
       "      <th>answered_correctly</th>\n",
       "      <th>prior_question_elapsed_time</th>\n",
       "      <th>prior_question_had_explanation</th>\n",
       "    </tr>\n",
       "  </thead>\n",
       "  <tbody>\n",
       "    <tr>\n",
       "      <th>0</th>\n",
       "      <td>0</td>\n",
       "      <td>0</td>\n",
       "      <td>115</td>\n",
       "      <td>5692</td>\n",
       "      <td>0</td>\n",
       "      <td>1</td>\n",
       "      <td>3</td>\n",
       "      <td>1</td>\n",
       "      <td>NaN</td>\n",
       "      <td>&lt;NA&gt;</td>\n",
       "    </tr>\n",
       "    <tr>\n",
       "      <th>1</th>\n",
       "      <td>1</td>\n",
       "      <td>56943</td>\n",
       "      <td>115</td>\n",
       "      <td>5716</td>\n",
       "      <td>0</td>\n",
       "      <td>2</td>\n",
       "      <td>2</td>\n",
       "      <td>1</td>\n",
       "      <td>37000.0</td>\n",
       "      <td>False</td>\n",
       "    </tr>\n",
       "    <tr>\n",
       "      <th>2</th>\n",
       "      <td>2</td>\n",
       "      <td>118363</td>\n",
       "      <td>115</td>\n",
       "      <td>128</td>\n",
       "      <td>0</td>\n",
       "      <td>0</td>\n",
       "      <td>0</td>\n",
       "      <td>1</td>\n",
       "      <td>55000.0</td>\n",
       "      <td>False</td>\n",
       "    </tr>\n",
       "    <tr>\n",
       "      <th>3</th>\n",
       "      <td>3</td>\n",
       "      <td>131167</td>\n",
       "      <td>115</td>\n",
       "      <td>7860</td>\n",
       "      <td>0</td>\n",
       "      <td>3</td>\n",
       "      <td>0</td>\n",
       "      <td>1</td>\n",
       "      <td>19000.0</td>\n",
       "      <td>False</td>\n",
       "    </tr>\n",
       "  </tbody>\n",
       "</table>\n",
       "</div>"
      ],
      "text/plain": [
       "   row_id  timestamp  user_id  content_id  content_type_id  task_container_id  \\\n",
       "0       0          0      115        5692                0                  1   \n",
       "1       1      56943      115        5716                0                  2   \n",
       "2       2     118363      115         128                0                  0   \n",
       "3       3     131167      115        7860                0                  3   \n",
       "\n",
       "   user_answer  answered_correctly  prior_question_elapsed_time  \\\n",
       "0            3                   1                          NaN   \n",
       "1            2                   1                      37000.0   \n",
       "2            0                   1                      55000.0   \n",
       "3            0                   1                      19000.0   \n",
       "\n",
       "   prior_question_had_explanation  \n",
       "0                            <NA>  \n",
       "1                           False  \n",
       "2                           False  \n",
       "3                           False  "
      ]
     },
     "execution_count": 7,
     "metadata": {},
     "output_type": "execute_result"
    }
   ],
   "source": [
    "train_df.head(4)"
   ]
  },
  {
   "cell_type": "code",
   "execution_count": 8,
   "metadata": {
    "execution": {
     "iopub.execute_input": "2020-11-16T20:43:16.227006Z",
     "iopub.status.busy": "2020-11-16T20:43:16.226347Z",
     "iopub.status.idle": "2020-11-16T20:43:16.432923Z",
     "shell.execute_reply": "2020-11-16T20:43:16.432212Z"
    },
    "papermill": {
     "duration": 0.287864,
     "end_time": "2020-11-16T20:43:16.433056",
     "exception": false,
     "start_time": "2020-11-16T20:43:16.145192",
     "status": "completed"
    },
    "tags": []
   },
   "outputs": [
    {
     "data": {
      "text/html": [
       "<div>\n",
       "<style scoped>\n",
       "    .dataframe tbody tr th:only-of-type {\n",
       "        vertical-align: middle;\n",
       "    }\n",
       "\n",
       "    .dataframe tbody tr th {\n",
       "        vertical-align: top;\n",
       "    }\n",
       "\n",
       "    .dataframe thead th {\n",
       "        text-align: right;\n",
       "    }\n",
       "</style>\n",
       "<table border=\"1\" class=\"dataframe\">\n",
       "  <thead>\n",
       "    <tr style=\"text-align: right;\">\n",
       "      <th></th>\n",
       "      <th>row_id</th>\n",
       "      <th>timestamp</th>\n",
       "      <th>user_id</th>\n",
       "      <th>content_id</th>\n",
       "      <th>content_type_id</th>\n",
       "      <th>task_container_id</th>\n",
       "      <th>user_answer</th>\n",
       "      <th>answered_correctly</th>\n",
       "      <th>prior_question_elapsed_time</th>\n",
       "    </tr>\n",
       "  </thead>\n",
       "  <tbody>\n",
       "    <tr>\n",
       "      <th>count</th>\n",
       "      <td>1000000.000000</td>\n",
       "      <td>1.000000e+06</td>\n",
       "      <td>1.000000e+06</td>\n",
       "      <td>1000000.000000</td>\n",
       "      <td>1000000.000000</td>\n",
       "      <td>1000000.000000</td>\n",
       "      <td>1000000.000000</td>\n",
       "      <td>1000000.000000</td>\n",
       "      <td>976277.000000</td>\n",
       "    </tr>\n",
       "    <tr>\n",
       "      <th>mean</th>\n",
       "      <td>499999.500000</td>\n",
       "      <td>7.344311e+09</td>\n",
       "      <td>1.017255e+07</td>\n",
       "      <td>5232.691523</td>\n",
       "      <td>0.019907</td>\n",
       "      <td>806.105689</td>\n",
       "      <td>1.374784</td>\n",
       "      <td>0.617504</td>\n",
       "      <td>25319.472656</td>\n",
       "    </tr>\n",
       "    <tr>\n",
       "      <th>std</th>\n",
       "      <td>288675.278933</td>\n",
       "      <td>1.058693e+10</td>\n",
       "      <td>6.029234e+06</td>\n",
       "      <td>3882.323419</td>\n",
       "      <td>0.139681</td>\n",
       "      <td>1025.887530</td>\n",
       "      <td>1.194168</td>\n",
       "      <td>0.525364</td>\n",
       "      <td>19707.429688</td>\n",
       "    </tr>\n",
       "    <tr>\n",
       "      <th>min</th>\n",
       "      <td>0.000000</td>\n",
       "      <td>0.000000e+00</td>\n",
       "      <td>1.150000e+02</td>\n",
       "      <td>0.000000</td>\n",
       "      <td>0.000000</td>\n",
       "      <td>0.000000</td>\n",
       "      <td>-1.000000</td>\n",
       "      <td>-1.000000</td>\n",
       "      <td>0.000000</td>\n",
       "    </tr>\n",
       "    <tr>\n",
       "      <th>25%</th>\n",
       "      <td>249999.750000</td>\n",
       "      <td>5.211669e+08</td>\n",
       "      <td>4.702585e+06</td>\n",
       "      <td>2057.000000</td>\n",
       "      <td>0.000000</td>\n",
       "      <td>109.000000</td>\n",
       "      <td>0.000000</td>\n",
       "      <td>0.000000</td>\n",
       "      <td>16000.000000</td>\n",
       "    </tr>\n",
       "    <tr>\n",
       "      <th>50%</th>\n",
       "      <td>499999.500000</td>\n",
       "      <td>2.824811e+09</td>\n",
       "      <td>9.678259e+06</td>\n",
       "      <td>5052.000000</td>\n",
       "      <td>0.000000</td>\n",
       "      <td>391.000000</td>\n",
       "      <td>1.000000</td>\n",
       "      <td>1.000000</td>\n",
       "      <td>21000.000000</td>\n",
       "    </tr>\n",
       "    <tr>\n",
       "      <th>75%</th>\n",
       "      <td>749999.250000</td>\n",
       "      <td>1.010186e+10</td>\n",
       "      <td>1.556872e+07</td>\n",
       "      <td>7421.000000</td>\n",
       "      <td>0.000000</td>\n",
       "      <td>1112.000000</td>\n",
       "      <td>3.000000</td>\n",
       "      <td>1.000000</td>\n",
       "      <td>29666.000000</td>\n",
       "    </tr>\n",
       "    <tr>\n",
       "      <th>max</th>\n",
       "      <td>999999.000000</td>\n",
       "      <td>7.809200e+10</td>\n",
       "      <td>2.094902e+07</td>\n",
       "      <td>32736.000000</td>\n",
       "      <td>1.000000</td>\n",
       "      <td>7739.000000</td>\n",
       "      <td>3.000000</td>\n",
       "      <td>1.000000</td>\n",
       "      <td>300000.000000</td>\n",
       "    </tr>\n",
       "  </tbody>\n",
       "</table>\n",
       "</div>"
      ],
      "text/plain": [
       "               row_id     timestamp       user_id      content_id  \\\n",
       "count  1000000.000000  1.000000e+06  1.000000e+06  1000000.000000   \n",
       "mean    499999.500000  7.344311e+09  1.017255e+07     5232.691523   \n",
       "std     288675.278933  1.058693e+10  6.029234e+06     3882.323419   \n",
       "min          0.000000  0.000000e+00  1.150000e+02        0.000000   \n",
       "25%     249999.750000  5.211669e+08  4.702585e+06     2057.000000   \n",
       "50%     499999.500000  2.824811e+09  9.678259e+06     5052.000000   \n",
       "75%     749999.250000  1.010186e+10  1.556872e+07     7421.000000   \n",
       "max     999999.000000  7.809200e+10  2.094902e+07    32736.000000   \n",
       "\n",
       "       content_type_id  task_container_id     user_answer  answered_correctly  \\\n",
       "count   1000000.000000     1000000.000000  1000000.000000      1000000.000000   \n",
       "mean          0.019907         806.105689        1.374784            0.617504   \n",
       "std           0.139681        1025.887530        1.194168            0.525364   \n",
       "min           0.000000           0.000000       -1.000000           -1.000000   \n",
       "25%           0.000000         109.000000        0.000000            0.000000   \n",
       "50%           0.000000         391.000000        1.000000            1.000000   \n",
       "75%           0.000000        1112.000000        3.000000            1.000000   \n",
       "max           1.000000        7739.000000        3.000000            1.000000   \n",
       "\n",
       "       prior_question_elapsed_time  \n",
       "count                976277.000000  \n",
       "mean                  25319.472656  \n",
       "std                   19707.429688  \n",
       "min                       0.000000  \n",
       "25%                   16000.000000  \n",
       "50%                   21000.000000  \n",
       "75%                   29666.000000  \n",
       "max                  300000.000000  "
      ]
     },
     "execution_count": 8,
     "metadata": {},
     "output_type": "execute_result"
    }
   ],
   "source": [
    "train_df.describe()"
   ]
  },
  {
   "cell_type": "code",
   "execution_count": 9,
   "metadata": {
    "execution": {
     "iopub.execute_input": "2020-11-16T20:43:16.551519Z",
     "iopub.status.busy": "2020-11-16T20:43:16.550845Z",
     "iopub.status.idle": "2020-11-16T20:43:16.754276Z",
     "shell.execute_reply": "2020-11-16T20:43:16.753408Z"
    },
    "papermill": {
     "duration": 0.266008,
     "end_time": "2020-11-16T20:43:16.754449",
     "exception": false,
     "start_time": "2020-11-16T20:43:16.488441",
     "status": "completed"
    },
    "tags": []
   },
   "outputs": [
    {
     "name": "stdout",
     "output_type": "stream",
     "text": [
      "The dataset contains 1000000 rows and 1000000 columns. \n",
      "\n",
      "The column row_id has 1000000 unique values.\n",
      "The column timestamp has 769357 unique values.\n",
      "The column user_id has 3824 unique values.\n",
      "The column content_id has 13320 unique values.\n",
      "The column content_type_id has 2 unique values.\n",
      "The column task_container_id has 7740 unique values.\n",
      "The column user_answer has 5 unique values.\n",
      "The column answered_correctly has 3 unique values.\n",
      "The column prior_question_elapsed_time has 1659 unique values.\n",
      "The column prior_question_had_explanation has 2 unique values.\n"
     ]
    }
   ],
   "source": [
    "print(\"The dataset contains {} rows and {} columns. \\n\".format(train_df.shape[0], train_df.shape[0]))\n",
    "for col in train_df:\n",
    "    print(\"The column {} has {} unique values.\".format(col, train_df[col].nunique()))"
   ]
  },
  {
   "cell_type": "code",
   "execution_count": 10,
   "metadata": {
    "execution": {
     "iopub.execute_input": "2020-11-16T20:43:16.900384Z",
     "iopub.status.busy": "2020-11-16T20:43:16.899338Z",
     "iopub.status.idle": "2020-11-16T20:43:17.350948Z",
     "shell.execute_reply": "2020-11-16T20:43:17.351418Z"
    },
    "papermill": {
     "duration": 0.537858,
     "end_time": "2020-11-16T20:43:17.351554",
     "exception": false,
     "start_time": "2020-11-16T20:43:16.813696",
     "status": "completed"
    },
    "tags": []
   },
   "outputs": [
    {
     "name": "stdout",
     "output_type": "stream",
     "text": [
      "row_id                                0\n",
      "timestamp                             0\n",
      "user_id                               0\n",
      "content_id                            0\n",
      "content_type_id                       0\n",
      "task_container_id                     0\n",
      "user_answer                           0\n",
      "answered_correctly                    0\n",
      "prior_question_elapsed_time       23723\n",
      "prior_question_had_explanation     3816\n",
      "dtype: int64\n",
      "****************************************\n",
      "row_id                            0.000000\n",
      "timestamp                         0.000000\n",
      "user_id                           0.000000\n",
      "content_id                        0.000000\n",
      "content_type_id                   0.000000\n",
      "task_container_id                 0.000000\n",
      "user_answer                       0.000000\n",
      "answered_correctly                0.000000\n",
      "prior_question_elapsed_time       0.023723\n",
      "prior_question_had_explanation    0.003816\n",
      "dtype: float64\n"
     ]
    },
    {
     "data": {
      "image/png": "[encoded data removed]",
      "text/plain": [
       "<Figure size 600x300 with 1 Axes>"
      ]
     },
     "metadata": {
      "needs_background": "light"
     },
     "output_type": "display_data"
    }
   ],
   "source": [
    "import numpy as np\n",
    "import matplotlib.pyplot as plt\n",
    "import seaborn as sns\n",
    "\n",
    "print(train_df.isnull().sum())\n",
    "print(\"****************************************\")\n",
    "print(train_df.isnull().sum() / len(train_df))\n",
    "\n",
    "print_filling_rate (train_df, True, \"blue\", \"blue\")"
   ]
  },
  {
   "cell_type": "markdown",
   "metadata": {
    "papermill": {
     "duration": 0.056897,
     "end_time": "2020-11-16T20:43:17.465675",
     "exception": false,
     "start_time": "2020-11-16T20:43:17.408778",
     "status": "completed"
    },
    "tags": []
   },
   "source": [
    "## Categorical variables :\n",
    "* content_type_id\n",
    "* user_answer\n",
    "* answered_correctly **(TARGET)**"
   ]
  },
  {
   "cell_type": "markdown",
   "metadata": {
    "papermill": {
     "duration": 0.057299,
     "end_time": "2020-11-16T20:43:17.580412",
     "exception": false,
     "start_time": "2020-11-16T20:43:17.523113",
     "status": "completed"
    },
    "tags": []
   },
   "source": [
    "### content_type_id"
   ]
  },
  {
   "cell_type": "code",
   "execution_count": 11,
   "metadata": {
    "_cell_guid": "79c7e3d0-c299-4dcb-8224-4455121ee9b0",
    "_uuid": "d629ff2d2480ee46fbb7e2d37f6b5fab8052498a",
    "execution": {
     "iopub.execute_input": "2020-11-16T20:43:17.699800Z",
     "iopub.status.busy": "2020-11-16T20:43:17.699109Z",
     "iopub.status.idle": "2020-11-16T20:43:17.715187Z",
     "shell.execute_reply": "2020-11-16T20:43:17.714642Z"
    },
    "papermill": {
     "duration": 0.077122,
     "end_time": "2020-11-16T20:43:17.715299",
     "exception": false,
     "start_time": "2020-11-16T20:43:17.638177",
     "status": "completed"
    },
    "tags": []
   },
   "outputs": [
    {
     "data": {
      "text/plain": [
       "0    980093\n",
       "1     19907\n",
       "Name: content_type_id, dtype: int64"
      ]
     },
     "execution_count": 11,
     "metadata": {},
     "output_type": "execute_result"
    }
   ],
   "source": [
    "train_df.content_type_id.value_counts()"
   ]
  },
  {
   "cell_type": "code",
   "execution_count": 12,
   "metadata": {
    "execution": {
     "iopub.execute_input": "2020-11-16T20:43:17.851181Z",
     "iopub.status.busy": "2020-11-16T20:43:17.849893Z",
     "iopub.status.idle": "2020-11-16T20:43:17.962353Z",
     "shell.execute_reply": "2020-11-16T20:43:17.961723Z"
    },
    "papermill": {
     "duration": 0.189551,
     "end_time": "2020-11-16T20:43:17.962470",
     "exception": false,
     "start_time": "2020-11-16T20:43:17.772919",
     "status": "completed"
    },
    "tags": []
   },
   "outputs": [
    {
     "data": {
      "image/png": "[encoded data removed]",
      "text/plain": [
       "<Figure size 360x360 with 1 Axes>"
      ]
     },
     "metadata": {},
     "output_type": "display_data"
    },
    {
     "name": "stdout",
     "output_type": "stream",
     "text": [
      "   content_type_id\n",
      "0           980093\n",
      "1            19907\n"
     ]
    }
   ],
   "source": [
    "fig, ax = plt.subplots(figsize=(5, 5))\n",
    "plt.title('Percentage of content type : questions or lectures', fontsize=15, weight=\"bold\")\n",
    "labels = ['Questions','Lectures']\n",
    "colors = ['lightgray','peachpuff']\n",
    "explode=(0.1,0.2 )\n",
    "train_df[\"content_type_id\"].value_counts(normalize=True).plot(kind='pie', labels=labels, colors=colors, explode=explode, startangle=50, autopct='%1.1f%%', fontsize = 13)\n",
    "plt.axis('equal') \n",
    "plt.ylabel('')\n",
    "plt.show()\n",
    "\n",
    "print(train_df['content_type_id'].value_counts().sort_index().to_frame())"
   ]
  },
  {
   "cell_type": "markdown",
   "metadata": {
    "papermill": {
     "duration": 0.058536,
     "end_time": "2020-11-16T20:43:18.079571",
     "exception": false,
     "start_time": "2020-11-16T20:43:18.021035",
     "status": "completed"
    },
    "tags": []
   },
   "source": [
    "### user_answer"
   ]
  },
  {
   "cell_type": "code",
   "execution_count": 13,
   "metadata": {
    "execution": {
     "iopub.execute_input": "2020-11-16T20:43:18.204377Z",
     "iopub.status.busy": "2020-11-16T20:43:18.203695Z",
     "iopub.status.idle": "2020-11-16T20:43:18.219555Z",
     "shell.execute_reply": "2020-11-16T20:43:18.218912Z"
    },
    "papermill": {
     "duration": 0.079066,
     "end_time": "2020-11-16T20:43:18.219687",
     "exception": false,
     "start_time": "2020-11-16T20:43:18.140621",
     "status": "completed"
    },
    "tags": []
   },
   "outputs": [
    {
     "data": {
      "text/plain": [
       " 0    278205\n",
       " 1    267017\n",
       " 3    257932\n",
       " 2    176939\n",
       "-1     19907\n",
       "Name: user_answer, dtype: int64"
      ]
     },
     "execution_count": 13,
     "metadata": {},
     "output_type": "execute_result"
    }
   ],
   "source": [
    "train_df.user_answer.value_counts()"
   ]
  },
  {
   "cell_type": "code",
   "execution_count": 14,
   "metadata": {
    "execution": {
     "iopub.execute_input": "2020-11-16T20:43:18.345492Z",
     "iopub.status.busy": "2020-11-16T20:43:18.344280Z",
     "iopub.status.idle": "2020-11-16T20:43:18.500959Z",
     "shell.execute_reply": "2020-11-16T20:43:18.500398Z"
    },
    "papermill": {
     "duration": 0.222524,
     "end_time": "2020-11-16T20:43:18.501072",
     "exception": false,
     "start_time": "2020-11-16T20:43:18.278548",
     "status": "completed"
    },
    "tags": []
   },
   "outputs": [
    {
     "data": {
      "image/png": "[encoded data removed]",
      "text/plain": [
       "<Figure size 432x432 with 1 Axes>"
      ]
     },
     "metadata": {},
     "output_type": "display_data"
    }
   ],
   "source": [
    "print_pie(train_df[train_df['user_answer']>=0], 'user_answer', \"Percentage of user answers (only questions) :\", \"User answers: \")"
   ]
  },
  {
   "cell_type": "markdown",
   "metadata": {
    "papermill": {
     "duration": 0.060515,
     "end_time": "2020-11-16T20:43:18.621784",
     "exception": false,
     "start_time": "2020-11-16T20:43:18.561269",
     "status": "completed"
    },
    "tags": []
   },
   "source": [
    "## **answered_correctly = TARGET**"
   ]
  },
  {
   "cell_type": "code",
   "execution_count": 15,
   "metadata": {
    "execution": {
     "iopub.execute_input": "2020-11-16T20:43:18.747263Z",
     "iopub.status.busy": "2020-11-16T20:43:18.746532Z",
     "iopub.status.idle": "2020-11-16T20:43:18.762952Z",
     "shell.execute_reply": "2020-11-16T20:43:18.762262Z"
    },
    "papermill": {
     "duration": 0.081032,
     "end_time": "2020-11-16T20:43:18.763072",
     "exception": false,
     "start_time": "2020-11-16T20:43:18.682040",
     "status": "completed"
    },
    "tags": []
   },
   "outputs": [
    {
     "data": {
      "text/plain": [
       " 1    637411\n",
       " 0    342682\n",
       "-1     19907\n",
       "Name: answered_correctly, dtype: int64"
      ]
     },
     "execution_count": 15,
     "metadata": {},
     "output_type": "execute_result"
    }
   ],
   "source": [
    "train_df.answered_correctly.value_counts()"
   ]
  },
  {
   "cell_type": "code",
   "execution_count": 16,
   "metadata": {
    "execution": {
     "iopub.execute_input": "2020-11-16T20:43:18.980511Z",
     "iopub.status.busy": "2020-11-16T20:43:18.969043Z",
     "iopub.status.idle": "2020-11-16T20:43:19.136187Z",
     "shell.execute_reply": "2020-11-16T20:43:19.136919Z"
    },
    "papermill": {
     "duration": 0.313421,
     "end_time": "2020-11-16T20:43:19.137118",
     "exception": false,
     "start_time": "2020-11-16T20:43:18.823697",
     "status": "completed"
    },
    "tags": []
   },
   "outputs": [
    {
     "data": {
      "image/png": "[encoded data removed]",
      "text/plain": [
       "<Figure size 360x360 with 1 Axes>"
      ]
     },
     "metadata": {},
     "output_type": "display_data"
    },
    {
     "name": "stdout",
     "output_type": "stream",
     "text": [
      "   answered_correctly\n",
      "0              342682\n",
      "1              637411\n"
     ]
    }
   ],
   "source": [
    "# print_pie(train_df[train_df['answered_correctly']>=0], 'answered_correctly', \"User answered correctly ? :\", \"Answered correctly : \")\n",
    "fig, ax = plt.subplots(figsize=(5, 5))\n",
    "plt.title('Percentage of correct and uncorrect answers (only questions) :', fontsize=15, weight=\"bold\")\n",
    "labels = ['Correct', 'Uncorrect']\n",
    "colors = ['lightgray','peachpuff']\n",
    "explode=(0.1,0)\n",
    "train_df[train_df['answered_correctly']>=0][\"answered_correctly\"].value_counts(normalize=True).plot(kind='pie', labels=labels, colors=colors, explode=explode, startangle=50, autopct='%1.1f%%', fontsize = 13)\n",
    "plt.axis('equal') \n",
    "plt.ylabel('')\n",
    "plt.show()\n",
    "\n",
    "print(train_df[train_df['answered_correctly']>=0]['answered_correctly'].value_counts().sort_index().to_frame())"
   ]
  },
  {
   "cell_type": "markdown",
   "metadata": {
    "papermill": {
     "duration": 0.063941,
     "end_time": "2020-11-16T20:43:19.266295",
     "exception": false,
     "start_time": "2020-11-16T20:43:19.202354",
     "status": "completed"
    },
    "tags": []
   },
   "source": [
    "### 'prior_question_had_explanation' (boolean)"
   ]
  },
  {
   "cell_type": "code",
   "execution_count": 17,
   "metadata": {
    "execution": {
     "iopub.execute_input": "2020-11-16T20:43:19.399345Z",
     "iopub.status.busy": "2020-11-16T20:43:19.398719Z",
     "iopub.status.idle": "2020-11-16T20:43:19.428726Z",
     "shell.execute_reply": "2020-11-16T20:43:19.428067Z"
    },
    "papermill": {
     "duration": 0.098504,
     "end_time": "2020-11-16T20:43:19.428844",
     "exception": false,
     "start_time": "2020-11-16T20:43:19.330340",
     "status": "completed"
    },
    "tags": []
   },
   "outputs": [],
   "source": [
    "train_df['prior_question_had_explanation'].fillna(False, inplace=True)\n",
    "train_df.loc[train_df[\"prior_question_had_explanation\"]== True, \"prior_had_explanation_le\"] = 1\n",
    "train_df.loc[train_df[\"prior_question_had_explanation\"]== False, \"prior_had_explanation_le\"] = 0"
   ]
  },
  {
   "cell_type": "code",
   "execution_count": 18,
   "metadata": {
    "execution": {
     "iopub.execute_input": "2020-11-16T20:43:19.567259Z",
     "iopub.status.busy": "2020-11-16T20:43:19.562729Z",
     "iopub.status.idle": "2020-11-16T20:43:19.647920Z",
     "shell.execute_reply": "2020-11-16T20:43:19.648411Z"
    },
    "papermill": {
     "duration": 0.157189,
     "end_time": "2020-11-16T20:43:19.648549",
     "exception": false,
     "start_time": "2020-11-16T20:43:19.491360",
     "status": "completed"
    },
    "tags": []
   },
   "outputs": [
    {
     "data": {
      "image/png": "[encoded data removed]",
      "text/plain": [
       "<Figure size 360x360 with 1 Axes>"
      ]
     },
     "metadata": {},
     "output_type": "display_data"
    },
    {
     "name": "stdout",
     "output_type": "stream",
     "text": [
      "     prior_had_explanation_le\n",
      "0.0                    110113\n",
      "1.0                    889887\n"
     ]
    }
   ],
   "source": [
    "# print_pie(train_df[train_df['answered_correctly']>=0], 'answered_correctly', \"User answered correctly ? :\", \"Answered correctly : \")\n",
    "fig, ax = plt.subplots(figsize=(5, 5))\n",
    "plt.title('Prior question had explanation ? (percentage):', fontsize=15, weight=\"bold\")\n",
    "labels = ['Yes', 'No']\n",
    "colors = ['lightgray','peachpuff']\n",
    "explode=(0.1,0)\n",
    "train_df[\"prior_had_explanation_le\"].value_counts(normalize=True).plot(kind='pie', labels=labels, colors=colors, explode=explode, startangle=50, autopct='%1.1f%%', fontsize = 13)\n",
    "plt.axis('equal') \n",
    "plt.ylabel('')\n",
    "plt.show()\n",
    "\n",
    "print(train_df['prior_had_explanation_le'].value_counts().sort_index().to_frame())"
   ]
  },
  {
   "cell_type": "markdown",
   "metadata": {
    "papermill": {
     "duration": 0.062677,
     "end_time": "2020-11-16T20:43:19.774234",
     "exception": false,
     "start_time": "2020-11-16T20:43:19.711557",
     "status": "completed"
    },
    "tags": []
   },
   "source": [
    "## Continue variables :\n",
    "* timestamp (Time variables milliseconds)\n",
    "* prior_question_elapsed_time (Time variables milliseconds)"
   ]
  },
  {
   "cell_type": "markdown",
   "metadata": {
    "papermill": {
     "duration": 0.062693,
     "end_time": "2020-11-16T20:43:19.899686",
     "exception": false,
     "start_time": "2020-11-16T20:43:19.836993",
     "status": "completed"
    },
    "tags": []
   },
   "source": [
    "### timestamp"
   ]
  },
  {
   "cell_type": "code",
   "execution_count": 19,
   "metadata": {
    "execution": {
     "iopub.execute_input": "2020-11-16T20:43:20.033824Z",
     "iopub.status.busy": "2020-11-16T20:43:20.033151Z",
     "iopub.status.idle": "2020-11-16T20:43:20.458001Z",
     "shell.execute_reply": "2020-11-16T20:43:20.457440Z"
    },
    "papermill": {
     "duration": 0.495413,
     "end_time": "2020-11-16T20:43:20.458114",
     "exception": false,
     "start_time": "2020-11-16T20:43:19.962701",
     "status": "completed"
    },
    "tags": []
   },
   "outputs": [
    {
     "data": {
      "image/png": "[encoded data removed]",
      "text/plain": [
       "<Figure size 864x432 with 1 Axes>"
      ]
     },
     "metadata": {
      "needs_background": "light"
     },
     "output_type": "display_data"
    }
   ],
   "source": [
    "nbMillisecByYear = 1000 * 60 * 60 * 24 * 365\n",
    "nbMillisecByMonth = nbMillisecByYear / 12\n",
    "train_df['timestamp_by_month'] = train_df['timestamp']/nbMillisecByMonth\n",
    "fig = plt.figure(figsize=(12,6))\n",
    "train_df['timestamp_by_month'].plot.hist(bins=100)\n",
    "plt.title(\"Histogram of timestamp converted in month\")\n",
    "plt.xticks(rotation=0)\n",
    "plt.xlabel(\"Months between this user interaction and the first event completion from that user\")\n",
    "plt.show()"
   ]
  },
  {
   "cell_type": "code",
   "execution_count": 20,
   "metadata": {
    "execution": {
     "iopub.execute_input": "2020-11-16T20:43:20.592465Z",
     "iopub.status.busy": "2020-11-16T20:43:20.591486Z",
     "iopub.status.idle": "2020-11-16T20:43:20.651157Z",
     "shell.execute_reply": "2020-11-16T20:43:20.650468Z"
    },
    "papermill": {
     "duration": 0.129039,
     "end_time": "2020-11-16T20:43:20.651279",
     "exception": false,
     "start_time": "2020-11-16T20:43:20.522240",
     "status": "completed"
    },
    "tags": []
   },
   "outputs": [],
   "source": [
    "train_df = train_df[train_df['timestamp_by_month'] < 25]"
   ]
  },
  {
   "cell_type": "code",
   "execution_count": 21,
   "metadata": {
    "execution": {
     "iopub.execute_input": "2020-11-16T20:43:20.829132Z",
     "iopub.status.busy": "2020-11-16T20:43:20.828430Z",
     "iopub.status.idle": "2020-11-16T20:43:21.388986Z",
     "shell.execute_reply": "2020-11-16T20:43:21.388449Z"
    },
    "papermill": {
     "duration": 0.62978,
     "end_time": "2020-11-16T20:43:21.389093",
     "exception": false,
     "start_time": "2020-11-16T20:43:20.759313",
     "status": "completed"
    },
    "tags": []
   },
   "outputs": [
    {
     "data": {
      "image/png": "[encoded data removed]",
      "text/plain": [
       "<Figure size 1440x1440 with 16 Axes>"
      ]
     },
     "metadata": {
      "needs_background": "light"
     },
     "output_type": "display_data"
    }
   ],
   "source": [
    "train_df['timestamp'].plot(kind='box', subplots=True, title='Boxplot timestamp', figsize=(20,20), layout=(4,4))\n",
    "plt.show()"
   ]
  },
  {
   "cell_type": "code",
   "execution_count": null,
   "metadata": {
    "papermill": {
     "duration": 0.064077,
     "end_time": "2020-11-16T20:43:21.517743",
     "exception": false,
     "start_time": "2020-11-16T20:43:21.453666",
     "status": "completed"
    },
    "tags": []
   },
   "outputs": [],
   "source": []
  },
  {
   "cell_type": "markdown",
   "metadata": {
    "papermill": {
     "duration": 0.06567,
     "end_time": "2020-11-16T20:43:21.647792",
     "exception": false,
     "start_time": "2020-11-16T20:43:21.582122",
     "status": "completed"
    },
    "tags": []
   },
   "source": [
    "### prior_question_elapsed_time"
   ]
  },
  {
   "cell_type": "code",
   "execution_count": 22,
   "metadata": {
    "execution": {
     "iopub.execute_input": "2020-11-16T20:43:21.788425Z",
     "iopub.status.busy": "2020-11-16T20:43:21.782825Z",
     "iopub.status.idle": "2020-11-16T20:43:22.038178Z",
     "shell.execute_reply": "2020-11-16T20:43:22.037656Z"
    },
    "papermill": {
     "duration": 0.325639,
     "end_time": "2020-11-16T20:43:22.038299",
     "exception": false,
     "start_time": "2020-11-16T20:43:21.712660",
     "status": "completed"
    },
    "tags": []
   },
   "outputs": [
    {
     "data": {
      "image/png": "[encoded data removed]",
      "text/plain": [
       "<Figure size 504x288 with 1 Axes>"
      ]
     },
     "metadata": {
      "needs_background": "light"
     },
     "output_type": "display_data"
    }
   ],
   "source": [
    "train_df['prior_question_elapsed_time'].hist(figsize=(7,4), density=True, bins= 50)\n",
    "plt.show()"
   ]
  },
  {
   "cell_type": "code",
   "execution_count": 23,
   "metadata": {
    "execution": {
     "iopub.execute_input": "2020-11-16T20:43:22.178351Z",
     "iopub.status.busy": "2020-11-16T20:43:22.177260Z",
     "iopub.status.idle": "2020-11-16T20:43:22.185081Z",
     "shell.execute_reply": "2020-11-16T20:43:22.184474Z"
    },
    "papermill": {
     "duration": 0.080729,
     "end_time": "2020-11-16T20:43:22.185197",
     "exception": false,
     "start_time": "2020-11-16T20:43:22.104468",
     "status": "completed"
    },
    "tags": []
   },
   "outputs": [],
   "source": [
    "train_df['prior_question_elapsed_time_in_hours'] = train_df['prior_question_elapsed_time']/1000/60/60"
   ]
  },
  {
   "cell_type": "code",
   "execution_count": 24,
   "metadata": {
    "execution": {
     "iopub.execute_input": "2020-11-16T20:43:22.323326Z",
     "iopub.status.busy": "2020-11-16T20:43:22.322706Z",
     "iopub.status.idle": "2020-11-16T20:43:23.009446Z",
     "shell.execute_reply": "2020-11-16T20:43:23.008928Z"
    },
    "papermill": {
     "duration": 0.758111,
     "end_time": "2020-11-16T20:43:23.009554",
     "exception": false,
     "start_time": "2020-11-16T20:43:22.251443",
     "status": "completed"
    },
    "tags": []
   },
   "outputs": [
    {
     "data": {
      "image/png": "[encoded data removed]",
      "text/plain": [
       "<Figure size 1440x1440 with 16 Axes>"
      ]
     },
     "metadata": {
      "needs_background": "light"
     },
     "output_type": "display_data"
    }
   ],
   "source": [
    "train_df['prior_question_elapsed_time'].plot(kind='box', subplots=True, title='Boxplot prior_question_elapsed_time', figsize=(20,20), layout=(4,4))\n",
    "plt.show()"
   ]
  },
  {
   "cell_type": "code",
   "execution_count": 25,
   "metadata": {
    "execution": {
     "iopub.execute_input": "2020-11-16T20:43:23.155635Z",
     "iopub.status.busy": "2020-11-16T20:43:23.154437Z",
     "iopub.status.idle": "2020-11-16T20:43:23.210085Z",
     "shell.execute_reply": "2020-11-16T20:43:23.209493Z"
    },
    "papermill": {
     "duration": 0.133888,
     "end_time": "2020-11-16T20:43:23.210197",
     "exception": false,
     "start_time": "2020-11-16T20:43:23.076309",
     "status": "completed"
    },
    "tags": []
   },
   "outputs": [],
   "source": [
    "prior_question_elapsed_time_mean = train_df[~train_df['prior_question_elapsed_time'].isna()]['prior_question_elapsed_time'].mean()\n",
    "train_df['prior_question_elapsed_time'].fillna(prior_question_elapsed_time_mean, inplace=True)"
   ]
  },
  {
   "cell_type": "code",
   "execution_count": 26,
   "metadata": {
    "execution": {
     "iopub.execute_input": "2020-11-16T20:43:23.354461Z",
     "iopub.status.busy": "2020-11-16T20:43:23.353537Z",
     "iopub.status.idle": "2020-11-16T20:43:23.358181Z",
     "shell.execute_reply": "2020-11-16T20:43:23.357683Z"
    },
    "papermill": {
     "duration": 0.079478,
     "end_time": "2020-11-16T20:43:23.358299",
     "exception": false,
     "start_time": "2020-11-16T20:43:23.278821",
     "status": "completed"
    },
    "tags": []
   },
   "outputs": [
    {
     "data": {
      "text/plain": [
       "Index(['row_id', 'timestamp', 'user_id', 'content_id', 'content_type_id',\n",
       "       'task_container_id', 'user_answer', 'answered_correctly',\n",
       "       'prior_question_elapsed_time', 'prior_question_had_explanation',\n",
       "       'prior_had_explanation_le', 'timestamp_by_month',\n",
       "       'prior_question_elapsed_time_in_hours'],\n",
       "      dtype='object')"
      ]
     },
     "execution_count": 26,
     "metadata": {},
     "output_type": "execute_result"
    }
   ],
   "source": [
    "train_df.columns"
   ]
  },
  {
   "cell_type": "markdown",
   "metadata": {
    "papermill": {
     "duration": 0.066807,
     "end_time": "2020-11-16T20:43:23.492524",
     "exception": false,
     "start_time": "2020-11-16T20:43:23.425717",
     "status": "completed"
    },
    "tags": []
   },
   "source": [
    "### Correlation"
   ]
  },
  {
   "cell_type": "code",
   "execution_count": 27,
   "metadata": {
    "execution": {
     "iopub.execute_input": "2020-11-16T20:43:23.633304Z",
     "iopub.status.busy": "2020-11-16T20:43:23.632269Z",
     "iopub.status.idle": "2020-11-16T20:43:23.635313Z",
     "shell.execute_reply": "2020-11-16T20:43:23.634805Z"
    },
    "papermill": {
     "duration": 0.075878,
     "end_time": "2020-11-16T20:43:23.635429",
     "exception": false,
     "start_time": "2020-11-16T20:43:23.559551",
     "status": "completed"
    },
    "tags": []
   },
   "outputs": [],
   "source": [
    "list_columns_corr = ['timestamp', 'user_id', 'content_id', \n",
    "                     'task_container_id', 'user_answer', 'answered_correctly',\n",
    "                     'prior_question_elapsed_time', 'prior_question_had_explanation']"
   ]
  },
  {
   "cell_type": "code",
   "execution_count": 28,
   "metadata": {
    "execution": {
     "iopub.execute_input": "2020-11-16T20:43:23.777717Z",
     "iopub.status.busy": "2020-11-16T20:43:23.776994Z",
     "iopub.status.idle": "2020-11-16T20:43:29.892720Z",
     "shell.execute_reply": "2020-11-16T20:43:29.892030Z"
    },
    "papermill": {
     "duration": 6.189333,
     "end_time": "2020-11-16T20:43:29.892843",
     "exception": false,
     "start_time": "2020-11-16T20:43:23.703510",
     "status": "completed"
    },
    "tags": []
   },
   "outputs": [
    {
     "data": {
      "text/plain": [
       "<matplotlib.axes._subplots.AxesSubplot at 0x7f062ccea0d0>"
      ]
     },
     "execution_count": 28,
     "metadata": {},
     "output_type": "execute_result"
    },
    {
     "data": {
      "image/png": "[encoded data removed]",
      "text/plain": [
       "<Figure size 720x720 with 2 Axes>"
      ]
     },
     "metadata": {
      "needs_background": "light"
     },
     "output_type": "display_data"
    }
   ],
   "source": [
    "corr = train_df[~(train_df['prior_question_elapsed_time'].isna())][list_columns_corr].corr(method = \"kendall\")\n",
    "f, ax = plt.subplots(figsize=(10, 10))\n",
    "plt.rcParams['font.size'] = 11\n",
    "ax.set_title('Kendall correlation')\n",
    "\n",
    "#A1 = ['Calories','Mat. grasse','M.G.saturée','Glucides','Sucre','Fibres','Protéines','Sel','Sodium']\n",
    "\n",
    "sns.heatmap(corr, mask=np.zeros_like(corr, dtype=np.bool), fmt=\".2f\", cmap='coolwarm', square=True, ax=ax ) #, xticklabels=A1, yticklabels=A1 )"
   ]
  },
  {
   "cell_type": "markdown",
   "metadata": {
    "papermill": {
     "duration": 0.069449,
     "end_time": "2020-11-16T20:43:30.049489",
     "exception": false,
     "start_time": "2020-11-16T20:43:29.980040",
     "status": "completed"
    },
    "tags": []
   },
   "source": [
    "## questions.csv"
   ]
  },
  {
   "cell_type": "code",
   "execution_count": 29,
   "metadata": {
    "execution": {
     "iopub.execute_input": "2020-11-16T20:43:30.206985Z",
     "iopub.status.busy": "2020-11-16T20:43:30.205862Z",
     "iopub.status.idle": "2020-11-16T20:43:30.210846Z",
     "shell.execute_reply": "2020-11-16T20:43:30.210174Z"
    },
    "papermill": {
     "duration": 0.089436,
     "end_time": "2020-11-16T20:43:30.210971",
     "exception": false,
     "start_time": "2020-11-16T20:43:30.121535",
     "status": "completed"
    },
    "tags": []
   },
   "outputs": [
    {
     "data": {
      "text/html": [
       "<div>\n",
       "<style scoped>\n",
       "    .dataframe tbody tr th:only-of-type {\n",
       "        vertical-align: middle;\n",
       "    }\n",
       "\n",
       "    .dataframe tbody tr th {\n",
       "        vertical-align: top;\n",
       "    }\n",
       "\n",
       "    .dataframe thead th {\n",
       "        text-align: right;\n",
       "    }\n",
       "</style>\n",
       "<table border=\"1\" class=\"dataframe\">\n",
       "  <thead>\n",
       "    <tr style=\"text-align: right;\">\n",
       "      <th></th>\n",
       "      <th>question_id</th>\n",
       "      <th>bundle_id</th>\n",
       "      <th>correct_answer</th>\n",
       "      <th>part</th>\n",
       "      <th>tags</th>\n",
       "    </tr>\n",
       "  </thead>\n",
       "  <tbody>\n",
       "    <tr>\n",
       "      <th>10033</th>\n",
       "      <td>10033</td>\n",
       "      <td>10033</td>\n",
       "      <td>2</td>\n",
       "      <td>6</td>\n",
       "      <td>NaN</td>\n",
       "    </tr>\n",
       "  </tbody>\n",
       "</table>\n",
       "</div>"
      ],
      "text/plain": [
       "       question_id  bundle_id  correct_answer  part tags\n",
       "10033        10033      10033               2     6  NaN"
      ]
     },
     "execution_count": 29,
     "metadata": {},
     "output_type": "execute_result"
    }
   ],
   "source": [
    "questions_df[questions_df['tags'].isna()]"
   ]
  },
  {
   "cell_type": "code",
   "execution_count": 30,
   "metadata": {
    "execution": {
     "iopub.execute_input": "2020-11-16T20:43:30.361230Z",
     "iopub.status.busy": "2020-11-16T20:43:30.360172Z",
     "iopub.status.idle": "2020-11-16T20:43:30.381278Z",
     "shell.execute_reply": "2020-11-16T20:43:30.381784Z"
    },
    "papermill": {
     "duration": 0.100103,
     "end_time": "2020-11-16T20:43:30.381944",
     "exception": false,
     "start_time": "2020-11-16T20:43:30.281841",
     "status": "completed"
    },
    "tags": []
   },
   "outputs": [
    {
     "data": {
      "text/html": [
       "<div>\n",
       "<style scoped>\n",
       "    .dataframe tbody tr th:only-of-type {\n",
       "        vertical-align: middle;\n",
       "    }\n",
       "\n",
       "    .dataframe tbody tr th {\n",
       "        vertical-align: top;\n",
       "    }\n",
       "\n",
       "    .dataframe thead th {\n",
       "        text-align: right;\n",
       "    }\n",
       "</style>\n",
       "<table border=\"1\" class=\"dataframe\">\n",
       "  <thead>\n",
       "    <tr style=\"text-align: right;\">\n",
       "      <th></th>\n",
       "      <th>question_id</th>\n",
       "      <th>bundle_id</th>\n",
       "      <th>correct_answer</th>\n",
       "      <th>part</th>\n",
       "    </tr>\n",
       "  </thead>\n",
       "  <tbody>\n",
       "    <tr>\n",
       "      <th>count</th>\n",
       "      <td>13523.00000</td>\n",
       "      <td>13523.000000</td>\n",
       "      <td>13523.000000</td>\n",
       "      <td>13523.000000</td>\n",
       "    </tr>\n",
       "    <tr>\n",
       "      <th>mean</th>\n",
       "      <td>6761.00000</td>\n",
       "      <td>6760.510907</td>\n",
       "      <td>1.455298</td>\n",
       "      <td>4.264956</td>\n",
       "    </tr>\n",
       "    <tr>\n",
       "      <th>std</th>\n",
       "      <td>3903.89818</td>\n",
       "      <td>3903.857783</td>\n",
       "      <td>1.149707</td>\n",
       "      <td>1.652553</td>\n",
       "    </tr>\n",
       "    <tr>\n",
       "      <th>min</th>\n",
       "      <td>0.00000</td>\n",
       "      <td>0.000000</td>\n",
       "      <td>0.000000</td>\n",
       "      <td>1.000000</td>\n",
       "    </tr>\n",
       "    <tr>\n",
       "      <th>25%</th>\n",
       "      <td>3380.50000</td>\n",
       "      <td>3379.500000</td>\n",
       "      <td>0.000000</td>\n",
       "      <td>3.000000</td>\n",
       "    </tr>\n",
       "    <tr>\n",
       "      <th>50%</th>\n",
       "      <td>6761.00000</td>\n",
       "      <td>6761.000000</td>\n",
       "      <td>1.000000</td>\n",
       "      <td>5.000000</td>\n",
       "    </tr>\n",
       "    <tr>\n",
       "      <th>75%</th>\n",
       "      <td>10141.50000</td>\n",
       "      <td>10140.000000</td>\n",
       "      <td>3.000000</td>\n",
       "      <td>5.000000</td>\n",
       "    </tr>\n",
       "    <tr>\n",
       "      <th>max</th>\n",
       "      <td>13522.00000</td>\n",
       "      <td>13522.000000</td>\n",
       "      <td>3.000000</td>\n",
       "      <td>7.000000</td>\n",
       "    </tr>\n",
       "  </tbody>\n",
       "</table>\n",
       "</div>"
      ],
      "text/plain": [
       "       question_id     bundle_id  correct_answer          part\n",
       "count  13523.00000  13523.000000    13523.000000  13523.000000\n",
       "mean    6761.00000   6760.510907        1.455298      4.264956\n",
       "std     3903.89818   3903.857783        1.149707      1.652553\n",
       "min        0.00000      0.000000        0.000000      1.000000\n",
       "25%     3380.50000   3379.500000        0.000000      3.000000\n",
       "50%     6761.00000   6761.000000        1.000000      5.000000\n",
       "75%    10141.50000  10140.000000        3.000000      5.000000\n",
       "max    13522.00000  13522.000000        3.000000      7.000000"
      ]
     },
     "execution_count": 30,
     "metadata": {},
     "output_type": "execute_result"
    }
   ],
   "source": [
    "questions_df.describe()"
   ]
  },
  {
   "cell_type": "code",
   "execution_count": 31,
   "metadata": {
    "execution": {
     "iopub.execute_input": "2020-11-16T20:43:30.536915Z",
     "iopub.status.busy": "2020-11-16T20:43:30.530980Z",
     "iopub.status.idle": "2020-11-16T20:43:30.541496Z",
     "shell.execute_reply": "2020-11-16T20:43:30.540553Z"
    },
    "papermill": {
     "duration": 0.088349,
     "end_time": "2020-11-16T20:43:30.541715",
     "exception": false,
     "start_time": "2020-11-16T20:43:30.453366",
     "status": "completed"
    },
    "tags": []
   },
   "outputs": [
    {
     "name": "stdout",
     "output_type": "stream",
     "text": [
      "<class 'pandas.core.frame.DataFrame'>\n",
      "RangeIndex: 13523 entries, 0 to 13522\n",
      "Data columns (total 5 columns):\n",
      " #   Column          Non-Null Count  Dtype \n",
      "---  ------          --------------  ----- \n",
      " 0   question_id     13523 non-null  int64 \n",
      " 1   bundle_id       13523 non-null  int64 \n",
      " 2   correct_answer  13523 non-null  int64 \n",
      " 3   part            13523 non-null  int64 \n",
      " 4   tags            13522 non-null  object\n",
      "dtypes: int64(4), object(1)\n",
      "memory usage: 528.4+ KB\n"
     ]
    }
   ],
   "source": [
    "questions_df.info()"
   ]
  },
  {
   "cell_type": "code",
   "execution_count": 32,
   "metadata": {
    "execution": {
     "iopub.execute_input": "2020-11-16T20:43:30.697959Z",
     "iopub.status.busy": "2020-11-16T20:43:30.697196Z",
     "iopub.status.idle": "2020-11-16T20:43:30.846007Z",
     "shell.execute_reply": "2020-11-16T20:43:30.846539Z"
    },
    "papermill": {
     "duration": 0.229905,
     "end_time": "2020-11-16T20:43:30.846708",
     "exception": false,
     "start_time": "2020-11-16T20:43:30.616803",
     "status": "completed"
    },
    "tags": []
   },
   "outputs": [
    {
     "name": "stdout",
     "output_type": "stream",
     "text": [
      "question_id       0\n",
      "bundle_id         0\n",
      "correct_answer    0\n",
      "part              0\n",
      "tags              1\n",
      "dtype: int64\n",
      "****************************************\n",
      "question_id       0.000000\n",
      "bundle_id         0.000000\n",
      "correct_answer    0.000000\n",
      "part              0.000000\n",
      "tags              0.000001\n",
      "dtype: float64\n"
     ]
    },
    {
     "data": {
      "image/png": "[encoded data removed]",
      "text/plain": [
       "<Figure size 600x300 with 1 Axes>"
      ]
     },
     "metadata": {
      "needs_background": "light"
     },
     "output_type": "display_data"
    }
   ],
   "source": [
    "print(questions_df.isnull().sum())\n",
    "print(\"****************************************\")\n",
    "print(questions_df.isnull().sum() / len(train_df))\n",
    "\n",
    "print_filling_rate (questions_df, True, \"green\", \"green\")"
   ]
  },
  {
   "cell_type": "code",
   "execution_count": 33,
   "metadata": {
    "execution": {
     "iopub.execute_input": "2020-11-16T20:43:31.009531Z",
     "iopub.status.busy": "2020-11-16T20:43:31.008865Z",
     "iopub.status.idle": "2020-11-16T20:43:31.020055Z",
     "shell.execute_reply": "2020-11-16T20:43:31.019503Z"
    },
    "papermill": {
     "duration": 0.099876,
     "end_time": "2020-11-16T20:43:31.020185",
     "exception": false,
     "start_time": "2020-11-16T20:43:30.920309",
     "status": "completed"
    },
    "tags": []
   },
   "outputs": [
    {
     "data": {
      "text/html": [
       "<div>\n",
       "<style scoped>\n",
       "    .dataframe tbody tr th:only-of-type {\n",
       "        vertical-align: middle;\n",
       "    }\n",
       "\n",
       "    .dataframe tbody tr th {\n",
       "        vertical-align: top;\n",
       "    }\n",
       "\n",
       "    .dataframe thead th {\n",
       "        text-align: right;\n",
       "    }\n",
       "</style>\n",
       "<table border=\"1\" class=\"dataframe\">\n",
       "  <thead>\n",
       "    <tr style=\"text-align: right;\">\n",
       "      <th></th>\n",
       "      <th>question_id</th>\n",
       "      <th>bundle_id</th>\n",
       "      <th>correct_answer</th>\n",
       "      <th>part</th>\n",
       "      <th>tags</th>\n",
       "      <th>nb_tags</th>\n",
       "    </tr>\n",
       "  </thead>\n",
       "  <tbody>\n",
       "    <tr>\n",
       "      <th>10033</th>\n",
       "      <td>10033</td>\n",
       "      <td>10033</td>\n",
       "      <td>2</td>\n",
       "      <td>6</td>\n",
       "      <td></td>\n",
       "      <td>0</td>\n",
       "    </tr>\n",
       "  </tbody>\n",
       "</table>\n",
       "</div>"
      ],
      "text/plain": [
       "       question_id  bundle_id  correct_answer  part tags  nb_tags\n",
       "10033        10033      10033               2     6             0"
      ]
     },
     "execution_count": 33,
     "metadata": {},
     "output_type": "execute_result"
    }
   ],
   "source": [
    "questions_df['tags'].fillna(\"\", inplace=True)\n",
    "questions_df[\"nb_tags\"] = questions_df[\"tags\"].apply(lambda text: len(text.split()))\n",
    "\n",
    "questions_df[questions_df['question_id'] == 10033]"
   ]
  },
  {
   "cell_type": "code",
   "execution_count": 34,
   "metadata": {
    "execution": {
     "iopub.execute_input": "2020-11-16T20:43:31.175035Z",
     "iopub.status.busy": "2020-11-16T20:43:31.174122Z",
     "iopub.status.idle": "2020-11-16T20:43:31.178406Z",
     "shell.execute_reply": "2020-11-16T20:43:31.177748Z"
    },
    "papermill": {
     "duration": 0.084387,
     "end_time": "2020-11-16T20:43:31.178521",
     "exception": false,
     "start_time": "2020-11-16T20:43:31.094134",
     "status": "completed"
    },
    "tags": []
   },
   "outputs": [],
   "source": [
    "questions_df = questions_df[questions_df[\"nb_tags\"] > 0]"
   ]
  },
  {
   "cell_type": "code",
   "execution_count": 35,
   "metadata": {
    "execution": {
     "iopub.execute_input": "2020-11-16T20:43:31.329461Z",
     "iopub.status.busy": "2020-11-16T20:43:31.328517Z",
     "iopub.status.idle": "2020-11-16T20:43:31.332351Z",
     "shell.execute_reply": "2020-11-16T20:43:31.332800Z"
    },
    "papermill": {
     "duration": 0.082086,
     "end_time": "2020-11-16T20:43:31.332947",
     "exception": false,
     "start_time": "2020-11-16T20:43:31.250861",
     "status": "completed"
    },
    "tags": []
   },
   "outputs": [
    {
     "data": {
      "text/plain": [
       "0"
      ]
     },
     "execution_count": 35,
     "metadata": {},
     "output_type": "execute_result"
    }
   ],
   "source": [
    "test = \"\".split()\n",
    "len(test)"
   ]
  },
  {
   "cell_type": "code",
   "execution_count": 36,
   "metadata": {
    "execution": {
     "iopub.execute_input": "2020-11-16T20:43:31.489272Z",
     "iopub.status.busy": "2020-11-16T20:43:31.488331Z",
     "iopub.status.idle": "2020-11-16T20:43:31.493236Z",
     "shell.execute_reply": "2020-11-16T20:43:31.492005Z"
    },
    "papermill": {
     "duration": 0.088192,
     "end_time": "2020-11-16T20:43:31.493401",
     "exception": false,
     "start_time": "2020-11-16T20:43:31.405209",
     "status": "completed"
    },
    "tags": []
   },
   "outputs": [
    {
     "name": "stdout",
     "output_type": "stream",
     "text": [
      "Le nombre max de tags par question : 6\n",
      "Le nombre min de tag par question : 1\n",
      "Le nombre moyen de tags par question : 2.291969\n"
     ]
    }
   ],
   "source": [
    "print('Le nombre max de tags par question : {}'.format(max(questions_df['nb_tags'])))\n",
    "print('Le nombre min de tag par question : {}'.format(min(questions_df['nb_tags'])))\n",
    "print('Le nombre moyen de tags par question : %f'%(sum(questions_df['nb_tags'])/len(questions_df['nb_tags'])))"
   ]
  },
  {
   "cell_type": "code",
   "execution_count": 37,
   "metadata": {
    "execution": {
     "iopub.execute_input": "2020-11-16T20:43:31.654621Z",
     "iopub.status.busy": "2020-11-16T20:43:31.653943Z",
     "iopub.status.idle": "2020-11-16T20:43:31.797680Z",
     "shell.execute_reply": "2020-11-16T20:43:31.797081Z"
    },
    "papermill": {
     "duration": 0.230147,
     "end_time": "2020-11-16T20:43:31.797790",
     "exception": false,
     "start_time": "2020-11-16T20:43:31.567643",
     "status": "completed"
    },
    "tags": []
   },
   "outputs": [
    {
     "data": {
      "image/png": "[encoded data removed]",
      "text/plain": [
       "<Figure size 720x360 with 1 Axes>"
      ]
     },
     "metadata": {
      "needs_background": "light"
     },
     "output_type": "display_data"
    }
   ],
   "source": [
    "import matplotlib.style as style\n",
    "style.use('seaborn-dark-palette')\n",
    "fig, ax = plt.subplots(figsize=(10, 5))\n",
    "ax.set_title(\"Répartition du nombre de tags par question\", fontsize=16, weight=\"bold\");\n",
    "\n",
    "sns.countplot(questions_df['nb_tags'], palette=\"Set1\")\n",
    "ax.set_ylabel(\"Nombre d'occurences\", fontsize=14)\n",
    "ax.set_xlabel(\"Nombre de tags par question\", fontsize=14);"
   ]
  },
  {
   "cell_type": "code",
   "execution_count": 38,
   "metadata": {
    "execution": {
     "iopub.execute_input": "2020-11-16T20:43:31.957857Z",
     "iopub.status.busy": "2020-11-16T20:43:31.957058Z",
     "iopub.status.idle": "2020-11-16T20:43:31.961484Z",
     "shell.execute_reply": "2020-11-16T20:43:31.960849Z"
    },
    "papermill": {
     "duration": 0.08932,
     "end_time": "2020-11-16T20:43:31.961629",
     "exception": false,
     "start_time": "2020-11-16T20:43:31.872309",
     "status": "completed"
    },
    "tags": []
   },
   "outputs": [
    {
     "data": {
      "text/plain": [
       "\"tags = questions_df[~questions_df['tags'].isna()]['tags']\\n\\n\\n\\nlist_tags = []\\nlist_unique_tags = []\\n\\ndef create_lists_tags(text) :\\n    text_list = text.split()\\n    for i in range(0,len(text_list)):\\n        list_unique_tags.append(text_list[i])\\n        if(text_list[i] not in list_unique_tags) :\\n            list_unique_tags.append(text_list[i])\\n\\ntags.apply(lambda text: create_list_unique_tags(text))\\n\\nlen(list_unique_tags)\""
      ]
     },
     "execution_count": 38,
     "metadata": {},
     "output_type": "execute_result"
    }
   ],
   "source": [
    "'''tags = questions_df[~questions_df['tags'].isna()]['tags']\n",
    "\n",
    "\n",
    "\n",
    "list_tags = []\n",
    "list_unique_tags = []\n",
    "\n",
    "def create_lists_tags(text) :\n",
    "    text_list = text.split()\n",
    "    for i in range(0,len(text_list)):\n",
    "        list_unique_tags.append(text_list[i])\n",
    "        if(text_list[i] not in list_unique_tags) :\n",
    "            list_unique_tags.append(text_list[i])\n",
    "\n",
    "tags.apply(lambda text: create_list_unique_tags(text))\n",
    "\n",
    "len(list_unique_tags)'''"
   ]
  },
  {
   "cell_type": "code",
   "execution_count": 39,
   "metadata": {
    "execution": {
     "iopub.execute_input": "2020-11-16T20:43:32.129779Z",
     "iopub.status.busy": "2020-11-16T20:43:32.116146Z",
     "iopub.status.idle": "2020-11-16T20:43:32.134629Z",
     "shell.execute_reply": "2020-11-16T20:43:32.133930Z"
    },
    "papermill": {
     "duration": 0.099198,
     "end_time": "2020-11-16T20:43:32.134758",
     "exception": false,
     "start_time": "2020-11-16T20:43:32.035560",
     "status": "completed"
    },
    "tags": []
   },
   "outputs": [
    {
     "name": "stdout",
     "output_type": "stream",
     "text": [
      "30992\n",
      "188\n"
     ]
    }
   ],
   "source": [
    "questions_df['tags_list'] = questions_df['tags'].apply(lambda x: x.split())\n",
    "tags_list = [item for sublist in questions_df['tags_list'].values for item in sublist]\n",
    "print(len(tags_list))\n",
    "tags_unique_list = list(set(tags_list))\n",
    "# Affiche la nouvelle liste \n",
    "print(len(tags_unique_list))"
   ]
  },
  {
   "cell_type": "code",
   "execution_count": 40,
   "metadata": {
    "execution": {
     "iopub.execute_input": "2020-11-16T20:43:32.294163Z",
     "iopub.status.busy": "2020-11-16T20:43:32.293434Z",
     "iopub.status.idle": "2020-11-16T20:43:32.994986Z",
     "shell.execute_reply": "2020-11-16T20:43:32.994295Z"
    },
    "papermill": {
     "duration": 0.784145,
     "end_time": "2020-11-16T20:43:32.995104",
     "exception": false,
     "start_time": "2020-11-16T20:43:32.210959",
     "status": "completed"
    },
    "tags": []
   },
   "outputs": [],
   "source": [
    "import nltk\n",
    "def distribution_nb_apparition_tag_questions(nb_tags, title, with_return):\n",
    "    tags_most_common = tags_frequence.most_common(nb_tags)\n",
    "    tags_df = pd.DataFrame(tags_most_common, columns = ['tags' , 'nb_tags']) \n",
    "    tags_df.columns\n",
    "    tags_sorted_df = tags_df.sort_values(['nb_tags'], ascending=False)\n",
    "    tags_counts = tags_sorted_df['nb_tags'].values\n",
    "    plt.plot(tags_counts)\n",
    "    plt.title(title)\n",
    "    plt.grid()\n",
    "    plt.xlabel(\"Nombre de tags\")\n",
    "    plt.ylabel(\"Nombre d'occurences\")\n",
    "    plt.show()\n",
    "    if(with_return):\n",
    "        return tags_df"
   ]
  },
  {
   "cell_type": "code",
   "execution_count": 41,
   "metadata": {
    "execution": {
     "iopub.execute_input": "2020-11-16T20:43:33.176645Z",
     "iopub.status.busy": "2020-11-16T20:43:33.171352Z",
     "iopub.status.idle": "2020-11-16T20:43:33.331307Z",
     "shell.execute_reply": "2020-11-16T20:43:33.330801Z"
    },
    "papermill": {
     "duration": 0.261265,
     "end_time": "2020-11-16T20:43:33.331419",
     "exception": false,
     "start_time": "2020-11-16T20:43:33.070154",
     "status": "completed"
    },
    "tags": []
   },
   "outputs": [
    {
     "data": {
      "image/png": "[encoded data removed]",
      "text/plain": [
       "<Figure size 432x288 with 1 Axes>"
      ]
     },
     "metadata": {
      "needs_background": "light"
     },
     "output_type": "display_data"
    }
   ],
   "source": [
    "tags_frequence= nltk.FreqDist(tags_list)\n",
    "\n",
    "\n",
    "\n",
    "tags_df = distribution_nb_apparition_tag_questions(len(tags_unique_list), \"Distribution du nombre d'apparition des tags\", True)"
   ]
  },
  {
   "cell_type": "code",
   "execution_count": 42,
   "metadata": {
    "execution": {
     "iopub.execute_input": "2020-11-16T20:43:33.495085Z",
     "iopub.status.busy": "2020-11-16T20:43:33.489089Z",
     "iopub.status.idle": "2020-11-16T20:43:33.652470Z",
     "shell.execute_reply": "2020-11-16T20:43:33.651915Z"
    },
    "papermill": {
     "duration": 0.245137,
     "end_time": "2020-11-16T20:43:33.652615",
     "exception": false,
     "start_time": "2020-11-16T20:43:33.407478",
     "status": "completed"
    },
    "tags": []
   },
   "outputs": [
    {
     "data": {
      "image/png": "[encoded data removed]",
      "text/plain": [
       "<Figure size 432x288 with 1 Axes>"
      ]
     },
     "metadata": {
      "needs_background": "light"
     },
     "output_type": "display_data"
    }
   ],
   "source": [
    "distribution_nb_apparition_tag_questions(25, \"Distribution du nombre d'apparition des 25 tags les plus fréquents\", False)"
   ]
  },
  {
   "cell_type": "code",
   "execution_count": 43,
   "metadata": {
    "execution": {
     "iopub.execute_input": "2020-11-16T20:43:33.819031Z",
     "iopub.status.busy": "2020-11-16T20:43:33.818332Z",
     "iopub.status.idle": "2020-11-16T20:43:33.965574Z",
     "shell.execute_reply": "2020-11-16T20:43:33.964883Z"
    },
    "papermill": {
     "duration": 0.235185,
     "end_time": "2020-11-16T20:43:33.965740",
     "exception": false,
     "start_time": "2020-11-16T20:43:33.730555",
     "status": "completed"
    },
    "tags": []
   },
   "outputs": [
    {
     "data": {
      "image/png": "[encoded data removed]",
      "text/plain": [
       "<Figure size 432x288 with 1 Axes>"
      ]
     },
     "metadata": {
      "needs_background": "light"
     },
     "output_type": "display_data"
    }
   ],
   "source": [
    "NB_TAGS = 25\n",
    "distribution_nb_apparition_tag_questions(NB_TAGS, \"Distribution du nombre d'apparition des NB_TAGS tags les plus fréquents\", False)"
   ]
  },
  {
   "cell_type": "code",
   "execution_count": 44,
   "metadata": {
    "execution": {
     "iopub.execute_input": "2020-11-16T20:43:34.127054Z",
     "iopub.status.busy": "2020-11-16T20:43:34.126047Z",
     "iopub.status.idle": "2020-11-16T20:43:34.128661Z",
     "shell.execute_reply": "2020-11-16T20:43:34.129118Z"
    },
    "papermill": {
     "duration": 0.085445,
     "end_time": "2020-11-16T20:43:34.129259",
     "exception": false,
     "start_time": "2020-11-16T20:43:34.043814",
     "status": "completed"
    },
    "tags": []
   },
   "outputs": [],
   "source": [
    "words_most_common = tags_frequence.most_common(NB_TAGS)"
   ]
  },
  {
   "cell_type": "code",
   "execution_count": 45,
   "metadata": {
    "execution": {
     "iopub.execute_input": "2020-11-16T20:43:34.292401Z",
     "iopub.status.busy": "2020-11-16T20:43:34.291574Z",
     "iopub.status.idle": "2020-11-16T20:43:34.294666Z",
     "shell.execute_reply": "2020-11-16T20:43:34.295372Z"
    },
    "papermill": {
     "duration": 0.088955,
     "end_time": "2020-11-16T20:43:34.295718",
     "exception": false,
     "start_time": "2020-11-16T20:43:34.206763",
     "status": "completed"
    },
    "tags": []
   },
   "outputs": [
    {
     "name": "stdout",
     "output_type": "stream",
     "text": [
      "['92', '38', '81', '29', '136', '162', '102', '8', '143', '131', '73', '21', '53', '82', '74', '106', '1', '96', '12', '97', '67', '55', '27', '122', '79']\n"
     ]
    }
   ],
   "source": [
    "fq_words_df = pd.DataFrame(words_most_common, columns = ['tags' , 'nb_tags']) \n",
    "fq_words_df.head()\n",
    "SELECTED_TAGS = (fq_words_df['tags'][:NB_TAGS]).to_list()\n",
    "print(SELECTED_TAGS)"
   ]
  },
  {
   "cell_type": "code",
   "execution_count": 46,
   "metadata": {
    "execution": {
     "iopub.execute_input": "2020-11-16T20:43:34.469808Z",
     "iopub.status.busy": "2020-11-16T20:43:34.464664Z",
     "iopub.status.idle": "2020-11-16T20:43:34.486385Z",
     "shell.execute_reply": "2020-11-16T20:43:34.486922Z"
    },
    "papermill": {
     "duration": 0.111897,
     "end_time": "2020-11-16T20:43:34.487092",
     "exception": false,
     "start_time": "2020-11-16T20:43:34.375195",
     "status": "completed"
    },
    "tags": []
   },
   "outputs": [],
   "source": [
    "def tags_column_processing(tags):\n",
    "    new_tags = []\n",
    "    tags_words = tags.split()\n",
    "    for tag in tags_words:\n",
    "        if (tag in SELECTED_TAGS) :\n",
    "            new_tags.append(tag)   \n",
    "    return new_tags\n",
    "\n",
    "questions_df['new_tags'] = questions_df[\"tags\"].apply(lambda text : tags_column_processing(text))"
   ]
  },
  {
   "cell_type": "code",
   "execution_count": 47,
   "metadata": {
    "execution": {
     "iopub.execute_input": "2020-11-16T20:43:34.668792Z",
     "iopub.status.busy": "2020-11-16T20:43:34.657867Z",
     "iopub.status.idle": "2020-11-16T20:43:34.686488Z",
     "shell.execute_reply": "2020-11-16T20:43:34.685947Z"
    },
    "papermill": {
     "duration": 0.118635,
     "end_time": "2020-11-16T20:43:34.686623",
     "exception": false,
     "start_time": "2020-11-16T20:43:34.567988",
     "status": "completed"
    },
    "tags": []
   },
   "outputs": [
    {
     "data": {
      "text/html": [
       "<div>\n",
       "<style scoped>\n",
       "    .dataframe tbody tr th:only-of-type {\n",
       "        vertical-align: middle;\n",
       "    }\n",
       "\n",
       "    .dataframe tbody tr th {\n",
       "        vertical-align: top;\n",
       "    }\n",
       "\n",
       "    .dataframe thead th {\n",
       "        text-align: right;\n",
       "    }\n",
       "</style>\n",
       "<table border=\"1\" class=\"dataframe\">\n",
       "  <thead>\n",
       "    <tr style=\"text-align: right;\">\n",
       "      <th></th>\n",
       "      <th>92</th>\n",
       "      <th>38</th>\n",
       "      <th>81</th>\n",
       "      <th>29</th>\n",
       "      <th>136</th>\n",
       "      <th>162</th>\n",
       "      <th>102</th>\n",
       "      <th>8</th>\n",
       "      <th>143</th>\n",
       "      <th>131</th>\n",
       "      <th>...</th>\n",
       "      <th>106</th>\n",
       "      <th>1</th>\n",
       "      <th>96</th>\n",
       "      <th>12</th>\n",
       "      <th>97</th>\n",
       "      <th>67</th>\n",
       "      <th>55</th>\n",
       "      <th>27</th>\n",
       "      <th>122</th>\n",
       "      <th>79</th>\n",
       "    </tr>\n",
       "  </thead>\n",
       "  <tbody>\n",
       "    <tr>\n",
       "      <th>0</th>\n",
       "      <td>0</td>\n",
       "      <td>1</td>\n",
       "      <td>0</td>\n",
       "      <td>0</td>\n",
       "      <td>0</td>\n",
       "      <td>1</td>\n",
       "      <td>0</td>\n",
       "      <td>0</td>\n",
       "      <td>0</td>\n",
       "      <td>1</td>\n",
       "      <td>...</td>\n",
       "      <td>0</td>\n",
       "      <td>0</td>\n",
       "      <td>0</td>\n",
       "      <td>0</td>\n",
       "      <td>0</td>\n",
       "      <td>0</td>\n",
       "      <td>0</td>\n",
       "      <td>0</td>\n",
       "      <td>0</td>\n",
       "      <td>0</td>\n",
       "    </tr>\n",
       "    <tr>\n",
       "      <th>1</th>\n",
       "      <td>0</td>\n",
       "      <td>0</td>\n",
       "      <td>1</td>\n",
       "      <td>0</td>\n",
       "      <td>0</td>\n",
       "      <td>0</td>\n",
       "      <td>0</td>\n",
       "      <td>0</td>\n",
       "      <td>0</td>\n",
       "      <td>1</td>\n",
       "      <td>...</td>\n",
       "      <td>0</td>\n",
       "      <td>0</td>\n",
       "      <td>0</td>\n",
       "      <td>0</td>\n",
       "      <td>0</td>\n",
       "      <td>0</td>\n",
       "      <td>0</td>\n",
       "      <td>0</td>\n",
       "      <td>0</td>\n",
       "      <td>0</td>\n",
       "    </tr>\n",
       "    <tr>\n",
       "      <th>2</th>\n",
       "      <td>1</td>\n",
       "      <td>0</td>\n",
       "      <td>0</td>\n",
       "      <td>0</td>\n",
       "      <td>0</td>\n",
       "      <td>1</td>\n",
       "      <td>0</td>\n",
       "      <td>0</td>\n",
       "      <td>0</td>\n",
       "      <td>1</td>\n",
       "      <td>...</td>\n",
       "      <td>0</td>\n",
       "      <td>0</td>\n",
       "      <td>0</td>\n",
       "      <td>0</td>\n",
       "      <td>0</td>\n",
       "      <td>0</td>\n",
       "      <td>0</td>\n",
       "      <td>0</td>\n",
       "      <td>0</td>\n",
       "      <td>0</td>\n",
       "    </tr>\n",
       "    <tr>\n",
       "      <th>3</th>\n",
       "      <td>0</td>\n",
       "      <td>0</td>\n",
       "      <td>0</td>\n",
       "      <td>1</td>\n",
       "      <td>0</td>\n",
       "      <td>1</td>\n",
       "      <td>0</td>\n",
       "      <td>0</td>\n",
       "      <td>0</td>\n",
       "      <td>1</td>\n",
       "      <td>...</td>\n",
       "      <td>0</td>\n",
       "      <td>0</td>\n",
       "      <td>0</td>\n",
       "      <td>0</td>\n",
       "      <td>0</td>\n",
       "      <td>0</td>\n",
       "      <td>0</td>\n",
       "      <td>0</td>\n",
       "      <td>0</td>\n",
       "      <td>0</td>\n",
       "    </tr>\n",
       "    <tr>\n",
       "      <th>4</th>\n",
       "      <td>0</td>\n",
       "      <td>1</td>\n",
       "      <td>0</td>\n",
       "      <td>0</td>\n",
       "      <td>0</td>\n",
       "      <td>1</td>\n",
       "      <td>0</td>\n",
       "      <td>0</td>\n",
       "      <td>0</td>\n",
       "      <td>1</td>\n",
       "      <td>...</td>\n",
       "      <td>0</td>\n",
       "      <td>0</td>\n",
       "      <td>0</td>\n",
       "      <td>0</td>\n",
       "      <td>0</td>\n",
       "      <td>0</td>\n",
       "      <td>0</td>\n",
       "      <td>0</td>\n",
       "      <td>0</td>\n",
       "      <td>0</td>\n",
       "    </tr>\n",
       "  </tbody>\n",
       "</table>\n",
       "<p>5 rows × 25 columns</p>\n",
       "</div>"
      ],
      "text/plain": [
       "   92  38  81  29  136  162  102  8  143  131  ...  106  1  96  12  97  67  \\\n",
       "0   0   1   0   0    0    1    0  0    0    1  ...    0  0   0   0   0   0   \n",
       "1   0   0   1   0    0    0    0  0    0    1  ...    0  0   0   0   0   0   \n",
       "2   1   0   0   0    0    1    0  0    0    1  ...    0  0   0   0   0   0   \n",
       "3   0   0   0   1    0    1    0  0    0    1  ...    0  0   0   0   0   0   \n",
       "4   0   1   0   0    0    1    0  0    0    1  ...    0  0   0   0   0   0   \n",
       "\n",
       "   55  27  122  79  \n",
       "0   0   0    0   0  \n",
       "1   0   0    0   0  \n",
       "2   0   0    0   0  \n",
       "3   0   0    0   0  \n",
       "4   0   0    0   0  \n",
       "\n",
       "[5 rows x 25 columns]"
      ]
     },
     "execution_count": 47,
     "metadata": {},
     "output_type": "execute_result"
    }
   ],
   "source": [
    "from sklearn.preprocessing import MultiLabelBinarizer\n",
    "classes_tags = tuple(SELECTED_TAGS)\n",
    "one_hot = MultiLabelBinarizer(classes = classes_tags )\n",
    "#print(one_hot.fit_transform(questions_df['new_tags']))\n",
    "\n",
    "#print(one_hot.classes_)\n",
    "\n",
    "\n",
    "types_encoded = pd.DataFrame(one_hot.fit_transform(questions_df['new_tags']),columns=one_hot.classes_)\n",
    "types_encoded.head()"
   ]
  },
  {
   "cell_type": "code",
   "execution_count": 48,
   "metadata": {
    "execution": {
     "iopub.execute_input": "2020-11-16T20:43:34.858158Z",
     "iopub.status.busy": "2020-11-16T20:43:34.855031Z",
     "iopub.status.idle": "2020-11-16T20:43:34.895372Z",
     "shell.execute_reply": "2020-11-16T20:43:34.894697Z"
    },
    "papermill": {
     "duration": 0.129962,
     "end_time": "2020-11-16T20:43:34.895493",
     "exception": false,
     "start_time": "2020-11-16T20:43:34.765531",
     "status": "completed"
    },
    "tags": []
   },
   "outputs": [
    {
     "data": {
      "text/html": [
       "<div>\n",
       "<style scoped>\n",
       "    .dataframe tbody tr th:only-of-type {\n",
       "        vertical-align: middle;\n",
       "    }\n",
       "\n",
       "    .dataframe tbody tr th {\n",
       "        vertical-align: top;\n",
       "    }\n",
       "\n",
       "    .dataframe thead th {\n",
       "        text-align: right;\n",
       "    }\n",
       "</style>\n",
       "<table border=\"1\" class=\"dataframe\">\n",
       "  <thead>\n",
       "    <tr style=\"text-align: right;\">\n",
       "      <th></th>\n",
       "      <th>question_id</th>\n",
       "      <th>bundle_id</th>\n",
       "      <th>correct_answer</th>\n",
       "      <th>part</th>\n",
       "      <th>tags</th>\n",
       "      <th>nb_tags</th>\n",
       "      <th>tags_list</th>\n",
       "      <th>new_tags</th>\n",
       "      <th>92</th>\n",
       "      <th>38</th>\n",
       "      <th>...</th>\n",
       "      <th>106</th>\n",
       "      <th>1</th>\n",
       "      <th>96</th>\n",
       "      <th>12</th>\n",
       "      <th>97</th>\n",
       "      <th>67</th>\n",
       "      <th>55</th>\n",
       "      <th>27</th>\n",
       "      <th>122</th>\n",
       "      <th>79</th>\n",
       "    </tr>\n",
       "  </thead>\n",
       "  <tbody>\n",
       "    <tr>\n",
       "      <th>0</th>\n",
       "      <td>0.0</td>\n",
       "      <td>0.0</td>\n",
       "      <td>0.0</td>\n",
       "      <td>1.0</td>\n",
       "      <td>51 131 162 38</td>\n",
       "      <td>4.0</td>\n",
       "      <td>[51, 131, 162, 38]</td>\n",
       "      <td>[131, 162, 38]</td>\n",
       "      <td>0.0</td>\n",
       "      <td>1.0</td>\n",
       "      <td>...</td>\n",
       "      <td>0.0</td>\n",
       "      <td>0.0</td>\n",
       "      <td>0.0</td>\n",
       "      <td>0.0</td>\n",
       "      <td>0.0</td>\n",
       "      <td>0.0</td>\n",
       "      <td>0.0</td>\n",
       "      <td>0.0</td>\n",
       "      <td>0.0</td>\n",
       "      <td>0.0</td>\n",
       "    </tr>\n",
       "    <tr>\n",
       "      <th>1</th>\n",
       "      <td>1.0</td>\n",
       "      <td>1.0</td>\n",
       "      <td>1.0</td>\n",
       "      <td>1.0</td>\n",
       "      <td>131 36 81</td>\n",
       "      <td>3.0</td>\n",
       "      <td>[131, 36, 81]</td>\n",
       "      <td>[131, 81]</td>\n",
       "      <td>0.0</td>\n",
       "      <td>0.0</td>\n",
       "      <td>...</td>\n",
       "      <td>0.0</td>\n",
       "      <td>0.0</td>\n",
       "      <td>0.0</td>\n",
       "      <td>0.0</td>\n",
       "      <td>0.0</td>\n",
       "      <td>0.0</td>\n",
       "      <td>0.0</td>\n",
       "      <td>0.0</td>\n",
       "      <td>0.0</td>\n",
       "      <td>0.0</td>\n",
       "    </tr>\n",
       "    <tr>\n",
       "      <th>2</th>\n",
       "      <td>2.0</td>\n",
       "      <td>2.0</td>\n",
       "      <td>0.0</td>\n",
       "      <td>1.0</td>\n",
       "      <td>131 101 162 92</td>\n",
       "      <td>4.0</td>\n",
       "      <td>[131, 101, 162, 92]</td>\n",
       "      <td>[131, 162, 92]</td>\n",
       "      <td>1.0</td>\n",
       "      <td>0.0</td>\n",
       "      <td>...</td>\n",
       "      <td>0.0</td>\n",
       "      <td>0.0</td>\n",
       "      <td>0.0</td>\n",
       "      <td>0.0</td>\n",
       "      <td>0.0</td>\n",
       "      <td>0.0</td>\n",
       "      <td>0.0</td>\n",
       "      <td>0.0</td>\n",
       "      <td>0.0</td>\n",
       "      <td>0.0</td>\n",
       "    </tr>\n",
       "    <tr>\n",
       "      <th>3</th>\n",
       "      <td>3.0</td>\n",
       "      <td>3.0</td>\n",
       "      <td>0.0</td>\n",
       "      <td>1.0</td>\n",
       "      <td>131 149 162 29</td>\n",
       "      <td>4.0</td>\n",
       "      <td>[131, 149, 162, 29]</td>\n",
       "      <td>[131, 162, 29]</td>\n",
       "      <td>0.0</td>\n",
       "      <td>0.0</td>\n",
       "      <td>...</td>\n",
       "      <td>0.0</td>\n",
       "      <td>0.0</td>\n",
       "      <td>0.0</td>\n",
       "      <td>0.0</td>\n",
       "      <td>0.0</td>\n",
       "      <td>0.0</td>\n",
       "      <td>0.0</td>\n",
       "      <td>0.0</td>\n",
       "      <td>0.0</td>\n",
       "      <td>0.0</td>\n",
       "    </tr>\n",
       "    <tr>\n",
       "      <th>4</th>\n",
       "      <td>4.0</td>\n",
       "      <td>4.0</td>\n",
       "      <td>3.0</td>\n",
       "      <td>1.0</td>\n",
       "      <td>131 5 162 38</td>\n",
       "      <td>4.0</td>\n",
       "      <td>[131, 5, 162, 38]</td>\n",
       "      <td>[131, 162, 38]</td>\n",
       "      <td>0.0</td>\n",
       "      <td>1.0</td>\n",
       "      <td>...</td>\n",
       "      <td>0.0</td>\n",
       "      <td>0.0</td>\n",
       "      <td>0.0</td>\n",
       "      <td>0.0</td>\n",
       "      <td>0.0</td>\n",
       "      <td>0.0</td>\n",
       "      <td>0.0</td>\n",
       "      <td>0.0</td>\n",
       "      <td>0.0</td>\n",
       "      <td>0.0</td>\n",
       "    </tr>\n",
       "  </tbody>\n",
       "</table>\n",
       "<p>5 rows × 33 columns</p>\n",
       "</div>"
      ],
      "text/plain": [
       "   question_id  bundle_id  correct_answer  part            tags  nb_tags  \\\n",
       "0          0.0        0.0             0.0   1.0   51 131 162 38      4.0   \n",
       "1          1.0        1.0             1.0   1.0       131 36 81      3.0   \n",
       "2          2.0        2.0             0.0   1.0  131 101 162 92      4.0   \n",
       "3          3.0        3.0             0.0   1.0  131 149 162 29      4.0   \n",
       "4          4.0        4.0             3.0   1.0    131 5 162 38      4.0   \n",
       "\n",
       "             tags_list        new_tags   92   38  ...  106    1   96   12  \\\n",
       "0   [51, 131, 162, 38]  [131, 162, 38]  0.0  1.0  ...  0.0  0.0  0.0  0.0   \n",
       "1        [131, 36, 81]       [131, 81]  0.0  0.0  ...  0.0  0.0  0.0  0.0   \n",
       "2  [131, 101, 162, 92]  [131, 162, 92]  1.0  0.0  ...  0.0  0.0  0.0  0.0   \n",
       "3  [131, 149, 162, 29]  [131, 162, 29]  0.0  0.0  ...  0.0  0.0  0.0  0.0   \n",
       "4    [131, 5, 162, 38]  [131, 162, 38]  0.0  1.0  ...  0.0  0.0  0.0  0.0   \n",
       "\n",
       "    97   67   55   27  122   79  \n",
       "0  0.0  0.0  0.0  0.0  0.0  0.0  \n",
       "1  0.0  0.0  0.0  0.0  0.0  0.0  \n",
       "2  0.0  0.0  0.0  0.0  0.0  0.0  \n",
       "3  0.0  0.0  0.0  0.0  0.0  0.0  \n",
       "4  0.0  0.0  0.0  0.0  0.0  0.0  \n",
       "\n",
       "[5 rows x 33 columns]"
      ]
     },
     "execution_count": 48,
     "metadata": {},
     "output_type": "execute_result"
    }
   ],
   "source": [
    "# Concating df and types_encoded\n",
    "questions_df = pd.concat([questions_df,types_encoded], axis = 1)\n",
    "questions_df.head()"
   ]
  },
  {
   "cell_type": "code",
   "execution_count": 49,
   "metadata": {
    "execution": {
     "iopub.execute_input": "2020-11-16T20:43:35.062236Z",
     "iopub.status.busy": "2020-11-16T20:43:35.061103Z",
     "iopub.status.idle": "2020-11-16T20:43:35.065331Z",
     "shell.execute_reply": "2020-11-16T20:43:35.064713Z"
    },
    "papermill": {
     "duration": 0.089716,
     "end_time": "2020-11-16T20:43:35.065445",
     "exception": false,
     "start_time": "2020-11-16T20:43:34.975729",
     "status": "completed"
    },
    "tags": []
   },
   "outputs": [
    {
     "data": {
      "text/plain": [
       "Index(['question_id', 'bundle_id', 'correct_answer', 'part', 'tags', 'nb_tags',\n",
       "       'tags_list', 'new_tags', '92', '38', '81', '29', '136', '162', '102',\n",
       "       '8', '143', '131', '73', '21', '53', '82', '74', '106', '1', '96', '12',\n",
       "       '97', '67', '55', '27', '122', '79'],\n",
       "      dtype='object')"
      ]
     },
     "execution_count": 49,
     "metadata": {},
     "output_type": "execute_result"
    }
   ],
   "source": [
    "questions_df.columns"
   ]
  },
  {
   "cell_type": "code",
   "execution_count": 50,
   "metadata": {
    "execution": {
     "iopub.execute_input": "2020-11-16T20:43:35.233675Z",
     "iopub.status.busy": "2020-11-16T20:43:35.232522Z",
     "iopub.status.idle": "2020-11-16T20:43:35.238828Z",
     "shell.execute_reply": "2020-11-16T20:43:35.238254Z"
    },
    "papermill": {
     "duration": 0.092076,
     "end_time": "2020-11-16T20:43:35.238948",
     "exception": false,
     "start_time": "2020-11-16T20:43:35.146872",
     "status": "completed"
    },
    "tags": []
   },
   "outputs": [],
   "source": [
    "# Drop column B as it is now encoded\n",
    "questions_df = questions_df.drop(['new_tags', 'tags', 'tags_list'],axis = 1)"
   ]
  },
  {
   "cell_type": "code",
   "execution_count": 51,
   "metadata": {
    "execution": {
     "iopub.execute_input": "2020-11-16T20:43:35.405837Z",
     "iopub.status.busy": "2020-11-16T20:43:35.404824Z",
     "iopub.status.idle": "2020-11-16T20:43:35.409464Z",
     "shell.execute_reply": "2020-11-16T20:43:35.408924Z"
    },
    "papermill": {
     "duration": 0.090128,
     "end_time": "2020-11-16T20:43:35.409574",
     "exception": false,
     "start_time": "2020-11-16T20:43:35.319446",
     "status": "completed"
    },
    "tags": []
   },
   "outputs": [],
   "source": [
    "questions_df = questions_df[~questions_df['part'].isna()]"
   ]
  },
  {
   "cell_type": "code",
   "execution_count": 52,
   "metadata": {
    "execution": {
     "iopub.execute_input": "2020-11-16T20:43:35.575821Z",
     "iopub.status.busy": "2020-11-16T20:43:35.575006Z",
     "iopub.status.idle": "2020-11-16T20:43:35.578890Z",
     "shell.execute_reply": "2020-11-16T20:43:35.578358Z"
    },
    "papermill": {
     "duration": 0.089656,
     "end_time": "2020-11-16T20:43:35.579005",
     "exception": false,
     "start_time": "2020-11-16T20:43:35.489349",
     "status": "completed"
    },
    "tags": []
   },
   "outputs": [
    {
     "data": {
      "text/plain": [
       "array([1., 2., 3., 4., 5., 6., 7.])"
      ]
     },
     "execution_count": 52,
     "metadata": {},
     "output_type": "execute_result"
    }
   ],
   "source": [
    "questions_df['part'].unique()"
   ]
  },
  {
   "cell_type": "code",
   "execution_count": 53,
   "metadata": {
    "execution": {
     "iopub.execute_input": "2020-11-16T20:43:35.749579Z",
     "iopub.status.busy": "2020-11-16T20:43:35.748675Z",
     "iopub.status.idle": "2020-11-16T20:43:35.753440Z",
     "shell.execute_reply": "2020-11-16T20:43:35.752838Z"
    },
    "papermill": {
     "duration": 0.091895,
     "end_time": "2020-11-16T20:43:35.753553",
     "exception": false,
     "start_time": "2020-11-16T20:43:35.661658",
     "status": "completed"
    },
    "tags": []
   },
   "outputs": [],
   "source": [
    "questions_df['is_reading_section']= 0 \n",
    "questions_df.loc[questions_df['part'] >= 5 ,'is_reading_section'] = 1"
   ]
  },
  {
   "cell_type": "code",
   "execution_count": 54,
   "metadata": {
    "execution": {
     "iopub.execute_input": "2020-11-16T20:43:35.941943Z",
     "iopub.status.busy": "2020-11-16T20:43:35.941046Z",
     "iopub.status.idle": "2020-11-16T20:43:35.945331Z",
     "shell.execute_reply": "2020-11-16T20:43:35.944700Z"
    },
    "papermill": {
     "duration": 0.111489,
     "end_time": "2020-11-16T20:43:35.945445",
     "exception": false,
     "start_time": "2020-11-16T20:43:35.833956",
     "status": "completed"
    },
    "tags": []
   },
   "outputs": [
    {
     "data": {
      "text/html": [
       "<div>\n",
       "<style scoped>\n",
       "    .dataframe tbody tr th:only-of-type {\n",
       "        vertical-align: middle;\n",
       "    }\n",
       "\n",
       "    .dataframe tbody tr th {\n",
       "        vertical-align: top;\n",
       "    }\n",
       "\n",
       "    .dataframe thead th {\n",
       "        text-align: right;\n",
       "    }\n",
       "</style>\n",
       "<table border=\"1\" class=\"dataframe\">\n",
       "  <thead>\n",
       "    <tr style=\"text-align: right;\">\n",
       "      <th></th>\n",
       "      <th>question_id</th>\n",
       "      <th>bundle_id</th>\n",
       "      <th>correct_answer</th>\n",
       "      <th>part</th>\n",
       "      <th>nb_tags</th>\n",
       "      <th>92</th>\n",
       "      <th>38</th>\n",
       "      <th>81</th>\n",
       "      <th>29</th>\n",
       "      <th>136</th>\n",
       "      <th>...</th>\n",
       "      <th>1</th>\n",
       "      <th>96</th>\n",
       "      <th>12</th>\n",
       "      <th>97</th>\n",
       "      <th>67</th>\n",
       "      <th>55</th>\n",
       "      <th>27</th>\n",
       "      <th>122</th>\n",
       "      <th>79</th>\n",
       "      <th>is_reading_section</th>\n",
       "    </tr>\n",
       "  </thead>\n",
       "  <tbody>\n",
       "    <tr>\n",
       "      <th>0</th>\n",
       "      <td>0.0</td>\n",
       "      <td>0.0</td>\n",
       "      <td>0.0</td>\n",
       "      <td>1.0</td>\n",
       "      <td>4.0</td>\n",
       "      <td>0.0</td>\n",
       "      <td>1.0</td>\n",
       "      <td>0.0</td>\n",
       "      <td>0.0</td>\n",
       "      <td>0.0</td>\n",
       "      <td>...</td>\n",
       "      <td>0.0</td>\n",
       "      <td>0.0</td>\n",
       "      <td>0.0</td>\n",
       "      <td>0.0</td>\n",
       "      <td>0.0</td>\n",
       "      <td>0.0</td>\n",
       "      <td>0.0</td>\n",
       "      <td>0.0</td>\n",
       "      <td>0.0</td>\n",
       "      <td>0</td>\n",
       "    </tr>\n",
       "    <tr>\n",
       "      <th>1</th>\n",
       "      <td>1.0</td>\n",
       "      <td>1.0</td>\n",
       "      <td>1.0</td>\n",
       "      <td>1.0</td>\n",
       "      <td>3.0</td>\n",
       "      <td>0.0</td>\n",
       "      <td>0.0</td>\n",
       "      <td>1.0</td>\n",
       "      <td>0.0</td>\n",
       "      <td>0.0</td>\n",
       "      <td>...</td>\n",
       "      <td>0.0</td>\n",
       "      <td>0.0</td>\n",
       "      <td>0.0</td>\n",
       "      <td>0.0</td>\n",
       "      <td>0.0</td>\n",
       "      <td>0.0</td>\n",
       "      <td>0.0</td>\n",
       "      <td>0.0</td>\n",
       "      <td>0.0</td>\n",
       "      <td>0</td>\n",
       "    </tr>\n",
       "    <tr>\n",
       "      <th>2</th>\n",
       "      <td>2.0</td>\n",
       "      <td>2.0</td>\n",
       "      <td>0.0</td>\n",
       "      <td>1.0</td>\n",
       "      <td>4.0</td>\n",
       "      <td>1.0</td>\n",
       "      <td>0.0</td>\n",
       "      <td>0.0</td>\n",
       "      <td>0.0</td>\n",
       "      <td>0.0</td>\n",
       "      <td>...</td>\n",
       "      <td>0.0</td>\n",
       "      <td>0.0</td>\n",
       "      <td>0.0</td>\n",
       "      <td>0.0</td>\n",
       "      <td>0.0</td>\n",
       "      <td>0.0</td>\n",
       "      <td>0.0</td>\n",
       "      <td>0.0</td>\n",
       "      <td>0.0</td>\n",
       "      <td>0</td>\n",
       "    </tr>\n",
       "    <tr>\n",
       "      <th>3</th>\n",
       "      <td>3.0</td>\n",
       "      <td>3.0</td>\n",
       "      <td>0.0</td>\n",
       "      <td>1.0</td>\n",
       "      <td>4.0</td>\n",
       "      <td>0.0</td>\n",
       "      <td>0.0</td>\n",
       "      <td>0.0</td>\n",
       "      <td>1.0</td>\n",
       "      <td>0.0</td>\n",
       "      <td>...</td>\n",
       "      <td>0.0</td>\n",
       "      <td>0.0</td>\n",
       "      <td>0.0</td>\n",
       "      <td>0.0</td>\n",
       "      <td>0.0</td>\n",
       "      <td>0.0</td>\n",
       "      <td>0.0</td>\n",
       "      <td>0.0</td>\n",
       "      <td>0.0</td>\n",
       "      <td>0</td>\n",
       "    </tr>\n",
       "    <tr>\n",
       "      <th>4</th>\n",
       "      <td>4.0</td>\n",
       "      <td>4.0</td>\n",
       "      <td>3.0</td>\n",
       "      <td>1.0</td>\n",
       "      <td>4.0</td>\n",
       "      <td>0.0</td>\n",
       "      <td>1.0</td>\n",
       "      <td>0.0</td>\n",
       "      <td>0.0</td>\n",
       "      <td>0.0</td>\n",
       "      <td>...</td>\n",
       "      <td>0.0</td>\n",
       "      <td>0.0</td>\n",
       "      <td>0.0</td>\n",
       "      <td>0.0</td>\n",
       "      <td>0.0</td>\n",
       "      <td>0.0</td>\n",
       "      <td>0.0</td>\n",
       "      <td>0.0</td>\n",
       "      <td>0.0</td>\n",
       "      <td>0</td>\n",
       "    </tr>\n",
       "  </tbody>\n",
       "</table>\n",
       "<p>5 rows × 31 columns</p>\n",
       "</div>"
      ],
      "text/plain": [
       "   question_id  bundle_id  correct_answer  part  nb_tags   92   38   81   29  \\\n",
       "0          0.0        0.0             0.0   1.0      4.0  0.0  1.0  0.0  0.0   \n",
       "1          1.0        1.0             1.0   1.0      3.0  0.0  0.0  1.0  0.0   \n",
       "2          2.0        2.0             0.0   1.0      4.0  1.0  0.0  0.0  0.0   \n",
       "3          3.0        3.0             0.0   1.0      4.0  0.0  0.0  0.0  1.0   \n",
       "4          4.0        4.0             3.0   1.0      4.0  0.0  1.0  0.0  0.0   \n",
       "\n",
       "   136  ...    1   96   12   97   67   55   27  122   79  is_reading_section  \n",
       "0  0.0  ...  0.0  0.0  0.0  0.0  0.0  0.0  0.0  0.0  0.0                   0  \n",
       "1  0.0  ...  0.0  0.0  0.0  0.0  0.0  0.0  0.0  0.0  0.0                   0  \n",
       "2  0.0  ...  0.0  0.0  0.0  0.0  0.0  0.0  0.0  0.0  0.0                   0  \n",
       "3  0.0  ...  0.0  0.0  0.0  0.0  0.0  0.0  0.0  0.0  0.0                   0  \n",
       "4  0.0  ...  0.0  0.0  0.0  0.0  0.0  0.0  0.0  0.0  0.0                   0  \n",
       "\n",
       "[5 rows x 31 columns]"
      ]
     },
     "execution_count": 54,
     "metadata": {},
     "output_type": "execute_result"
    }
   ],
   "source": [
    "questions_df.head()"
   ]
  },
  {
   "cell_type": "markdown",
   "metadata": {
    "papermill": {
     "duration": 0.082057,
     "end_time": "2020-11-16T20:43:36.109367",
     "exception": false,
     "start_time": "2020-11-16T20:43:36.027310",
     "status": "completed"
    },
    "tags": []
   },
   "source": []
  },
  {
   "cell_type": "code",
   "execution_count": 55,
   "metadata": {
    "execution": {
     "iopub.execute_input": "2020-11-16T20:43:36.309678Z",
     "iopub.status.busy": "2020-11-16T20:43:36.308729Z",
     "iopub.status.idle": "2020-11-16T20:43:36.313797Z",
     "shell.execute_reply": "2020-11-16T20:43:36.313154Z"
    },
    "papermill": {
     "duration": 0.123398,
     "end_time": "2020-11-16T20:43:36.313908",
     "exception": false,
     "start_time": "2020-11-16T20:43:36.190510",
     "status": "completed"
    },
    "tags": []
   },
   "outputs": [
    {
     "data": {
      "text/html": [
       "<div>\n",
       "<style scoped>\n",
       "    .dataframe tbody tr th:only-of-type {\n",
       "        vertical-align: middle;\n",
       "    }\n",
       "\n",
       "    .dataframe tbody tr th {\n",
       "        vertical-align: top;\n",
       "    }\n",
       "\n",
       "    .dataframe thead th {\n",
       "        text-align: right;\n",
       "    }\n",
       "</style>\n",
       "<table border=\"1\" class=\"dataframe\">\n",
       "  <thead>\n",
       "    <tr style=\"text-align: right;\">\n",
       "      <th></th>\n",
       "      <th>question_id</th>\n",
       "      <th>bundle_id</th>\n",
       "      <th>correct_answer</th>\n",
       "      <th>part</th>\n",
       "      <th>nb_tags</th>\n",
       "      <th>92</th>\n",
       "      <th>38</th>\n",
       "      <th>81</th>\n",
       "      <th>29</th>\n",
       "      <th>136</th>\n",
       "      <th>...</th>\n",
       "      <th>1</th>\n",
       "      <th>96</th>\n",
       "      <th>12</th>\n",
       "      <th>97</th>\n",
       "      <th>67</th>\n",
       "      <th>55</th>\n",
       "      <th>27</th>\n",
       "      <th>122</th>\n",
       "      <th>79</th>\n",
       "      <th>is_reading_section</th>\n",
       "    </tr>\n",
       "  </thead>\n",
       "  <tbody>\n",
       "    <tr>\n",
       "      <th>0</th>\n",
       "      <td>0.0</td>\n",
       "      <td>0.0</td>\n",
       "      <td>0.0</td>\n",
       "      <td>1.0</td>\n",
       "      <td>4.0</td>\n",
       "      <td>0.0</td>\n",
       "      <td>1.0</td>\n",
       "      <td>0.0</td>\n",
       "      <td>0.0</td>\n",
       "      <td>0.0</td>\n",
       "      <td>...</td>\n",
       "      <td>0.0</td>\n",
       "      <td>0.0</td>\n",
       "      <td>0.0</td>\n",
       "      <td>0.0</td>\n",
       "      <td>0.0</td>\n",
       "      <td>0.0</td>\n",
       "      <td>0.0</td>\n",
       "      <td>0.0</td>\n",
       "      <td>0.0</td>\n",
       "      <td>0</td>\n",
       "    </tr>\n",
       "    <tr>\n",
       "      <th>1</th>\n",
       "      <td>1.0</td>\n",
       "      <td>1.0</td>\n",
       "      <td>1.0</td>\n",
       "      <td>1.0</td>\n",
       "      <td>3.0</td>\n",
       "      <td>0.0</td>\n",
       "      <td>0.0</td>\n",
       "      <td>1.0</td>\n",
       "      <td>0.0</td>\n",
       "      <td>0.0</td>\n",
       "      <td>...</td>\n",
       "      <td>0.0</td>\n",
       "      <td>0.0</td>\n",
       "      <td>0.0</td>\n",
       "      <td>0.0</td>\n",
       "      <td>0.0</td>\n",
       "      <td>0.0</td>\n",
       "      <td>0.0</td>\n",
       "      <td>0.0</td>\n",
       "      <td>0.0</td>\n",
       "      <td>0</td>\n",
       "    </tr>\n",
       "    <tr>\n",
       "      <th>2</th>\n",
       "      <td>2.0</td>\n",
       "      <td>2.0</td>\n",
       "      <td>0.0</td>\n",
       "      <td>1.0</td>\n",
       "      <td>4.0</td>\n",
       "      <td>1.0</td>\n",
       "      <td>0.0</td>\n",
       "      <td>0.0</td>\n",
       "      <td>0.0</td>\n",
       "      <td>0.0</td>\n",
       "      <td>...</td>\n",
       "      <td>0.0</td>\n",
       "      <td>0.0</td>\n",
       "      <td>0.0</td>\n",
       "      <td>0.0</td>\n",
       "      <td>0.0</td>\n",
       "      <td>0.0</td>\n",
       "      <td>0.0</td>\n",
       "      <td>0.0</td>\n",
       "      <td>0.0</td>\n",
       "      <td>0</td>\n",
       "    </tr>\n",
       "    <tr>\n",
       "      <th>3</th>\n",
       "      <td>3.0</td>\n",
       "      <td>3.0</td>\n",
       "      <td>0.0</td>\n",
       "      <td>1.0</td>\n",
       "      <td>4.0</td>\n",
       "      <td>0.0</td>\n",
       "      <td>0.0</td>\n",
       "      <td>0.0</td>\n",
       "      <td>1.0</td>\n",
       "      <td>0.0</td>\n",
       "      <td>...</td>\n",
       "      <td>0.0</td>\n",
       "      <td>0.0</td>\n",
       "      <td>0.0</td>\n",
       "      <td>0.0</td>\n",
       "      <td>0.0</td>\n",
       "      <td>0.0</td>\n",
       "      <td>0.0</td>\n",
       "      <td>0.0</td>\n",
       "      <td>0.0</td>\n",
       "      <td>0</td>\n",
       "    </tr>\n",
       "    <tr>\n",
       "      <th>4</th>\n",
       "      <td>4.0</td>\n",
       "      <td>4.0</td>\n",
       "      <td>3.0</td>\n",
       "      <td>1.0</td>\n",
       "      <td>4.0</td>\n",
       "      <td>0.0</td>\n",
       "      <td>1.0</td>\n",
       "      <td>0.0</td>\n",
       "      <td>0.0</td>\n",
       "      <td>0.0</td>\n",
       "      <td>...</td>\n",
       "      <td>0.0</td>\n",
       "      <td>0.0</td>\n",
       "      <td>0.0</td>\n",
       "      <td>0.0</td>\n",
       "      <td>0.0</td>\n",
       "      <td>0.0</td>\n",
       "      <td>0.0</td>\n",
       "      <td>0.0</td>\n",
       "      <td>0.0</td>\n",
       "      <td>0</td>\n",
       "    </tr>\n",
       "    <tr>\n",
       "      <th>5</th>\n",
       "      <td>5.0</td>\n",
       "      <td>5.0</td>\n",
       "      <td>2.0</td>\n",
       "      <td>1.0</td>\n",
       "      <td>4.0</td>\n",
       "      <td>0.0</td>\n",
       "      <td>0.0</td>\n",
       "      <td>1.0</td>\n",
       "      <td>0.0</td>\n",
       "      <td>0.0</td>\n",
       "      <td>...</td>\n",
       "      <td>0.0</td>\n",
       "      <td>0.0</td>\n",
       "      <td>0.0</td>\n",
       "      <td>0.0</td>\n",
       "      <td>0.0</td>\n",
       "      <td>0.0</td>\n",
       "      <td>0.0</td>\n",
       "      <td>0.0</td>\n",
       "      <td>0.0</td>\n",
       "      <td>0</td>\n",
       "    </tr>\n",
       "    <tr>\n",
       "      <th>6</th>\n",
       "      <td>6.0</td>\n",
       "      <td>6.0</td>\n",
       "      <td>2.0</td>\n",
       "      <td>1.0</td>\n",
       "      <td>4.0</td>\n",
       "      <td>1.0</td>\n",
       "      <td>0.0</td>\n",
       "      <td>0.0</td>\n",
       "      <td>0.0</td>\n",
       "      <td>0.0</td>\n",
       "      <td>...</td>\n",
       "      <td>0.0</td>\n",
       "      <td>0.0</td>\n",
       "      <td>0.0</td>\n",
       "      <td>0.0</td>\n",
       "      <td>0.0</td>\n",
       "      <td>0.0</td>\n",
       "      <td>0.0</td>\n",
       "      <td>0.0</td>\n",
       "      <td>0.0</td>\n",
       "      <td>0</td>\n",
       "    </tr>\n",
       "    <tr>\n",
       "      <th>7</th>\n",
       "      <td>7.0</td>\n",
       "      <td>7.0</td>\n",
       "      <td>0.0</td>\n",
       "      <td>1.0</td>\n",
       "      <td>4.0</td>\n",
       "      <td>0.0</td>\n",
       "      <td>0.0</td>\n",
       "      <td>0.0</td>\n",
       "      <td>1.0</td>\n",
       "      <td>0.0</td>\n",
       "      <td>...</td>\n",
       "      <td>0.0</td>\n",
       "      <td>0.0</td>\n",
       "      <td>0.0</td>\n",
       "      <td>0.0</td>\n",
       "      <td>0.0</td>\n",
       "      <td>0.0</td>\n",
       "      <td>0.0</td>\n",
       "      <td>0.0</td>\n",
       "      <td>0.0</td>\n",
       "      <td>0</td>\n",
       "    </tr>\n",
       "    <tr>\n",
       "      <th>8</th>\n",
       "      <td>8.0</td>\n",
       "      <td>8.0</td>\n",
       "      <td>3.0</td>\n",
       "      <td>1.0</td>\n",
       "      <td>4.0</td>\n",
       "      <td>1.0</td>\n",
       "      <td>0.0</td>\n",
       "      <td>0.0</td>\n",
       "      <td>0.0</td>\n",
       "      <td>0.0</td>\n",
       "      <td>...</td>\n",
       "      <td>0.0</td>\n",
       "      <td>0.0</td>\n",
       "      <td>0.0</td>\n",
       "      <td>0.0</td>\n",
       "      <td>0.0</td>\n",
       "      <td>0.0</td>\n",
       "      <td>0.0</td>\n",
       "      <td>0.0</td>\n",
       "      <td>0.0</td>\n",
       "      <td>0</td>\n",
       "    </tr>\n",
       "    <tr>\n",
       "      <th>9</th>\n",
       "      <td>9.0</td>\n",
       "      <td>9.0</td>\n",
       "      <td>3.0</td>\n",
       "      <td>1.0</td>\n",
       "      <td>3.0</td>\n",
       "      <td>0.0</td>\n",
       "      <td>0.0</td>\n",
       "      <td>1.0</td>\n",
       "      <td>0.0</td>\n",
       "      <td>0.0</td>\n",
       "      <td>...</td>\n",
       "      <td>0.0</td>\n",
       "      <td>0.0</td>\n",
       "      <td>0.0</td>\n",
       "      <td>0.0</td>\n",
       "      <td>0.0</td>\n",
       "      <td>0.0</td>\n",
       "      <td>0.0</td>\n",
       "      <td>0.0</td>\n",
       "      <td>0.0</td>\n",
       "      <td>0</td>\n",
       "    </tr>\n",
       "    <tr>\n",
       "      <th>10</th>\n",
       "      <td>10.0</td>\n",
       "      <td>10.0</td>\n",
       "      <td>0.0</td>\n",
       "      <td>1.0</td>\n",
       "      <td>3.0</td>\n",
       "      <td>0.0</td>\n",
       "      <td>1.0</td>\n",
       "      <td>0.0</td>\n",
       "      <td>0.0</td>\n",
       "      <td>0.0</td>\n",
       "      <td>...</td>\n",
       "      <td>0.0</td>\n",
       "      <td>0.0</td>\n",
       "      <td>0.0</td>\n",
       "      <td>0.0</td>\n",
       "      <td>0.0</td>\n",
       "      <td>0.0</td>\n",
       "      <td>0.0</td>\n",
       "      <td>0.0</td>\n",
       "      <td>0.0</td>\n",
       "      <td>0</td>\n",
       "    </tr>\n",
       "    <tr>\n",
       "      <th>11</th>\n",
       "      <td>11.0</td>\n",
       "      <td>11.0</td>\n",
       "      <td>3.0</td>\n",
       "      <td>1.0</td>\n",
       "      <td>3.0</td>\n",
       "      <td>0.0</td>\n",
       "      <td>0.0</td>\n",
       "      <td>1.0</td>\n",
       "      <td>0.0</td>\n",
       "      <td>0.0</td>\n",
       "      <td>...</td>\n",
       "      <td>0.0</td>\n",
       "      <td>0.0</td>\n",
       "      <td>0.0</td>\n",
       "      <td>0.0</td>\n",
       "      <td>0.0</td>\n",
       "      <td>0.0</td>\n",
       "      <td>0.0</td>\n",
       "      <td>0.0</td>\n",
       "      <td>0.0</td>\n",
       "      <td>0</td>\n",
       "    </tr>\n",
       "    <tr>\n",
       "      <th>12</th>\n",
       "      <td>12.0</td>\n",
       "      <td>12.0</td>\n",
       "      <td>1.0</td>\n",
       "      <td>1.0</td>\n",
       "      <td>3.0</td>\n",
       "      <td>1.0</td>\n",
       "      <td>0.0</td>\n",
       "      <td>0.0</td>\n",
       "      <td>0.0</td>\n",
       "      <td>0.0</td>\n",
       "      <td>...</td>\n",
       "      <td>0.0</td>\n",
       "      <td>0.0</td>\n",
       "      <td>0.0</td>\n",
       "      <td>0.0</td>\n",
       "      <td>0.0</td>\n",
       "      <td>0.0</td>\n",
       "      <td>0.0</td>\n",
       "      <td>0.0</td>\n",
       "      <td>0.0</td>\n",
       "      <td>0</td>\n",
       "    </tr>\n",
       "    <tr>\n",
       "      <th>13</th>\n",
       "      <td>13.0</td>\n",
       "      <td>13.0</td>\n",
       "      <td>1.0</td>\n",
       "      <td>1.0</td>\n",
       "      <td>3.0</td>\n",
       "      <td>0.0</td>\n",
       "      <td>0.0</td>\n",
       "      <td>0.0</td>\n",
       "      <td>1.0</td>\n",
       "      <td>0.0</td>\n",
       "      <td>...</td>\n",
       "      <td>0.0</td>\n",
       "      <td>0.0</td>\n",
       "      <td>0.0</td>\n",
       "      <td>0.0</td>\n",
       "      <td>0.0</td>\n",
       "      <td>0.0</td>\n",
       "      <td>0.0</td>\n",
       "      <td>0.0</td>\n",
       "      <td>0.0</td>\n",
       "      <td>0</td>\n",
       "    </tr>\n",
       "    <tr>\n",
       "      <th>14</th>\n",
       "      <td>14.0</td>\n",
       "      <td>14.0</td>\n",
       "      <td>2.0</td>\n",
       "      <td>1.0</td>\n",
       "      <td>3.0</td>\n",
       "      <td>0.0</td>\n",
       "      <td>1.0</td>\n",
       "      <td>0.0</td>\n",
       "      <td>0.0</td>\n",
       "      <td>0.0</td>\n",
       "      <td>...</td>\n",
       "      <td>0.0</td>\n",
       "      <td>0.0</td>\n",
       "      <td>0.0</td>\n",
       "      <td>0.0</td>\n",
       "      <td>0.0</td>\n",
       "      <td>0.0</td>\n",
       "      <td>0.0</td>\n",
       "      <td>0.0</td>\n",
       "      <td>0.0</td>\n",
       "      <td>0</td>\n",
       "    </tr>\n",
       "    <tr>\n",
       "      <th>15</th>\n",
       "      <td>15.0</td>\n",
       "      <td>15.0</td>\n",
       "      <td>3.0</td>\n",
       "      <td>1.0</td>\n",
       "      <td>3.0</td>\n",
       "      <td>0.0</td>\n",
       "      <td>0.0</td>\n",
       "      <td>1.0</td>\n",
       "      <td>0.0</td>\n",
       "      <td>0.0</td>\n",
       "      <td>...</td>\n",
       "      <td>0.0</td>\n",
       "      <td>0.0</td>\n",
       "      <td>0.0</td>\n",
       "      <td>0.0</td>\n",
       "      <td>0.0</td>\n",
       "      <td>0.0</td>\n",
       "      <td>0.0</td>\n",
       "      <td>0.0</td>\n",
       "      <td>0.0</td>\n",
       "      <td>0</td>\n",
       "    </tr>\n",
       "    <tr>\n",
       "      <th>16</th>\n",
       "      <td>16.0</td>\n",
       "      <td>16.0</td>\n",
       "      <td>3.0</td>\n",
       "      <td>1.0</td>\n",
       "      <td>3.0</td>\n",
       "      <td>1.0</td>\n",
       "      <td>0.0</td>\n",
       "      <td>0.0</td>\n",
       "      <td>0.0</td>\n",
       "      <td>0.0</td>\n",
       "      <td>...</td>\n",
       "      <td>0.0</td>\n",
       "      <td>0.0</td>\n",
       "      <td>0.0</td>\n",
       "      <td>0.0</td>\n",
       "      <td>0.0</td>\n",
       "      <td>0.0</td>\n",
       "      <td>0.0</td>\n",
       "      <td>0.0</td>\n",
       "      <td>0.0</td>\n",
       "      <td>0</td>\n",
       "    </tr>\n",
       "    <tr>\n",
       "      <th>17</th>\n",
       "      <td>17.0</td>\n",
       "      <td>17.0</td>\n",
       "      <td>0.0</td>\n",
       "      <td>1.0</td>\n",
       "      <td>4.0</td>\n",
       "      <td>0.0</td>\n",
       "      <td>0.0</td>\n",
       "      <td>0.0</td>\n",
       "      <td>1.0</td>\n",
       "      <td>0.0</td>\n",
       "      <td>...</td>\n",
       "      <td>0.0</td>\n",
       "      <td>0.0</td>\n",
       "      <td>0.0</td>\n",
       "      <td>0.0</td>\n",
       "      <td>0.0</td>\n",
       "      <td>0.0</td>\n",
       "      <td>0.0</td>\n",
       "      <td>0.0</td>\n",
       "      <td>0.0</td>\n",
       "      <td>0</td>\n",
       "    </tr>\n",
       "    <tr>\n",
       "      <th>18</th>\n",
       "      <td>18.0</td>\n",
       "      <td>18.0</td>\n",
       "      <td>1.0</td>\n",
       "      <td>1.0</td>\n",
       "      <td>3.0</td>\n",
       "      <td>1.0</td>\n",
       "      <td>0.0</td>\n",
       "      <td>0.0</td>\n",
       "      <td>0.0</td>\n",
       "      <td>0.0</td>\n",
       "      <td>...</td>\n",
       "      <td>0.0</td>\n",
       "      <td>0.0</td>\n",
       "      <td>0.0</td>\n",
       "      <td>0.0</td>\n",
       "      <td>0.0</td>\n",
       "      <td>0.0</td>\n",
       "      <td>0.0</td>\n",
       "      <td>0.0</td>\n",
       "      <td>0.0</td>\n",
       "      <td>0</td>\n",
       "    </tr>\n",
       "    <tr>\n",
       "      <th>19</th>\n",
       "      <td>19.0</td>\n",
       "      <td>19.0</td>\n",
       "      <td>0.0</td>\n",
       "      <td>1.0</td>\n",
       "      <td>4.0</td>\n",
       "      <td>0.0</td>\n",
       "      <td>0.0</td>\n",
       "      <td>1.0</td>\n",
       "      <td>0.0</td>\n",
       "      <td>0.0</td>\n",
       "      <td>...</td>\n",
       "      <td>0.0</td>\n",
       "      <td>0.0</td>\n",
       "      <td>0.0</td>\n",
       "      <td>0.0</td>\n",
       "      <td>0.0</td>\n",
       "      <td>0.0</td>\n",
       "      <td>0.0</td>\n",
       "      <td>0.0</td>\n",
       "      <td>0.0</td>\n",
       "      <td>0</td>\n",
       "    </tr>\n",
       "  </tbody>\n",
       "</table>\n",
       "<p>20 rows × 31 columns</p>\n",
       "</div>"
      ],
      "text/plain": [
       "    question_id  bundle_id  correct_answer  part  nb_tags   92   38   81   29  \\\n",
       "0           0.0        0.0             0.0   1.0      4.0  0.0  1.0  0.0  0.0   \n",
       "1           1.0        1.0             1.0   1.0      3.0  0.0  0.0  1.0  0.0   \n",
       "2           2.0        2.0             0.0   1.0      4.0  1.0  0.0  0.0  0.0   \n",
       "3           3.0        3.0             0.0   1.0      4.0  0.0  0.0  0.0  1.0   \n",
       "4           4.0        4.0             3.0   1.0      4.0  0.0  1.0  0.0  0.0   \n",
       "5           5.0        5.0             2.0   1.0      4.0  0.0  0.0  1.0  0.0   \n",
       "6           6.0        6.0             2.0   1.0      4.0  1.0  0.0  0.0  0.0   \n",
       "7           7.0        7.0             0.0   1.0      4.0  0.0  0.0  0.0  1.0   \n",
       "8           8.0        8.0             3.0   1.0      4.0  1.0  0.0  0.0  0.0   \n",
       "9           9.0        9.0             3.0   1.0      3.0  0.0  0.0  1.0  0.0   \n",
       "10         10.0       10.0             0.0   1.0      3.0  0.0  1.0  0.0  0.0   \n",
       "11         11.0       11.0             3.0   1.0      3.0  0.0  0.0  1.0  0.0   \n",
       "12         12.0       12.0             1.0   1.0      3.0  1.0  0.0  0.0  0.0   \n",
       "13         13.0       13.0             1.0   1.0      3.0  0.0  0.0  0.0  1.0   \n",
       "14         14.0       14.0             2.0   1.0      3.0  0.0  1.0  0.0  0.0   \n",
       "15         15.0       15.0             3.0   1.0      3.0  0.0  0.0  1.0  0.0   \n",
       "16         16.0       16.0             3.0   1.0      3.0  1.0  0.0  0.0  0.0   \n",
       "17         17.0       17.0             0.0   1.0      4.0  0.0  0.0  0.0  1.0   \n",
       "18         18.0       18.0             1.0   1.0      3.0  1.0  0.0  0.0  0.0   \n",
       "19         19.0       19.0             0.0   1.0      4.0  0.0  0.0  1.0  0.0   \n",
       "\n",
       "    136  ...    1   96   12   97   67   55   27  122   79  is_reading_section  \n",
       "0   0.0  ...  0.0  0.0  0.0  0.0  0.0  0.0  0.0  0.0  0.0                   0  \n",
       "1   0.0  ...  0.0  0.0  0.0  0.0  0.0  0.0  0.0  0.0  0.0                   0  \n",
       "2   0.0  ...  0.0  0.0  0.0  0.0  0.0  0.0  0.0  0.0  0.0                   0  \n",
       "3   0.0  ...  0.0  0.0  0.0  0.0  0.0  0.0  0.0  0.0  0.0                   0  \n",
       "4   0.0  ...  0.0  0.0  0.0  0.0  0.0  0.0  0.0  0.0  0.0                   0  \n",
       "5   0.0  ...  0.0  0.0  0.0  0.0  0.0  0.0  0.0  0.0  0.0                   0  \n",
       "6   0.0  ...  0.0  0.0  0.0  0.0  0.0  0.0  0.0  0.0  0.0                   0  \n",
       "7   0.0  ...  0.0  0.0  0.0  0.0  0.0  0.0  0.0  0.0  0.0                   0  \n",
       "8   0.0  ...  0.0  0.0  0.0  0.0  0.0  0.0  0.0  0.0  0.0                   0  \n",
       "9   0.0  ...  0.0  0.0  0.0  0.0  0.0  0.0  0.0  0.0  0.0                   0  \n",
       "10  0.0  ...  0.0  0.0  0.0  0.0  0.0  0.0  0.0  0.0  0.0                   0  \n",
       "11  0.0  ...  0.0  0.0  0.0  0.0  0.0  0.0  0.0  0.0  0.0                   0  \n",
       "12  0.0  ...  0.0  0.0  0.0  0.0  0.0  0.0  0.0  0.0  0.0                   0  \n",
       "13  0.0  ...  0.0  0.0  0.0  0.0  0.0  0.0  0.0  0.0  0.0                   0  \n",
       "14  0.0  ...  0.0  0.0  0.0  0.0  0.0  0.0  0.0  0.0  0.0                   0  \n",
       "15  0.0  ...  0.0  0.0  0.0  0.0  0.0  0.0  0.0  0.0  0.0                   0  \n",
       "16  0.0  ...  0.0  0.0  0.0  0.0  0.0  0.0  0.0  0.0  0.0                   0  \n",
       "17  0.0  ...  0.0  0.0  0.0  0.0  0.0  0.0  0.0  0.0  0.0                   0  \n",
       "18  0.0  ...  0.0  0.0  0.0  0.0  0.0  0.0  0.0  0.0  0.0                   0  \n",
       "19  0.0  ...  0.0  0.0  0.0  0.0  0.0  0.0  0.0  0.0  0.0                   0  \n",
       "\n",
       "[20 rows x 31 columns]"
      ]
     },
     "execution_count": 55,
     "metadata": {},
     "output_type": "execute_result"
    }
   ],
   "source": [
    "questions_df.head(20)"
   ]
  },
  {
   "cell_type": "markdown",
   "metadata": {
    "papermill": {
     "duration": 0.08159,
     "end_time": "2020-11-16T20:43:36.477948",
     "exception": false,
     "start_time": "2020-11-16T20:43:36.396358",
     "status": "completed"
    },
    "tags": []
   },
   "source": [
    "## Lectures.csv"
   ]
  },
  {
   "cell_type": "code",
   "execution_count": null,
   "metadata": {
    "papermill": {
     "duration": 0.092313,
     "end_time": "2020-11-16T20:43:36.652422",
     "exception": false,
     "start_time": "2020-11-16T20:43:36.560109",
     "status": "completed"
    },
    "tags": []
   },
   "outputs": [],
   "source": []
  },
  {
   "cell_type": "code",
   "execution_count": null,
   "metadata": {
    "papermill": {
     "duration": 0.089906,
     "end_time": "2020-11-16T20:43:36.844831",
     "exception": false,
     "start_time": "2020-11-16T20:43:36.754925",
     "status": "completed"
    },
    "tags": []
   },
   "outputs": [],
   "source": []
  },
  {
   "cell_type": "code",
   "execution_count": null,
   "metadata": {
    "papermill": {
     "duration": 0.083978,
     "end_time": "2020-11-16T20:43:37.021064",
     "exception": false,
     "start_time": "2020-11-16T20:43:36.937086",
     "status": "completed"
    },
    "tags": []
   },
   "outputs": [],
   "source": []
  },
  {
   "cell_type": "code",
   "execution_count": null,
   "metadata": {
    "papermill": {
     "duration": 0.084462,
     "end_time": "2020-11-16T20:43:37.191402",
     "exception": false,
     "start_time": "2020-11-16T20:43:37.106940",
     "status": "completed"
    },
    "tags": []
   },
   "outputs": [],
   "source": []
  },
  {
   "cell_type": "markdown",
   "metadata": {
    "papermill": {
     "duration": 0.088249,
     "end_time": "2020-11-16T20:43:37.364101",
     "exception": false,
     "start_time": "2020-11-16T20:43:37.275852",
     "status": "completed"
    },
    "tags": []
   },
   "source": [
    "## Merge questions and train"
   ]
  },
  {
   "cell_type": "code",
   "execution_count": 56,
   "metadata": {
    "execution": {
     "iopub.execute_input": "2020-11-16T20:43:37.535793Z",
     "iopub.status.busy": "2020-11-16T20:43:37.534725Z",
     "iopub.status.idle": "2020-11-16T20:43:38.411125Z",
     "shell.execute_reply": "2020-11-16T20:43:38.410544Z"
    },
    "papermill": {
     "duration": 0.964694,
     "end_time": "2020-11-16T20:43:38.411252",
     "exception": false,
     "start_time": "2020-11-16T20:43:37.446558",
     "status": "completed"
    },
    "tags": []
   },
   "outputs": [],
   "source": [
    "train_df = pd.merge(train_df,questions_df, how='left', left_on='content_id', right_on='question_id').sort_values('row_id')\n"
   ]
  },
  {
   "cell_type": "code",
   "execution_count": 57,
   "metadata": {
    "execution": {
     "iopub.execute_input": "2020-11-16T20:43:38.601834Z",
     "iopub.status.busy": "2020-11-16T20:43:38.600854Z",
     "iopub.status.idle": "2020-11-16T20:43:38.605575Z",
     "shell.execute_reply": "2020-11-16T20:43:38.604954Z"
    },
    "papermill": {
     "duration": 0.111972,
     "end_time": "2020-11-16T20:43:38.605737",
     "exception": false,
     "start_time": "2020-11-16T20:43:38.493765",
     "status": "completed"
    },
    "tags": []
   },
   "outputs": [
    {
     "data": {
      "text/html": [
       "<div>\n",
       "<style scoped>\n",
       "    .dataframe tbody tr th:only-of-type {\n",
       "        vertical-align: middle;\n",
       "    }\n",
       "\n",
       "    .dataframe tbody tr th {\n",
       "        vertical-align: top;\n",
       "    }\n",
       "\n",
       "    .dataframe thead th {\n",
       "        text-align: right;\n",
       "    }\n",
       "</style>\n",
       "<table border=\"1\" class=\"dataframe\">\n",
       "  <thead>\n",
       "    <tr style=\"text-align: right;\">\n",
       "      <th></th>\n",
       "      <th>row_id</th>\n",
       "      <th>timestamp</th>\n",
       "      <th>user_id</th>\n",
       "      <th>content_id</th>\n",
       "      <th>content_type_id</th>\n",
       "      <th>task_container_id</th>\n",
       "      <th>user_answer</th>\n",
       "      <th>answered_correctly</th>\n",
       "      <th>prior_question_elapsed_time</th>\n",
       "      <th>prior_question_had_explanation</th>\n",
       "      <th>...</th>\n",
       "      <th>1</th>\n",
       "      <th>96</th>\n",
       "      <th>12</th>\n",
       "      <th>97</th>\n",
       "      <th>67</th>\n",
       "      <th>55</th>\n",
       "      <th>27</th>\n",
       "      <th>122</th>\n",
       "      <th>79</th>\n",
       "      <th>is_reading_section</th>\n",
       "    </tr>\n",
       "  </thead>\n",
       "  <tbody>\n",
       "    <tr>\n",
       "      <th>0</th>\n",
       "      <td>0</td>\n",
       "      <td>0</td>\n",
       "      <td>115</td>\n",
       "      <td>5692</td>\n",
       "      <td>0</td>\n",
       "      <td>1</td>\n",
       "      <td>3</td>\n",
       "      <td>1</td>\n",
       "      <td>25314.974609</td>\n",
       "      <td>False</td>\n",
       "      <td>...</td>\n",
       "      <td>0.0</td>\n",
       "      <td>0.0</td>\n",
       "      <td>0.0</td>\n",
       "      <td>0.0</td>\n",
       "      <td>0.0</td>\n",
       "      <td>0.0</td>\n",
       "      <td>0.0</td>\n",
       "      <td>0.0</td>\n",
       "      <td>0.0</td>\n",
       "      <td>1.0</td>\n",
       "    </tr>\n",
       "    <tr>\n",
       "      <th>1</th>\n",
       "      <td>1</td>\n",
       "      <td>56943</td>\n",
       "      <td>115</td>\n",
       "      <td>5716</td>\n",
       "      <td>0</td>\n",
       "      <td>2</td>\n",
       "      <td>2</td>\n",
       "      <td>1</td>\n",
       "      <td>37000.000000</td>\n",
       "      <td>False</td>\n",
       "      <td>...</td>\n",
       "      <td>0.0</td>\n",
       "      <td>0.0</td>\n",
       "      <td>0.0</td>\n",
       "      <td>0.0</td>\n",
       "      <td>0.0</td>\n",
       "      <td>0.0</td>\n",
       "      <td>0.0</td>\n",
       "      <td>0.0</td>\n",
       "      <td>0.0</td>\n",
       "      <td>1.0</td>\n",
       "    </tr>\n",
       "    <tr>\n",
       "      <th>2</th>\n",
       "      <td>2</td>\n",
       "      <td>118363</td>\n",
       "      <td>115</td>\n",
       "      <td>128</td>\n",
       "      <td>0</td>\n",
       "      <td>0</td>\n",
       "      <td>0</td>\n",
       "      <td>1</td>\n",
       "      <td>55000.000000</td>\n",
       "      <td>False</td>\n",
       "      <td>...</td>\n",
       "      <td>0.0</td>\n",
       "      <td>0.0</td>\n",
       "      <td>0.0</td>\n",
       "      <td>0.0</td>\n",
       "      <td>0.0</td>\n",
       "      <td>0.0</td>\n",
       "      <td>0.0</td>\n",
       "      <td>0.0</td>\n",
       "      <td>0.0</td>\n",
       "      <td>0.0</td>\n",
       "    </tr>\n",
       "    <tr>\n",
       "      <th>3</th>\n",
       "      <td>3</td>\n",
       "      <td>131167</td>\n",
       "      <td>115</td>\n",
       "      <td>7860</td>\n",
       "      <td>0</td>\n",
       "      <td>3</td>\n",
       "      <td>0</td>\n",
       "      <td>1</td>\n",
       "      <td>19000.000000</td>\n",
       "      <td>False</td>\n",
       "      <td>...</td>\n",
       "      <td>0.0</td>\n",
       "      <td>0.0</td>\n",
       "      <td>0.0</td>\n",
       "      <td>0.0</td>\n",
       "      <td>0.0</td>\n",
       "      <td>0.0</td>\n",
       "      <td>0.0</td>\n",
       "      <td>0.0</td>\n",
       "      <td>0.0</td>\n",
       "      <td>0.0</td>\n",
       "    </tr>\n",
       "    <tr>\n",
       "      <th>4</th>\n",
       "      <td>4</td>\n",
       "      <td>137965</td>\n",
       "      <td>115</td>\n",
       "      <td>7922</td>\n",
       "      <td>0</td>\n",
       "      <td>4</td>\n",
       "      <td>1</td>\n",
       "      <td>1</td>\n",
       "      <td>11000.000000</td>\n",
       "      <td>False</td>\n",
       "      <td>...</td>\n",
       "      <td>0.0</td>\n",
       "      <td>0.0</td>\n",
       "      <td>0.0</td>\n",
       "      <td>0.0</td>\n",
       "      <td>0.0</td>\n",
       "      <td>0.0</td>\n",
       "      <td>0.0</td>\n",
       "      <td>0.0</td>\n",
       "      <td>0.0</td>\n",
       "      <td>0.0</td>\n",
       "    </tr>\n",
       "  </tbody>\n",
       "</table>\n",
       "<p>5 rows × 44 columns</p>\n",
       "</div>"
      ],
      "text/plain": [
       "   row_id  timestamp  user_id  content_id  content_type_id  task_container_id  \\\n",
       "0       0          0      115        5692                0                  1   \n",
       "1       1      56943      115        5716                0                  2   \n",
       "2       2     118363      115         128                0                  0   \n",
       "3       3     131167      115        7860                0                  3   \n",
       "4       4     137965      115        7922                0                  4   \n",
       "\n",
       "   user_answer  answered_correctly  prior_question_elapsed_time  \\\n",
       "0            3                   1                 25314.974609   \n",
       "1            2                   1                 37000.000000   \n",
       "2            0                   1                 55000.000000   \n",
       "3            0                   1                 19000.000000   \n",
       "4            1                   1                 11000.000000   \n",
       "\n",
       "   prior_question_had_explanation  ...    1   96   12   97   67   55   27  \\\n",
       "0                           False  ...  0.0  0.0  0.0  0.0  0.0  0.0  0.0   \n",
       "1                           False  ...  0.0  0.0  0.0  0.0  0.0  0.0  0.0   \n",
       "2                           False  ...  0.0  0.0  0.0  0.0  0.0  0.0  0.0   \n",
       "3                           False  ...  0.0  0.0  0.0  0.0  0.0  0.0  0.0   \n",
       "4                           False  ...  0.0  0.0  0.0  0.0  0.0  0.0  0.0   \n",
       "\n",
       "   122   79  is_reading_section  \n",
       "0  0.0  0.0                 1.0  \n",
       "1  0.0  0.0                 1.0  \n",
       "2  0.0  0.0                 0.0  \n",
       "3  0.0  0.0                 0.0  \n",
       "4  0.0  0.0                 0.0  \n",
       "\n",
       "[5 rows x 44 columns]"
      ]
     },
     "execution_count": 57,
     "metadata": {},
     "output_type": "execute_result"
    }
   ],
   "source": [
    "train_df.head()\n",
    "#train_df[train_df['1'] == 1]"
   ]
  },
  {
   "cell_type": "markdown",
   "metadata": {
    "papermill": {
     "duration": 0.084205,
     "end_time": "2020-11-16T20:43:38.774961",
     "exception": false,
     "start_time": "2020-11-16T20:43:38.690756",
     "status": "completed"
    },
    "tags": []
   },
   "source": [
    "* ### Box plot entre 2 variables : qualitatives et quantitative"
   ]
  },
  {
   "cell_type": "code",
   "execution_count": 58,
   "metadata": {
    "execution": {
     "iopub.execute_input": "2020-11-16T20:43:38.984954Z",
     "iopub.status.busy": "2020-11-16T20:43:38.984306Z",
     "iopub.status.idle": "2020-11-16T20:43:40.492375Z",
     "shell.execute_reply": "2020-11-16T20:43:40.491746Z"
    },
    "papermill": {
     "duration": 1.617507,
     "end_time": "2020-11-16T20:43:40.492495",
     "exception": false,
     "start_time": "2020-11-16T20:43:38.874988",
     "status": "completed"
    },
    "tags": []
   },
   "outputs": [
    {
     "name": "stderr",
     "output_type": "stream",
     "text": [
      "/opt/conda/lib/python3.7/site-packages/ipykernel_launcher.py:15: UserWarning: Boolean Series key will be reindexed to match DataFrame index.\n",
      "  from ipykernel import kernelapp as app\n",
      "/opt/conda/lib/python3.7/site-packages/ipykernel_launcher.py:15: UserWarning: Boolean Series key will be reindexed to match DataFrame index.\n",
      "  from ipykernel import kernelapp as app\n",
      "/opt/conda/lib/python3.7/site-packages/ipykernel_launcher.py:15: UserWarning: Boolean Series key will be reindexed to match DataFrame index.\n",
      "  from ipykernel import kernelapp as app\n",
      "/opt/conda/lib/python3.7/site-packages/ipykernel_launcher.py:15: UserWarning: Boolean Series key will be reindexed to match DataFrame index.\n",
      "  from ipykernel import kernelapp as app\n"
     ]
    },
    {
     "data": {
      "image/png": "[encoded data removed]",
      "text/plain": [
       "<Figure size 432x432 with 1 Axes>"
      ]
     },
     "metadata": {
      "needs_background": "light"
     },
     "output_type": "display_data"
    },
    {
     "name": "stderr",
     "output_type": "stream",
     "text": [
      "/opt/conda/lib/python3.7/site-packages/ipykernel_launcher.py:15: UserWarning: Boolean Series key will be reindexed to match DataFrame index.\n",
      "  from ipykernel import kernelapp as app\n",
      "/opt/conda/lib/python3.7/site-packages/ipykernel_launcher.py:15: UserWarning: Boolean Series key will be reindexed to match DataFrame index.\n",
      "  from ipykernel import kernelapp as app\n",
      "/opt/conda/lib/python3.7/site-packages/ipykernel_launcher.py:15: UserWarning: Boolean Series key will be reindexed to match DataFrame index.\n",
      "  from ipykernel import kernelapp as app\n",
      "/opt/conda/lib/python3.7/site-packages/ipykernel_launcher.py:15: UserWarning: Boolean Series key will be reindexed to match DataFrame index.\n",
      "  from ipykernel import kernelapp as app\n"
     ]
    },
    {
     "data": {
      "image/png": "[encoded data removed]",
      "text/plain": [
       "<Figure size 432x432 with 1 Axes>"
      ]
     },
     "metadata": {
      "needs_background": "light"
     },
     "output_type": "display_data"
    }
   ],
   "source": [
    "X = \"user_answer\" # qualitative\n",
    "data_df = train_df[train_df['user_answer'] >=0].sort_index()\n",
    "\n",
    "\n",
    "modalites = np.sort(data_df[X].unique())\n",
    "modalites = modalites[::-1]\n",
    "\n",
    "list_columns = ['timestamp', 'prior_question_elapsed_time']\n",
    "\n",
    "for column in list_columns:\n",
    "    Y = column # quantitative\n",
    "    fig, ax = plt.subplots(figsize=(6, 6))\n",
    "    groupes = []\n",
    "    for m in modalites:\n",
    "        groupes.append(data_df[(train_df[X]==m) & (~(train_df[Y].isna()))][Y])\n",
    "\n",
    "    # Propriétés graphiques (pas très importantes)    \n",
    "    medianprops = {'color':\"black\"}\n",
    "    meanprops = {'marker':'o', 'markeredgecolor':'black',\n",
    "                'markerfacecolor':'firebrick'}\n",
    "    plt.title(X + ' en fonction de '+column)\n",
    "    plt.ylabel(X)\n",
    "    plt.xlabel(column)    \n",
    "    plt.boxplot(groupes, labels=modalites, showfliers=False, medianprops=medianprops, vert=False, patch_artist=True, showmeans=True, meanprops=meanprops)\n",
    "    plt.show()"
   ]
  },
  {
   "cell_type": "code",
   "execution_count": 59,
   "metadata": {
    "execution": {
     "iopub.execute_input": "2020-11-16T20:43:40.687673Z",
     "iopub.status.busy": "2020-11-16T20:43:40.687039Z",
     "iopub.status.idle": "2020-11-16T20:43:40.755981Z",
     "shell.execute_reply": "2020-11-16T20:43:40.756500Z"
    },
    "papermill": {
     "duration": 0.178158,
     "end_time": "2020-11-16T20:43:40.756676",
     "exception": false,
     "start_time": "2020-11-16T20:43:40.578518",
     "status": "completed"
    },
    "tags": []
   },
   "outputs": [
    {
     "name": "stdout",
     "output_type": "stream",
     "text": [
      "          answered_correctly  prior_question_elapsed_time     timestamp\n",
      "user_id                                                                \n",
      "115                 0.695652                 20050.304688  1.021248e+08\n",
      "124                 0.233333                 19010.398438  3.678599e+05\n",
      "2746                0.500000                 18781.498047  3.831790e+05\n",
      "5382                0.632812                 35712.968750  3.801312e+08\n",
      "8623                0.598214                 26079.105469  3.479882e+08\n",
      "...                      ...                          ...           ...\n",
      "20913319            0.560096                 27559.222656  1.000491e+09\n",
      "20913864            0.333333                 18538.808594  3.227052e+05\n",
      "20938253            0.575701                 22690.800781  2.468541e+08\n",
      "20948951            0.607843                 19966.960938  2.236561e+09\n",
      "20949024            0.312500                 32601.978516  1.052297e+07\n",
      "\n",
      "[3824 rows x 3 columns]\n"
     ]
    }
   ],
   "source": [
    "# Display information by user ID \n",
    "print(pd.pivot_table(train_df, index='user_id', values=['timestamp', 'prior_question_elapsed_time', 'answered_correctly'], aggfunc='mean'))"
   ]
  },
  {
   "cell_type": "markdown",
   "metadata": {
    "papermill": {
     "duration": 0.085946,
     "end_time": "2020-11-16T20:43:40.928681",
     "exception": false,
     "start_time": "2020-11-16T20:43:40.842735",
     "status": "completed"
    },
    "tags": []
   },
   "source": [
    "# Target"
   ]
  },
  {
   "cell_type": "code",
   "execution_count": 60,
   "metadata": {
    "execution": {
     "iopub.execute_input": "2020-11-16T20:43:41.107378Z",
     "iopub.status.busy": "2020-11-16T20:43:41.106750Z",
     "iopub.status.idle": "2020-11-16T20:43:41.253012Z",
     "shell.execute_reply": "2020-11-16T20:43:41.253478Z"
    },
    "papermill": {
     "duration": 0.238355,
     "end_time": "2020-11-16T20:43:41.253647",
     "exception": false,
     "start_time": "2020-11-16T20:43:41.015292",
     "status": "completed"
    },
    "tags": []
   },
   "outputs": [
    {
     "data": {
      "text/plain": [
       "0.6504304256664218"
      ]
     },
     "execution_count": 60,
     "metadata": {},
     "output_type": "execute_result"
    }
   ],
   "source": [
    "(train_df['answered_correctly']==-1).mean()\n",
    "# We should exclude information about lectures.\n",
    "train_df_questions = train_df[train_df['answered_correctly']!=-1]\n",
    "train_df_questions['answered_correctly'].mean()"
   ]
  },
  {
   "cell_type": "code",
   "execution_count": 61,
   "metadata": {
    "execution": {
     "iopub.execute_input": "2020-11-16T20:43:41.434211Z",
     "iopub.status.busy": "2020-11-16T20:43:41.433448Z",
     "iopub.status.idle": "2020-11-16T20:43:41.437147Z",
     "shell.execute_reply": "2020-11-16T20:43:41.437579Z"
    },
    "papermill": {
     "duration": 0.095777,
     "end_time": "2020-11-16T20:43:41.437757",
     "exception": false,
     "start_time": "2020-11-16T20:43:41.341980",
     "status": "completed"
    },
    "tags": []
   },
   "outputs": [
    {
     "data": {
      "text/plain": [
       "'cids = train_df.content_id.value_counts()[:30]\\n\\nfig = plt.figure(figsize=(12,6))\\nax = cids.plot.bar()\\nplt.title(\"Thirty most used content id\\'s\")\\nplt.xticks(rotation=90)\\nax.get_yaxis().set_major_formatter(FuncFormatter(lambda x, p: format(int(x), \\',\\'))) #add thousands separator\\nplt.show()'"
      ]
     },
     "execution_count": 61,
     "metadata": {},
     "output_type": "execute_result"
    }
   ],
   "source": [
    "'''cids = train_df.content_id.value_counts()[:30]\n",
    "\n",
    "fig = plt.figure(figsize=(12,6))\n",
    "ax = cids.plot.bar()\n",
    "plt.title(\"Thirty most used content id's\")\n",
    "plt.xticks(rotation=90)\n",
    "ax.get_yaxis().set_major_formatter(FuncFormatter(lambda x, p: format(int(x), ','))) #add thousands separator\n",
    "plt.show()'''"
   ]
  },
  {
   "cell_type": "code",
   "execution_count": 62,
   "metadata": {
    "execution": {
     "iopub.execute_input": "2020-11-16T20:43:41.617037Z",
     "iopub.status.busy": "2020-11-16T20:43:41.616353Z",
     "iopub.status.idle": "2020-11-16T20:43:41.659075Z",
     "shell.execute_reply": "2020-11-16T20:43:41.658380Z"
    },
    "papermill": {
     "duration": 0.134328,
     "end_time": "2020-11-16T20:43:41.659200",
     "exception": false,
     "start_time": "2020-11-16T20:43:41.524872",
     "status": "completed"
    },
    "tags": []
   },
   "outputs": [],
   "source": [
    "train_df['is_first_question'] = 0\n",
    "\n",
    "train_df.loc[train_df['prior_question_elapsed_time'].isna(),'is_first_question'] = 1\n"
   ]
  },
  {
   "cell_type": "code",
   "execution_count": 63,
   "metadata": {
    "execution": {
     "iopub.execute_input": "2020-11-16T20:43:41.861798Z",
     "iopub.status.busy": "2020-11-16T20:43:41.844545Z",
     "iopub.status.idle": "2020-11-16T20:43:41.866397Z",
     "shell.execute_reply": "2020-11-16T20:43:41.865840Z"
    },
    "papermill": {
     "duration": 0.118002,
     "end_time": "2020-11-16T20:43:41.866513",
     "exception": false,
     "start_time": "2020-11-16T20:43:41.748511",
     "status": "completed"
    },
    "tags": []
   },
   "outputs": [
    {
     "data": {
      "text/html": [
       "<div>\n",
       "<style scoped>\n",
       "    .dataframe tbody tr th:only-of-type {\n",
       "        vertical-align: middle;\n",
       "    }\n",
       "\n",
       "    .dataframe tbody tr th {\n",
       "        vertical-align: top;\n",
       "    }\n",
       "\n",
       "    .dataframe thead th {\n",
       "        text-align: right;\n",
       "    }\n",
       "</style>\n",
       "<table border=\"1\" class=\"dataframe\">\n",
       "  <thead>\n",
       "    <tr style=\"text-align: right;\">\n",
       "      <th></th>\n",
       "      <th>row_id</th>\n",
       "      <th>timestamp</th>\n",
       "      <th>user_id</th>\n",
       "      <th>content_id</th>\n",
       "      <th>content_type_id</th>\n",
       "      <th>task_container_id</th>\n",
       "      <th>user_answer</th>\n",
       "      <th>answered_correctly</th>\n",
       "      <th>prior_question_elapsed_time</th>\n",
       "      <th>prior_question_had_explanation</th>\n",
       "      <th>...</th>\n",
       "      <th>96</th>\n",
       "      <th>12</th>\n",
       "      <th>97</th>\n",
       "      <th>67</th>\n",
       "      <th>55</th>\n",
       "      <th>27</th>\n",
       "      <th>122</th>\n",
       "      <th>79</th>\n",
       "      <th>is_reading_section</th>\n",
       "      <th>is_first_question</th>\n",
       "    </tr>\n",
       "  </thead>\n",
       "  <tbody>\n",
       "    <tr>\n",
       "      <th>0</th>\n",
       "      <td>0</td>\n",
       "      <td>0</td>\n",
       "      <td>115</td>\n",
       "      <td>5692</td>\n",
       "      <td>0</td>\n",
       "      <td>1</td>\n",
       "      <td>3</td>\n",
       "      <td>1</td>\n",
       "      <td>25314.974609</td>\n",
       "      <td>False</td>\n",
       "      <td>...</td>\n",
       "      <td>0.0</td>\n",
       "      <td>0.0</td>\n",
       "      <td>0.0</td>\n",
       "      <td>0.0</td>\n",
       "      <td>0.0</td>\n",
       "      <td>0.0</td>\n",
       "      <td>0.0</td>\n",
       "      <td>0.0</td>\n",
       "      <td>1.0</td>\n",
       "      <td>0</td>\n",
       "    </tr>\n",
       "    <tr>\n",
       "      <th>1</th>\n",
       "      <td>1</td>\n",
       "      <td>56943</td>\n",
       "      <td>115</td>\n",
       "      <td>5716</td>\n",
       "      <td>0</td>\n",
       "      <td>2</td>\n",
       "      <td>2</td>\n",
       "      <td>1</td>\n",
       "      <td>37000.000000</td>\n",
       "      <td>False</td>\n",
       "      <td>...</td>\n",
       "      <td>0.0</td>\n",
       "      <td>0.0</td>\n",
       "      <td>0.0</td>\n",
       "      <td>0.0</td>\n",
       "      <td>0.0</td>\n",
       "      <td>0.0</td>\n",
       "      <td>0.0</td>\n",
       "      <td>0.0</td>\n",
       "      <td>1.0</td>\n",
       "      <td>0</td>\n",
       "    </tr>\n",
       "    <tr>\n",
       "      <th>2</th>\n",
       "      <td>2</td>\n",
       "      <td>118363</td>\n",
       "      <td>115</td>\n",
       "      <td>128</td>\n",
       "      <td>0</td>\n",
       "      <td>0</td>\n",
       "      <td>0</td>\n",
       "      <td>1</td>\n",
       "      <td>55000.000000</td>\n",
       "      <td>False</td>\n",
       "      <td>...</td>\n",
       "      <td>0.0</td>\n",
       "      <td>0.0</td>\n",
       "      <td>0.0</td>\n",
       "      <td>0.0</td>\n",
       "      <td>0.0</td>\n",
       "      <td>0.0</td>\n",
       "      <td>0.0</td>\n",
       "      <td>0.0</td>\n",
       "      <td>0.0</td>\n",
       "      <td>0</td>\n",
       "    </tr>\n",
       "    <tr>\n",
       "      <th>3</th>\n",
       "      <td>3</td>\n",
       "      <td>131167</td>\n",
       "      <td>115</td>\n",
       "      <td>7860</td>\n",
       "      <td>0</td>\n",
       "      <td>3</td>\n",
       "      <td>0</td>\n",
       "      <td>1</td>\n",
       "      <td>19000.000000</td>\n",
       "      <td>False</td>\n",
       "      <td>...</td>\n",
       "      <td>0.0</td>\n",
       "      <td>0.0</td>\n",
       "      <td>0.0</td>\n",
       "      <td>0.0</td>\n",
       "      <td>0.0</td>\n",
       "      <td>0.0</td>\n",
       "      <td>0.0</td>\n",
       "      <td>0.0</td>\n",
       "      <td>0.0</td>\n",
       "      <td>0</td>\n",
       "    </tr>\n",
       "    <tr>\n",
       "      <th>4</th>\n",
       "      <td>4</td>\n",
       "      <td>137965</td>\n",
       "      <td>115</td>\n",
       "      <td>7922</td>\n",
       "      <td>0</td>\n",
       "      <td>4</td>\n",
       "      <td>1</td>\n",
       "      <td>1</td>\n",
       "      <td>11000.000000</td>\n",
       "      <td>False</td>\n",
       "      <td>...</td>\n",
       "      <td>0.0</td>\n",
       "      <td>0.0</td>\n",
       "      <td>0.0</td>\n",
       "      <td>0.0</td>\n",
       "      <td>0.0</td>\n",
       "      <td>0.0</td>\n",
       "      <td>0.0</td>\n",
       "      <td>0.0</td>\n",
       "      <td>0.0</td>\n",
       "      <td>0</td>\n",
       "    </tr>\n",
       "  </tbody>\n",
       "</table>\n",
       "<p>5 rows × 45 columns</p>\n",
       "</div>"
      ],
      "text/plain": [
       "   row_id  timestamp  user_id  content_id  content_type_id  task_container_id  \\\n",
       "0       0          0      115        5692                0                  1   \n",
       "1       1      56943      115        5716                0                  2   \n",
       "2       2     118363      115         128                0                  0   \n",
       "3       3     131167      115        7860                0                  3   \n",
       "4       4     137965      115        7922                0                  4   \n",
       "\n",
       "   user_answer  answered_correctly  prior_question_elapsed_time  \\\n",
       "0            3                   1                 25314.974609   \n",
       "1            2                   1                 37000.000000   \n",
       "2            0                   1                 55000.000000   \n",
       "3            0                   1                 19000.000000   \n",
       "4            1                   1                 11000.000000   \n",
       "\n",
       "   prior_question_had_explanation  ...   96   12   97   67   55   27  122  \\\n",
       "0                           False  ...  0.0  0.0  0.0  0.0  0.0  0.0  0.0   \n",
       "1                           False  ...  0.0  0.0  0.0  0.0  0.0  0.0  0.0   \n",
       "2                           False  ...  0.0  0.0  0.0  0.0  0.0  0.0  0.0   \n",
       "3                           False  ...  0.0  0.0  0.0  0.0  0.0  0.0  0.0   \n",
       "4                           False  ...  0.0  0.0  0.0  0.0  0.0  0.0  0.0   \n",
       "\n",
       "    79  is_reading_section  is_first_question  \n",
       "0  0.0                 1.0                  0  \n",
       "1  0.0                 1.0                  0  \n",
       "2  0.0                 0.0                  0  \n",
       "3  0.0                 0.0                  0  \n",
       "4  0.0                 0.0                  0  \n",
       "\n",
       "[5 rows x 45 columns]"
      ]
     },
     "execution_count": 63,
     "metadata": {},
     "output_type": "execute_result"
    }
   ],
   "source": [
    "train_df.head()"
   ]
  },
  {
   "cell_type": "code",
   "execution_count": 64,
   "metadata": {
    "execution": {
     "iopub.execute_input": "2020-11-16T20:43:42.049776Z",
     "iopub.status.busy": "2020-11-16T20:43:42.049057Z",
     "iopub.status.idle": "2020-11-16T20:43:42.125084Z",
     "shell.execute_reply": "2020-11-16T20:43:42.124372Z"
    },
    "papermill": {
     "duration": 0.170322,
     "end_time": "2020-11-16T20:43:42.125203",
     "exception": false,
     "start_time": "2020-11-16T20:43:41.954881",
     "status": "completed"
    },
    "tags": []
   },
   "outputs": [],
   "source": [
    "user_agg = train_df.groupby('user_id')['answered_correctly'].\\\n",
    "                    agg(['sum', 'count']) #,'mean','median','std'])\n",
    "#train_df['user_sum'] = train_df['user_id'].map(user_agg['sum']).astype('int32')\n",
    "train_df['user_count'] = train_df['user_id'].map(user_agg['count']).astype('int32')\n",
    "train_df['user_nb_mean'] = train_df['user_id'].map(user_agg['sum']/user_agg['count']).astype('int32')\n",
    "#train_df['user_mean'] = train_df['user_id'].map(user_agg['mean']).astype('int32')\n",
    "#train_df['user_median'] = train_df['user_id'].map(user_agg['median']).astype('int32')\n",
    "#train_df['user_std'] = train_df['user_id'].map(user_agg['std']).astype('int32')"
   ]
  },
  {
   "cell_type": "code",
   "execution_count": 65,
   "metadata": {
    "execution": {
     "iopub.execute_input": "2020-11-16T20:43:42.307395Z",
     "iopub.status.busy": "2020-11-16T20:43:42.306781Z",
     "iopub.status.idle": "2020-11-16T20:43:42.377080Z",
     "shell.execute_reply": "2020-11-16T20:43:42.376393Z"
    },
    "papermill": {
     "duration": 0.163373,
     "end_time": "2020-11-16T20:43:42.377201",
     "exception": false,
     "start_time": "2020-11-16T20:43:42.213828",
     "status": "completed"
    },
    "tags": []
   },
   "outputs": [],
   "source": [
    "content_agg = train_df.groupby('content_id')['answered_correctly'].\\\n",
    "                        agg(['sum', 'count']) #'mean', 'median', 'std'\n",
    "train_df['content_count'] = train_df['content_id'].map(content_agg['count']).astype('int32')\n",
    "#train_df['content_sum'] = train_df['content_id'].map(content_agg['sum']).astype('int32')\n",
    "train_df['content_nb_mean'] = train_df['content_id'].map(content_agg['sum'] / content_agg['count'])"
   ]
  },
  {
   "cell_type": "markdown",
   "metadata": {
    "papermill": {
     "duration": 0.087999,
     "end_time": "2020-11-16T20:43:42.554452",
     "exception": false,
     "start_time": "2020-11-16T20:43:42.466453",
     "status": "completed"
    },
    "tags": []
   },
   "source": [
    "# Baseline"
   ]
  },
  {
   "cell_type": "code",
   "execution_count": 66,
   "metadata": {
    "execution": {
     "iopub.execute_input": "2020-11-16T20:43:42.738380Z",
     "iopub.status.busy": "2020-11-16T20:43:42.737502Z",
     "iopub.status.idle": "2020-11-16T20:43:42.741939Z",
     "shell.execute_reply": "2020-11-16T20:43:42.741308Z"
    },
    "papermill": {
     "duration": 0.098798,
     "end_time": "2020-11-16T20:43:42.742053",
     "exception": false,
     "start_time": "2020-11-16T20:43:42.643255",
     "status": "completed"
    },
    "tags": []
   },
   "outputs": [
    {
     "data": {
      "text/plain": [
       "Index(['row_id', 'timestamp', 'user_id', 'content_id', 'content_type_id',\n",
       "       'task_container_id', 'user_answer', 'answered_correctly',\n",
       "       'prior_question_elapsed_time', 'prior_question_had_explanation',\n",
       "       'prior_had_explanation_le', 'timestamp_by_month',\n",
       "       'prior_question_elapsed_time_in_hours', 'question_id', 'bundle_id',\n",
       "       'correct_answer', 'part', 'nb_tags', '92', '38', '81', '29', '136',\n",
       "       '162', '102', '8', '143', '131', '73', '21', '53', '82', '74', '106',\n",
       "       '1', '96', '12', '97', '67', '55', '27', '122', '79',\n",
       "       'is_reading_section', 'is_first_question', 'user_count', 'user_nb_mean',\n",
       "       'content_count', 'content_nb_mean'],\n",
       "      dtype='object')"
      ]
     },
     "execution_count": 66,
     "metadata": {},
     "output_type": "execute_result"
    }
   ],
   "source": [
    "train_df.columns\n"
   ]
  },
  {
   "cell_type": "code",
   "execution_count": 67,
   "metadata": {
    "execution": {
     "iopub.execute_input": "2020-11-16T20:43:42.924042Z",
     "iopub.status.busy": "2020-11-16T20:43:42.923359Z",
     "iopub.status.idle": "2020-11-16T20:43:42.926157Z",
     "shell.execute_reply": "2020-11-16T20:43:42.925506Z"
    },
    "papermill": {
     "duration": 0.095746,
     "end_time": "2020-11-16T20:43:42.926269",
     "exception": false,
     "start_time": "2020-11-16T20:43:42.830523",
     "status": "completed"
    },
    "tags": []
   },
   "outputs": [],
   "source": [
    "from sklearn.preprocessing import StandardScaler\n",
    "sc = StandardScaler()"
   ]
  },
  {
   "cell_type": "code",
   "execution_count": 68,
   "metadata": {
    "execution": {
     "iopub.execute_input": "2020-11-16T20:43:43.114318Z",
     "iopub.status.busy": "2020-11-16T20:43:43.113558Z",
     "iopub.status.idle": "2020-11-16T20:43:44.556002Z",
     "shell.execute_reply": "2020-11-16T20:43:44.555401Z"
    },
    "papermill": {
     "duration": 1.540375,
     "end_time": "2020-11-16T20:43:44.556122",
     "exception": false,
     "start_time": "2020-11-16T20:43:43.015747",
     "status": "completed"
    },
    "tags": []
   },
   "outputs": [],
   "source": [
    "train_df = train_df[train_df['answered_correctly']!= -1]\n",
    "features_bsl = ['timestamp_by_month', 'nb_tags', 'is_first_question',\n",
    "                'prior_had_explanation_le', 'prior_question_elapsed_time_in_hours',\n",
    "                'content_id', 'content_count', 'content_nb_mean',\n",
    "                'user_nb_mean', 'user_count', 'is_reading_section',\n",
    "                '92', '38', '81', '29', '136',\n",
    "                '162', '102', '8', '143', '131']\n",
    "\n",
    "X = train_df[features_bsl]\n",
    "X = sc.fit_transform(X)\n",
    "y = train_df['answered_correctly']\n",
    "\n",
    "from sklearn.model_selection import train_test_split\n",
    "X_train, X_test, y_train, y_test = train_test_split(X, y, test_size=0.20, random_state=1)"
   ]
  },
  {
   "cell_type": "code",
   "execution_count": 69,
   "metadata": {
    "execution": {
     "iopub.execute_input": "2020-11-16T20:43:44.738890Z",
     "iopub.status.busy": "2020-11-16T20:43:44.738177Z",
     "iopub.status.idle": "2020-11-16T20:43:44.778421Z",
     "shell.execute_reply": "2020-11-16T20:43:44.777756Z"
    },
    "papermill": {
     "duration": 0.133033,
     "end_time": "2020-11-16T20:43:44.778562",
     "exception": false,
     "start_time": "2020-11-16T20:43:44.645529",
     "status": "completed"
    },
    "tags": []
   },
   "outputs": [],
   "source": [
    "from lightgbm import LGBMClassifier\n",
    "import lightgbm as lgb"
   ]
  },
  {
   "cell_type": "code",
   "execution_count": 70,
   "metadata": {
    "execution": {
     "iopub.execute_input": "2020-11-16T20:43:44.966910Z",
     "iopub.status.busy": "2020-11-16T20:43:44.966280Z",
     "iopub.status.idle": "2020-11-16T20:43:44.969475Z",
     "shell.execute_reply": "2020-11-16T20:43:44.968928Z"
    },
    "papermill": {
     "duration": 0.099112,
     "end_time": "2020-11-16T20:43:44.969589",
     "exception": false,
     "start_time": "2020-11-16T20:43:44.870477",
     "status": "completed"
    },
    "tags": []
   },
   "outputs": [],
   "source": [
    "def learning_rate_010_decay_power_099(current_iter):\n",
    "    base_learning_rate = 0.1\n",
    "    lr = base_learning_rate  * np.power(.99, current_iter)\n",
    "    return lr if lr > 1e-3 else 1e-3\n",
    "\n",
    "def learning_rate_010_decay_power_0995(current_iter):\n",
    "    base_learning_rate = 0.1\n",
    "    lr = base_learning_rate  * np.power(.995, current_iter)\n",
    "    return lr if lr > 1e-3 else 1e-3\n",
    "\n",
    "def learning_rate_005_decay_power_099(current_iter):\n",
    "    base_learning_rate = 0.05\n",
    "    lr = base_learning_rate  * np.power(.99, current_iter)\n",
    "    return lr if lr > 1e-3 else 1e-3"
   ]
  },
  {
   "cell_type": "code",
   "execution_count": 71,
   "metadata": {
    "execution": {
     "iopub.execute_input": "2020-11-16T20:43:45.153088Z",
     "iopub.status.busy": "2020-11-16T20:43:45.152407Z",
     "iopub.status.idle": "2020-11-16T20:43:45.155312Z",
     "shell.execute_reply": "2020-11-16T20:43:45.154704Z"
    },
    "papermill": {
     "duration": 0.097191,
     "end_time": "2020-11-16T20:43:45.155416",
     "exception": false,
     "start_time": "2020-11-16T20:43:45.058225",
     "status": "completed"
    },
    "tags": []
   },
   "outputs": [],
   "source": [
    "fit_params={\"early_stopping_rounds\":30, \n",
    "            \"eval_metric\" : 'auc', \n",
    "            \"eval_set\" : [(X_test,y_test)],\n",
    "            'eval_names': ['valid'],\n",
    "            #'callbacks': [lgb.reset_parameter(learning_rate=learning_rate_010_decay_power_099)],\n",
    "            'verbose': 100,\n",
    "            'categorical_feature': 'auto'}"
   ]
  },
  {
   "cell_type": "code",
   "execution_count": 72,
   "metadata": {
    "execution": {
     "iopub.execute_input": "2020-11-16T20:43:45.347345Z",
     "iopub.status.busy": "2020-11-16T20:43:45.346479Z",
     "iopub.status.idle": "2020-11-16T20:43:45.349295Z",
     "shell.execute_reply": "2020-11-16T20:43:45.348750Z"
    },
    "papermill": {
     "duration": 0.101655,
     "end_time": "2020-11-16T20:43:45.349404",
     "exception": false,
     "start_time": "2020-11-16T20:43:45.247749",
     "status": "completed"
    },
    "tags": []
   },
   "outputs": [],
   "source": [
    "from scipy.stats import randint as sp_randint\n",
    "from scipy.stats import uniform as sp_uniform\n",
    "param_test ={'num_leaves': sp_randint(6, 50), \n",
    "             'min_child_samples': sp_randint(100, 500), \n",
    "             'min_child_weight': [1e-5, 1e-3, 1e-2, 1e-1, 1, 1e1, 1e2, 1e3, 1e4],\n",
    "             'subsample': sp_uniform(loc=0.2, scale=0.8), \n",
    "             'colsample_bytree': sp_uniform(loc=0.4, scale=0.6),\n",
    "             'reg_alpha': [0, 1e-1, 1, 2, 5, 7, 10, 50, 100],\n",
    "             'reg_lambda': [0, 1e-1, 1, 5, 10, 20, 50, 100]}"
   ]
  },
  {
   "cell_type": "code",
   "execution_count": 73,
   "metadata": {
    "execution": {
     "iopub.execute_input": "2020-11-16T20:43:45.534167Z",
     "iopub.status.busy": "2020-11-16T20:43:45.533496Z",
     "iopub.status.idle": "2020-11-16T20:43:45.536287Z",
     "shell.execute_reply": "2020-11-16T20:43:45.535677Z"
    },
    "papermill": {
     "duration": 0.097695,
     "end_time": "2020-11-16T20:43:45.536393",
     "exception": false,
     "start_time": "2020-11-16T20:43:45.438698",
     "status": "completed"
    },
    "tags": []
   },
   "outputs": [],
   "source": [
    "#This parameter defines the number of HP points to be tested\n",
    "n_HP_points_to_test = 100\n",
    "\n",
    "from sklearn.model_selection import RandomizedSearchCV, GridSearchCV\n",
    "\n",
    "#n_estimators is set to a \"large value\". The actual number of trees build will depend on early stopping and 5000 define only the absolute maximum\n",
    "clf = lgb.LGBMClassifier(max_depth=7, random_state=1, metric='None', n_jobs=4, n_estimators=200)\n",
    "gs = RandomizedSearchCV(\n",
    "    estimator=clf, param_distributions=param_test, \n",
    "    n_iter=n_HP_points_to_test,\n",
    "    scoring='roc_auc',\n",
    "    cv=3,\n",
    "    refit=True,\n",
    "    random_state=1,\n",
    "    verbose=True)"
   ]
  },
  {
   "cell_type": "code",
   "execution_count": 74,
   "metadata": {
    "execution": {
     "iopub.execute_input": "2020-11-16T20:43:45.725369Z",
     "iopub.status.busy": "2020-11-16T20:43:45.724471Z",
     "iopub.status.idle": "2020-11-16T20:43:45.727696Z",
     "shell.execute_reply": "2020-11-16T20:43:45.727042Z"
    },
    "papermill": {
     "duration": 0.100364,
     "end_time": "2020-11-16T20:43:45.727815",
     "exception": false,
     "start_time": "2020-11-16T20:43:45.627451",
     "status": "completed"
    },
    "tags": []
   },
   "outputs": [],
   "source": [
    "#gs.fit(X_train, y_train, **fit_params)\n",
    "#print('Best score reached: {} with params: {} '.format(gs.best_score_, gs.best_params_))"
   ]
  },
  {
   "cell_type": "markdown",
   "metadata": {
    "papermill": {
     "duration": 0.088895,
     "end_time": "2020-11-16T20:43:45.905801",
     "exception": false,
     "start_time": "2020-11-16T20:43:45.816906",
     "status": "completed"
    },
    "tags": []
   },
   "source": [
    "Best score reached: 0.7514851143810443 with params: {'colsample_bytree': 0.9080972808940212, 'min_child_samples': 343, 'min_child_weight': 0.01, 'num_leaves': 42, 'reg_alpha': 5, 'reg_lambda': 0, 'subsample': 0.863184719640143} "
   ]
  },
  {
   "cell_type": "code",
   "execution_count": 75,
   "metadata": {
    "execution": {
     "iopub.execute_input": "2020-11-16T20:43:46.089403Z",
     "iopub.status.busy": "2020-11-16T20:43:46.088424Z",
     "iopub.status.idle": "2020-11-16T20:43:46.112815Z",
     "shell.execute_reply": "2020-11-16T20:43:46.112163Z"
    },
    "papermill": {
     "duration": 0.118339,
     "end_time": "2020-11-16T20:43:46.112928",
     "exception": false,
     "start_time": "2020-11-16T20:43:45.994589",
     "status": "completed"
    },
    "tags": []
   },
   "outputs": [
    {
     "data": {
      "text/plain": [
       "count    979147.000000\n",
       "mean          0.650430\n",
       "std           0.476834\n",
       "min           0.000000\n",
       "25%           0.000000\n",
       "50%           1.000000\n",
       "75%           1.000000\n",
       "max           1.000000\n",
       "Name: answered_correctly, dtype: float64"
      ]
     },
     "execution_count": 75,
     "metadata": {},
     "output_type": "execute_result"
    }
   ],
   "source": [
    "y.describe()"
   ]
  },
  {
   "cell_type": "code",
   "execution_count": 76,
   "metadata": {
    "execution": {
     "iopub.execute_input": "2020-11-16T20:43:46.300311Z",
     "iopub.status.busy": "2020-11-16T20:43:46.299717Z",
     "iopub.status.idle": "2020-11-16T20:43:46.302850Z",
     "shell.execute_reply": "2020-11-16T20:43:46.302235Z"
    },
    "papermill": {
     "duration": 0.099534,
     "end_time": "2020-11-16T20:43:46.302959",
     "exception": false,
     "start_time": "2020-11-16T20:43:46.203425",
     "status": "completed"
    },
    "tags": []
   },
   "outputs": [],
   "source": [
    "clf = lgb.LGBMClassifier(max_depth=7, \n",
    "                         random_state=1, metric='None', \n",
    "                         n_jobs=4, n_estimators=200)\n",
    "\n",
    "\n",
    "params = {\n",
    "    #'bagging_fraction': 0.5817242323514327,\n",
    "    'feature_fraction': 0.6884588361650144,\n",
    "    #'learning_rate': 0.42887924851375825, \n",
    "    'learning_rate': 0.4, \n",
    "    'max_depth': 7,\n",
    "    'min_child_samples': 100, \n",
    "    'min_child_weight': 0.01,\n",
    "    'min_data_in_leaf': 20, \n",
    "    'n_estimators': 200,\n",
    "    'n_job': 4,\n",
    "    'num_leaves': 42,\n",
    "    'random_state': 1,\n",
    "    'reg_alpha': 5, \n",
    "    'reg_lambda': 0,\n",
    "    'subsample': 0.863184719640143\n",
    "    \n",
    "    \n",
    "}\n",
    "lgbm = LGBMClassifier( **params)"
   ]
  },
  {
   "cell_type": "code",
   "execution_count": 77,
   "metadata": {
    "execution": {
     "iopub.execute_input": "2020-11-16T20:43:46.535054Z",
     "iopub.status.busy": "2020-11-16T20:43:46.534158Z",
     "iopub.status.idle": "2020-11-16T20:43:46.538489Z",
     "shell.execute_reply": "2020-11-16T20:43:46.537846Z"
    },
    "papermill": {
     "duration": 0.144608,
     "end_time": "2020-11-16T20:43:46.538620",
     "exception": false,
     "start_time": "2020-11-16T20:43:46.394012",
     "status": "completed"
    },
    "tags": []
   },
   "outputs": [
    {
     "data": {
      "text/plain": [
       "(979147, 21)"
      ]
     },
     "execution_count": 77,
     "metadata": {},
     "output_type": "execute_result"
    }
   ],
   "source": [
    "train_df[features_bsl].shape"
   ]
  },
  {
   "cell_type": "code",
   "execution_count": 78,
   "metadata": {
    "execution": {
     "iopub.execute_input": "2020-11-16T20:43:46.768686Z",
     "iopub.status.busy": "2020-11-16T20:43:46.761730Z",
     "iopub.status.idle": "2020-11-16T20:43:57.015868Z",
     "shell.execute_reply": "2020-11-16T20:43:57.016919Z"
    },
    "papermill": {
     "duration": 10.387891,
     "end_time": "2020-11-16T20:43:57.017109",
     "exception": false,
     "start_time": "2020-11-16T20:43:46.629218",
     "status": "completed"
    },
    "tags": []
   },
   "outputs": [
    {
     "data": {
      "text/plain": [
       "LGBMClassifier(feature_fraction=0.6884588361650144, learning_rate=0.4,\n",
       "               max_depth=7, min_child_samples=100, min_child_weight=0.01,\n",
       "               min_data_in_leaf=20, n_estimators=200, n_job=4, num_leaves=42,\n",
       "               random_state=1, reg_alpha=5, reg_lambda=0,\n",
       "               subsample=0.863184719640143)"
      ]
     },
     "execution_count": 78,
     "metadata": {},
     "output_type": "execute_result"
    }
   ],
   "source": [
    "lgbm.fit(train_df[features_bsl], y)"
   ]
  },
  {
   "cell_type": "code",
   "execution_count": 79,
   "metadata": {
    "execution": {
     "iopub.execute_input": "2020-11-16T20:43:57.310050Z",
     "iopub.status.busy": "2020-11-16T20:43:57.308450Z",
     "iopub.status.idle": "2020-11-16T20:44:00.985524Z",
     "shell.execute_reply": "2020-11-16T20:44:00.984914Z"
    },
    "papermill": {
     "duration": 3.833392,
     "end_time": "2020-11-16T20:44:00.985657",
     "exception": false,
     "start_time": "2020-11-16T20:43:57.152265",
     "status": "completed"
    },
    "tags": []
   },
   "outputs": [
    {
     "data": {
      "text/plain": [
       "0.7685089391656348"
      ]
     },
     "execution_count": 79,
     "metadata": {},
     "output_type": "execute_result"
    }
   ],
   "source": [
    "from sklearn.metrics import roc_auc_score\n",
    "roc_auc_score(y.values, lgbm.predict_proba(train_df[features_bsl])[:,1])"
   ]
  },
  {
   "cell_type": "code",
   "execution_count": 80,
   "metadata": {
    "execution": {
     "iopub.execute_input": "2020-11-16T20:44:01.188912Z",
     "iopub.status.busy": "2020-11-16T20:44:01.187884Z",
     "iopub.status.idle": "2020-11-16T20:44:01.421647Z",
     "shell.execute_reply": "2020-11-16T20:44:01.421141Z"
    },
    "papermill": {
     "duration": 0.344291,
     "end_time": "2020-11-16T20:44:01.421766",
     "exception": false,
     "start_time": "2020-11-16T20:44:01.077475",
     "status": "completed"
    },
    "tags": []
   },
   "outputs": [
    {
     "data": {
      "image/png": "[encoded data removed]",
      "text/plain": [
       "<Figure size 432x288 with 1 Axes>"
      ]
     },
     "metadata": {
      "needs_background": "light"
     },
     "output_type": "display_data"
    }
   ],
   "source": [
    "#displaying the most important features\n",
    "lgb.plot_importance(lgbm)\n",
    "plt.show()"
   ]
  },
  {
   "cell_type": "code",
   "execution_count": 81,
   "metadata": {
    "execution": {
     "iopub.execute_input": "2020-11-16T20:44:01.610378Z",
     "iopub.status.busy": "2020-11-16T20:44:01.609755Z",
     "iopub.status.idle": "2020-11-16T20:44:01.618568Z",
     "shell.execute_reply": "2020-11-16T20:44:01.619051Z"
    },
    "papermill": {
     "duration": 0.105231,
     "end_time": "2020-11-16T20:44:01.619210",
     "exception": false,
     "start_time": "2020-11-16T20:44:01.513979",
     "status": "completed"
    },
    "tags": []
   },
   "outputs": [],
   "source": [
    "import riiideducation\n",
    "import pandas as pd\n",
    "\n",
    "# You can only call make_env() once, so don't lose it!\n",
    "env = riiideducation.make_env()"
   ]
  },
  {
   "cell_type": "code",
   "execution_count": 82,
   "metadata": {
    "execution": {
     "iopub.execute_input": "2020-11-16T20:44:01.810998Z",
     "iopub.status.busy": "2020-11-16T20:44:01.809953Z",
     "iopub.status.idle": "2020-11-16T20:44:01.817816Z",
     "shell.execute_reply": "2020-11-16T20:44:01.817094Z"
    },
    "papermill": {
     "duration": 0.10648,
     "end_time": "2020-11-16T20:44:01.817973",
     "exception": false,
     "start_time": "2020-11-16T20:44:01.711493",
     "status": "completed"
    },
    "tags": []
   },
   "outputs": [
    {
     "name": "stdout",
     "output_type": "stream",
     "text": [
      "/kaggle/input/riiid-test-answer-prediction/lectures.csv\n",
      "/kaggle/input/riiid-test-answer-prediction/example_sample_submission.csv\n",
      "/kaggle/input/riiid-test-answer-prediction/example_test.csv\n",
      "/kaggle/input/riiid-test-answer-prediction/questions.csv\n",
      "/kaggle/input/riiid-test-answer-prediction/train.csv\n",
      "/kaggle/input/riiid-test-answer-prediction/riiideducation/__init__.py\n",
      "/kaggle/input/riiid-test-answer-prediction/riiideducation/competition.cpython-37m-x86_64-linux-gnu.so\n"
     ]
    }
   ],
   "source": [
    "import os\n",
    "for dirname, _, filenames in os.walk('/kaggle/input'):\n",
    "    for filename in filenames:\n",
    "        print(os.path.join(dirname, filename))"
   ]
  },
  {
   "cell_type": "code",
   "execution_count": 83,
   "metadata": {
    "execution": {
     "iopub.execute_input": "2020-11-16T20:44:02.022920Z",
     "iopub.status.busy": "2020-11-16T20:44:02.021923Z",
     "iopub.status.idle": "2020-11-16T20:44:02.024926Z",
     "shell.execute_reply": "2020-11-16T20:44:02.024275Z"
    },
    "papermill": {
     "duration": 0.113715,
     "end_time": "2020-11-16T20:44:02.025040",
     "exception": false,
     "start_time": "2020-11-16T20:44:01.911325",
     "status": "completed"
    },
    "tags": []
   },
   "outputs": [],
   "source": [
    "from collections import defaultdict\n",
    "user_sum_dict = user_agg['sum'].astype('int16').to_dict(defaultdict(int))\n",
    "user_count_dict = user_agg['count'].astype('int16').to_dict(defaultdict(int))\n",
    "content_sum_dict = content_agg['sum'].astype('int32').to_dict(defaultdict(int))\n",
    "content_count_dict = content_agg['count'].astype('int32').to_dict(defaultdict(int))"
   ]
  },
  {
   "cell_type": "code",
   "execution_count": 84,
   "metadata": {
    "execution": {
     "iopub.execute_input": "2020-11-16T20:44:02.328545Z",
     "iopub.status.busy": "2020-11-16T20:44:02.323370Z",
     "iopub.status.idle": "2020-11-16T20:44:02.760095Z",
     "shell.execute_reply": "2020-11-16T20:44:02.759396Z"
    },
    "papermill": {
     "duration": 0.640237,
     "end_time": "2020-11-16T20:44:02.760211",
     "exception": false,
     "start_time": "2020-11-16T20:44:02.119974",
     "status": "completed"
    },
    "tags": []
   },
   "outputs": [
    {
     "name": "stderr",
     "output_type": "stream",
     "text": [
      "/opt/conda/lib/python3.7/site-packages/ipykernel_launcher.py:32: RuntimeWarning: invalid value encountered in true_divide\n",
      "/opt/conda/lib/python3.7/site-packages/ipykernel_launcher.py:32: RuntimeWarning: invalid value encountered in true_divide\n",
      "/opt/conda/lib/python3.7/site-packages/ipykernel_launcher.py:32: RuntimeWarning: invalid value encountered in true_divide\n",
      "/opt/conda/lib/python3.7/site-packages/ipykernel_launcher.py:32: RuntimeWarning: invalid value encountered in true_divide\n"
     ]
    }
   ],
   "source": [
    "iter_test = env.iter_test()\n",
    "\n",
    "for (test_df, sample_prediction_df) in iter_test:\n",
    "    \n",
    "    test_df['is_first_question'] = 0\n",
    "    \n",
    "    test_df.loc[test_df['prior_question_had_explanation'].isna(),'is_first_question'] = 1\n",
    "    \n",
    "    test_df['prior_question_had_explanation'].fillna(False, inplace=True)\n",
    "    test_df.loc[test_df[\"prior_question_had_explanation\"]== True, \"prior_had_explanation_le\"] = 1\n",
    "    test_df.loc[test_df[\"prior_question_had_explanation\"]== False, \"prior_had_explanation_le\"] = 0\n",
    "    \n",
    "    prior_question_elapsed_time_mean = test_df[~test_df['prior_question_elapsed_time'].isna()]['prior_question_elapsed_time'].mean()\n",
    "    test_df['prior_question_elapsed_time'].fillna(prior_question_elapsed_time_mean, inplace=True)\n",
    "    \n",
    "    \n",
    "    test_df = pd.merge(test_df,questions_df, how='left', left_on='content_id', right_on='question_id').sort_values('row_id')\n",
    "    test_df = test_df.sort_values(['user_id','timestamp'], ascending=False)\n",
    "    \n",
    "    user_sum = np.zeros(len(test_df), dtype=np.int16)\n",
    "    user_count = np.zeros(len(test_df), dtype=np.int16)\n",
    "    content_sum = np.zeros(len(test_df), dtype=np.int32)\n",
    "    content_count = np.zeros(len(test_df), dtype=np.int32)\n",
    "    for i, (user_id, content_id) in enumerate(zip(test_df['user_id'].values, test_df['content_id'].values)):\n",
    "        user_sum[i] = user_sum_dict[user_id]\n",
    "        user_count[i] = user_count_dict[user_id]\n",
    "        content_sum[i] = content_sum_dict[content_id]\n",
    "        content_count[i] = content_count_dict[content_id]\n",
    "\n",
    "    test_df['user_count'] = user_count\n",
    "    test_df['user_sum'] = user_sum\n",
    "    test_df['user_nb_mean'] = user_sum/user_count\n",
    "    \n",
    "    # New user ? Pas encore de réponses ?\n",
    "    test_df['content_count'] = content_count\n",
    "    test_df['content_nb_mean'] = content_sum/content_count\n",
    "    \n",
    "    test_df['prior_question_elapsed_time_in_hours'] = test_df['prior_question_elapsed_time']/1000/60/60\n",
    "    test_df['timestamp_by_month'] = test_df['timestamp']/nbMillisecByMonth\n",
    "    \n",
    "    \n",
    "    test_df['answered_correctly'] =  lgbm.predict(test_df[features_bsl])\n",
    "    env.predict(test_df.loc[test_df['content_type_id'] == 0, ['row_id', 'answered_correctly']])"
   ]
  },
  {
   "cell_type": "code",
   "execution_count": null,
   "metadata": {
    "papermill": {
     "duration": 0.092898,
     "end_time": "2020-11-16T20:44:02.947588",
     "exception": false,
     "start_time": "2020-11-16T20:44:02.854690",
     "status": "completed"
    },
    "tags": []
   },
   "outputs": [],
   "source": []
  }
 ],
 "metadata": {
  "kernelspec": {
   "display_name": "Python 3",
   "language": "python",
   "name": "python3"
  },
  "language_info": {
   "codemirror_mode": {
    "name": "ipython",
    "version": 3
   },
   "file_extension": ".py",
   "mimetype": "text/x-python",
   "name": "python",
   "nbconvert_exporter": "python",
   "pygments_lexer": "ipython3",
   "version": "3.7.6"
  },
  "papermill": {
   "duration": 55.388247,
   "end_time": "2020-11-16T20:44:03.148344",
   "environment_variables": {},
   "exception": null,
   "input_path": "__notebook__.ipynb",
   "output_path": "__notebook__.ipynb",
   "parameters": {},
   "start_time": "2020-11-16T20:43:07.760097",
   "version": "2.1.0"
  }
 },
 "nbformat": 4,
 "nbformat_minor": 4
}
